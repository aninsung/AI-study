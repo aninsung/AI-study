{
 "cells": [
  {
   "cell_type": "markdown",
   "id": "ca0c8571-e8c3-459e-bda7-1da563f4a7ec",
   "metadata": {},
   "source": [
    "## TensorFlow를 사용하여 현재 시스템에서 GPU를 사용할 수 있는지 확인하고, 사용할 수 있다면 GPU 디바이스 정보를 출력하는 코드"
   ]
  },
  {
   "cell_type": "code",
   "execution_count": 1,
   "id": "cd74139d-571b-4dc7-a266-23c67e79fae1",
   "metadata": {},
   "outputs": [
    {
     "name": "stdout",
     "output_type": "stream",
     "text": [
      "GPU를 사용할 수 있습니다.\n",
      "GPU 디바이스: PhysicalDevice(name='/physical_device:GPU:0', device_type='GPU')\n"
     ]
    }
   ],
   "source": [
    "import tensorflow as tf\n",
    "\n",
    "# GPU를 사용할 수 있는지 확인\n",
    "gpu_available = tf.config.list_physical_devices('GPU')\n",
    "\n",
    "if gpu_available:\n",
    "    print(\"GPU를 사용할 수 있습니다.\")\n",
    "    # GPU 디바이스 정보 출력\n",
    "    for gpu in gpu_available:\n",
    "        print(\"GPU 디바이스:\", gpu)\n",
    "else:\n",
    "    print(\"GPU를 사용할 수 없습니다.\")"
   ]
  },
  {
   "cell_type": "code",
   "execution_count": 2,
   "id": "101958af-68d9-4464-9d8d-46cb6dfa8f6c",
   "metadata": {},
   "outputs": [],
   "source": [
    "import numpy as np\n",
    "import tensorflow as tf\n",
    "from tensorflow import keras\n",
    "\n",
    "import pandas as pd\n",
    "import seaborn as sns\n",
    "from pylab import rcParams\n",
    "import matplotlib.pyplot as plt\n",
    "from matplotlib import rc\n",
    "from pandas.plotting import register_matplotlib_converters\n",
    "from sklearn.model_selection import train_test_split\n",
    "from sklearn.metrics import precision_score, recall_score, f1_score\n",
    "\n",
    "from pandas import read_csv, unique\n",
    "\n",
    "import numpy as np\n",
    "import pandas as pd\n",
    "\n",
    "from scipy.interpolate import interp1d\n",
    "from scipy.stats import mode\n",
    "\n",
    "from sklearn.preprocessing import LabelEncoder\n",
    "from sklearn.metrics import classification_report, confusion_matrix, ConfusionMatrixDisplay\n",
    "\n",
    "from tensorflow import stack\n",
    "from tensorflow.keras.utils import to_categorical\n",
    "from keras.models import Sequential\n",
    "from tensorflow.keras.layers import Bidirectional, LSTM, Dropout, Dense\n",
    "from keras.layers import Dense, GlobalAveragePooling1D, BatchNormalization, MaxPool1D, Reshape, Activation\n",
    "from tensorflow.keras.layers import Conv1D, Flatten, Reshape, MaxPooling1D\n",
    "from keras.callbacks import ModelCheckpoint, EarlyStopping\n",
    "import matplotlib.pyplot as plt\n",
    "from imblearn.over_sampling import SMOTE\n",
    "from keras import layers"
   ]
  },
  {
   "cell_type": "markdown",
   "id": "34225c70-dff1-42ac-9350-80cc1b953ac3",
   "metadata": {},
   "source": [
    "## 파일 경로 및 파일명 리스트 설정:\n",
    "#### 파일 경로와 파일명 리스트를 설정합니다. 이 리스트는 불러올 파일들의 이름을 담고 있습니다.\n",
    "\n",
    "## 데이터프레임을 저장할 빈 리스트 생성:\n",
    "#### 여러 파일로부터 읽어온 데이터를 저장할 빈 리스트를 생성합니다.\n",
    "\n",
    "## 각 파일을 읽어와 데이터프레임 리스트에 추가:\n",
    "#### filename 리스트를 반복하며 각 파일을 읽어옵니다.\n",
    "#### pd.read_csv를 사용하여 공백으로 구분된 텍스트 파일을 데이터프레임으로 읽어옵니다.\n",
    "#### filename에서 사용자의 번호를 추출하여 User_Number라는 새로운 열로 추가합니다.\n",
    "#### 읽어온 데이터프레임을 dfs 리스트에 추가합니다.\n",
    "\n",
    "## 모든 데이터프레임을 하나로 병합:\n",
    "#### pd.concat을 사용하여 dfs 리스트에 있는 모든 데이터프레임을 하나의 데이터프레임으로 병합합니다.\n",
    "#### ignore_index=True 옵션을 사용하여 인덱스를 무시하고 새로운 인덱스를 할당합니다.\n",
    "\n",
    "## 열 이름 설정:\n",
    "#### 각 열의 이름을 설정합니다. 열 이름을 문자열로 설정하고, split 메서드를 사용하여 리스트로 변환합니다.\n",
    "#### 데이터프레임의 열 이름을 설정합니다.\n",
    "\n",
    "## 데이터프레임 출력:\n",
    "#### 최종 데이터프레임을 출력합니다."
   ]
  },
  {
   "cell_type": "code",
   "execution_count": 3,
   "id": "5059643d-5ec6-41b3-9af4-dae06df48818",
   "metadata": {},
   "outputs": [
    {
     "name": "stdout",
     "output_type": "stream",
     "text": [
      "              TS   Ankel_1  Ankel_2  Ankel_3  Thigh_1  Thigh_2  Thigh_3  \\\n",
      "0             15        70       39     -970        0        0        0   \n",
      "1             31        70       39     -970        0        0        0   \n",
      "2             46        60       49     -960        0        0        0   \n",
      "3             62        60       49     -960        0        0        0   \n",
      "4             78        50       39     -960        0        0        0   \n",
      "...          ...       ...      ...      ...      ...      ...      ...   \n",
      "1917882  3020296      -131      107     -960        0        0        0   \n",
      "1917883  3020312      -121      127     -970        0        0        0   \n",
      "1917884  3020328      -141      117     -960        0        0        0   \n",
      "1917885  3020343      -131      127     -980        0        0        0   \n",
      "1917886  3020359      -141        0        0        0        0        0   \n",
      "\n",
      "         Trunk_1  Trunk_2  Trunk_3  status  User_Number  \n",
      "0              0        0        0       0            1  \n",
      "1              0        0        0       0            1  \n",
      "2              0        0        0       0            1  \n",
      "3              0        0        0       0            1  \n",
      "4              0        0        0       0            1  \n",
      "...          ...      ...      ...     ...          ...  \n",
      "1917882        0        0        0       0           10  \n",
      "1917883        0        0        0       0           10  \n",
      "1917884        0        0        0       0           10  \n",
      "1917885        0        0        0       0           10  \n",
      "1917886        0        0        0       0           10  \n",
      "\n",
      "[1917887 rows x 12 columns]\n"
     ]
    }
   ],
   "source": [
    "import pandas as pd\n",
    "\n",
    "filepath = 'C:/Users/GACHON/Desktop/AiStudy/data/Dataset/'\n",
    "# Load all 9 files as a list\n",
    "filenames = [\n",
    "    'S01R01.txt', 'S01R02.txt', 'S02R01.txt', 'S02R02.txt', 'S03R01.txt', 'S03R02.txt',\n",
    "    'S03R03.txt', 'S04R01.txt', 'S05R01.txt', 'S05R02.txt', 'S06R01.txt', 'S06R02.txt',\n",
    "    'S07R01.txt', 'S07R02.txt', 'S08R01.txt', 'S09R01.txt', 'S10R01.txt'\n",
    "]\n",
    "\n",
    "# Create an empty list to store DataFrames\n",
    "dfs = []\n",
    "\n",
    "# Iterate over each filename, load the CSV file, and append the DataFrame to the list\n",
    "for filename in filenames:\n",
    "    df = pd.read_csv(filepath + filename, sep=\"\\s+\", header=None)\n",
    "    user_number = int(filename[1:3])\n",
    "    df['User_Number'] = user_number\n",
    "    dfs.append(df)\n",
    "\n",
    "# Concatenate all DataFrames in the list into a single DataFrame\n",
    "df = pd.concat(dfs, ignore_index=True)\n",
    "\n",
    "# Set column names\n",
    "columns = \"TS, Ankel_1,Ankel_2,Ankel_3,Thigh_1,Thigh_2,Thigh_3,Trunk_1,Trunk_2,Trunk_3,status,User_Number\".split(\",\")\n",
    "df.columns = columns\n",
    "\n",
    "print(df)"
   ]
  },
  {
   "cell_type": "code",
   "execution_count": 4,
   "id": "2d255140-39e6-459a-8adb-efd15e39ff73",
   "metadata": {},
   "outputs": [
    {
     "data": {
      "text/html": [
       "<div>\n",
       "<style scoped>\n",
       "    .dataframe tbody tr th:only-of-type {\n",
       "        vertical-align: middle;\n",
       "    }\n",
       "\n",
       "    .dataframe tbody tr th {\n",
       "        vertical-align: top;\n",
       "    }\n",
       "\n",
       "    .dataframe thead th {\n",
       "        text-align: right;\n",
       "    }\n",
       "</style>\n",
       "<table border=\"1\" class=\"dataframe\">\n",
       "  <thead>\n",
       "    <tr style=\"text-align: right;\">\n",
       "      <th></th>\n",
       "      <th>TS</th>\n",
       "      <th>Ankel_1</th>\n",
       "      <th>Ankel_2</th>\n",
       "      <th>Ankel_3</th>\n",
       "      <th>Thigh_1</th>\n",
       "      <th>Thigh_2</th>\n",
       "      <th>Thigh_3</th>\n",
       "      <th>Trunk_1</th>\n",
       "      <th>Trunk_2</th>\n",
       "      <th>Trunk_3</th>\n",
       "      <th>status</th>\n",
       "      <th>User_Number</th>\n",
       "    </tr>\n",
       "  </thead>\n",
       "  <tbody>\n",
       "    <tr>\n",
       "      <th>0</th>\n",
       "      <td>15</td>\n",
       "      <td>70</td>\n",
       "      <td>39</td>\n",
       "      <td>-970</td>\n",
       "      <td>0</td>\n",
       "      <td>0</td>\n",
       "      <td>0</td>\n",
       "      <td>0</td>\n",
       "      <td>0</td>\n",
       "      <td>0</td>\n",
       "      <td>0</td>\n",
       "      <td>1</td>\n",
       "    </tr>\n",
       "    <tr>\n",
       "      <th>1</th>\n",
       "      <td>31</td>\n",
       "      <td>70</td>\n",
       "      <td>39</td>\n",
       "      <td>-970</td>\n",
       "      <td>0</td>\n",
       "      <td>0</td>\n",
       "      <td>0</td>\n",
       "      <td>0</td>\n",
       "      <td>0</td>\n",
       "      <td>0</td>\n",
       "      <td>0</td>\n",
       "      <td>1</td>\n",
       "    </tr>\n",
       "    <tr>\n",
       "      <th>2</th>\n",
       "      <td>46</td>\n",
       "      <td>60</td>\n",
       "      <td>49</td>\n",
       "      <td>-960</td>\n",
       "      <td>0</td>\n",
       "      <td>0</td>\n",
       "      <td>0</td>\n",
       "      <td>0</td>\n",
       "      <td>0</td>\n",
       "      <td>0</td>\n",
       "      <td>0</td>\n",
       "      <td>1</td>\n",
       "    </tr>\n",
       "    <tr>\n",
       "      <th>3</th>\n",
       "      <td>62</td>\n",
       "      <td>60</td>\n",
       "      <td>49</td>\n",
       "      <td>-960</td>\n",
       "      <td>0</td>\n",
       "      <td>0</td>\n",
       "      <td>0</td>\n",
       "      <td>0</td>\n",
       "      <td>0</td>\n",
       "      <td>0</td>\n",
       "      <td>0</td>\n",
       "      <td>1</td>\n",
       "    </tr>\n",
       "    <tr>\n",
       "      <th>4</th>\n",
       "      <td>78</td>\n",
       "      <td>50</td>\n",
       "      <td>39</td>\n",
       "      <td>-960</td>\n",
       "      <td>0</td>\n",
       "      <td>0</td>\n",
       "      <td>0</td>\n",
       "      <td>0</td>\n",
       "      <td>0</td>\n",
       "      <td>0</td>\n",
       "      <td>0</td>\n",
       "      <td>1</td>\n",
       "    </tr>\n",
       "  </tbody>\n",
       "</table>\n",
       "</div>"
      ],
      "text/plain": [
       "   TS   Ankel_1  Ankel_2  Ankel_3  Thigh_1  Thigh_2  Thigh_3  Trunk_1  \\\n",
       "0  15        70       39     -970        0        0        0        0   \n",
       "1  31        70       39     -970        0        0        0        0   \n",
       "2  46        60       49     -960        0        0        0        0   \n",
       "3  62        60       49     -960        0        0        0        0   \n",
       "4  78        50       39     -960        0        0        0        0   \n",
       "\n",
       "   Trunk_2  Trunk_3  status  User_Number  \n",
       "0        0        0       0            1  \n",
       "1        0        0       0            1  \n",
       "2        0        0       0            1  \n",
       "3        0        0       0            1  \n",
       "4        0        0       0            1  "
      ]
     },
     "execution_count": 4,
     "metadata": {},
     "output_type": "execute_result"
    }
   ],
   "source": [
    "df.head()"
   ]
  },
  {
   "cell_type": "markdown",
   "id": "74a8a5da-5bce-4fa0-af43-671dfa6db559",
   "metadata": {},
   "source": [
    "#### 데이터프레임의 구조를 요약하여 표시합니다. 이를 통해 데이터프레임의 열, 데이터 타입, 누락된 값의 수 등 중요한 정보를 확인할 수 있습니다."
   ]
  },
  {
   "cell_type": "code",
   "execution_count": 5,
   "id": "177f258c-c230-4013-a239-5e2df37d3c08",
   "metadata": {},
   "outputs": [
    {
     "name": "stdout",
     "output_type": "stream",
     "text": [
      "<class 'pandas.core.frame.DataFrame'>\n",
      "RangeIndex: 1917887 entries, 0 to 1917886\n",
      "Data columns (total 12 columns):\n",
      " #   Column       Dtype\n",
      "---  ------       -----\n",
      " 0   TS           int64\n",
      " 1    Ankel_1     int64\n",
      " 2   Ankel_2      int64\n",
      " 3   Ankel_3      int64\n",
      " 4   Thigh_1      int64\n",
      " 5   Thigh_2      int64\n",
      " 6   Thigh_3      int64\n",
      " 7   Trunk_1      int64\n",
      " 8   Trunk_2      int64\n",
      " 9   Trunk_3      int64\n",
      " 10  status       int64\n",
      " 11  User_Number  int64\n",
      "dtypes: int64(12)\n",
      "memory usage: 175.6 MB\n"
     ]
    }
   ],
   "source": [
    "df.info()"
   ]
  },
  {
   "cell_type": "markdown",
   "id": "94eaed14-6998-47ec-9548-9f103780c440",
   "metadata": {},
   "source": [
    "#### 데이터프레임의 각 열에 대한 요약 통계를 제공"
   ]
  },
  {
   "cell_type": "code",
   "execution_count": 6,
   "id": "103af8d7-7498-41bb-8a4a-1e1a617fa722",
   "metadata": {},
   "outputs": [
    {
     "data": {
      "text/html": [
       "<div>\n",
       "<style scoped>\n",
       "    .dataframe tbody tr th:only-of-type {\n",
       "        vertical-align: middle;\n",
       "    }\n",
       "\n",
       "    .dataframe tbody tr th {\n",
       "        vertical-align: top;\n",
       "    }\n",
       "\n",
       "    .dataframe thead th {\n",
       "        text-align: right;\n",
       "    }\n",
       "</style>\n",
       "<table border=\"1\" class=\"dataframe\">\n",
       "  <thead>\n",
       "    <tr style=\"text-align: right;\">\n",
       "      <th></th>\n",
       "      <th>TS</th>\n",
       "      <th>Ankel_1</th>\n",
       "      <th>Ankel_2</th>\n",
       "      <th>Ankel_3</th>\n",
       "      <th>Thigh_1</th>\n",
       "      <th>Thigh_2</th>\n",
       "      <th>Thigh_3</th>\n",
       "      <th>Trunk_1</th>\n",
       "      <th>Trunk_2</th>\n",
       "      <th>Trunk_3</th>\n",
       "      <th>status</th>\n",
       "      <th>User_Number</th>\n",
       "    </tr>\n",
       "  </thead>\n",
       "  <tbody>\n",
       "    <tr>\n",
       "      <th>count</th>\n",
       "      <td>1.917887e+06</td>\n",
       "      <td>1.917887e+06</td>\n",
       "      <td>1.917887e+06</td>\n",
       "      <td>1.917887e+06</td>\n",
       "      <td>1.917887e+06</td>\n",
       "      <td>1.917887e+06</td>\n",
       "      <td>1.917887e+06</td>\n",
       "      <td>1.917887e+06</td>\n",
       "      <td>1.917887e+06</td>\n",
       "      <td>1.917887e+06</td>\n",
       "      <td>1.917887e+06</td>\n",
       "      <td>1.917887e+06</td>\n",
       "    </tr>\n",
       "    <tr>\n",
       "      <th>mean</th>\n",
       "      <td>1.068270e+06</td>\n",
       "      <td>-5.121767e+01</td>\n",
       "      <td>8.269251e+02</td>\n",
       "      <td>5.814148e+01</td>\n",
       "      <td>-3.909704e+01</td>\n",
       "      <td>6.078131e+02</td>\n",
       "      <td>-3.851133e+01</td>\n",
       "      <td>4.953984e+01</td>\n",
       "      <td>7.706783e+02</td>\n",
       "      <td>-1.105940e+02</td>\n",
       "      <td>6.526036e-01</td>\n",
       "      <td>5.323289e+00</td>\n",
       "    </tr>\n",
       "    <tr>\n",
       "      <th>std</th>\n",
       "      <td>7.525219e+05</td>\n",
       "      <td>5.241233e+02</td>\n",
       "      <td>4.924929e+02</td>\n",
       "      <td>5.544153e+02</td>\n",
       "      <td>5.356087e+02</td>\n",
       "      <td>4.343619e+02</td>\n",
       "      <td>4.813304e+02</td>\n",
       "      <td>2.822827e+02</td>\n",
       "      <td>4.180118e+02</td>\n",
       "      <td>4.095316e+02</td>\n",
       "      <td>5.850132e-01</td>\n",
       "      <td>2.838412e+00</td>\n",
       "    </tr>\n",
       "    <tr>\n",
       "      <th>min</th>\n",
       "      <td>1.500000e+01</td>\n",
       "      <td>-3.123400e+04</td>\n",
       "      <td>-3.276300e+04</td>\n",
       "      <td>-3.148800e+04</td>\n",
       "      <td>-2.184600e+04</td>\n",
       "      <td>-2.967300e+04</td>\n",
       "      <td>-2.431800e+04</td>\n",
       "      <td>-5.019000e+03</td>\n",
       "      <td>-3.400000e+03</td>\n",
       "      <td>-4.786000e+03</td>\n",
       "      <td>0.000000e+00</td>\n",
       "      <td>1.000000e+00</td>\n",
       "    </tr>\n",
       "    <tr>\n",
       "      <th>25%</th>\n",
       "      <td>4.407030e+05</td>\n",
       "      <td>-2.120000e+02</td>\n",
       "      <td>7.740000e+02</td>\n",
       "      <td>6.900000e+01</td>\n",
       "      <td>-2.810000e+02</td>\n",
       "      <td>2.590000e+02</td>\n",
       "      <td>-9.000000e+01</td>\n",
       "      <td>-8.700000e+01</td>\n",
       "      <td>8.000000e+02</td>\n",
       "      <td>-1.940000e+02</td>\n",
       "      <td>0.000000e+00</td>\n",
       "      <td>3.000000e+00</td>\n",
       "    </tr>\n",
       "    <tr>\n",
       "      <th>50%</th>\n",
       "      <td>9.297030e+05</td>\n",
       "      <td>-2.000000e+01</td>\n",
       "      <td>9.700000e+02</td>\n",
       "      <td>2.070000e+02</td>\n",
       "      <td>-2.700000e+01</td>\n",
       "      <td>6.750000e+02</td>\n",
       "      <td>9.000000e+01</td>\n",
       "      <td>3.800000e+01</td>\n",
       "      <td>9.610000e+02</td>\n",
       "      <td>-3.800000e+01</td>\n",
       "      <td>1.000000e+00</td>\n",
       "      <td>5.000000e+00</td>\n",
       "    </tr>\n",
       "    <tr>\n",
       "      <th>75%</th>\n",
       "      <td>1.596812e+06</td>\n",
       "      <td>1.210000e+02</td>\n",
       "      <td>1.019000e+03</td>\n",
       "      <td>3.260000e+02</td>\n",
       "      <td>1.900000e+02</td>\n",
       "      <td>9.620000e+02</td>\n",
       "      <td>2.320000e+02</td>\n",
       "      <td>1.940000e+02</td>\n",
       "      <td>1.009000e+03</td>\n",
       "      <td>1.060000e+02</td>\n",
       "      <td>1.000000e+00</td>\n",
       "      <td>8.000000e+00</td>\n",
       "    </tr>\n",
       "    <tr>\n",
       "      <th>max</th>\n",
       "      <td>3.058390e+06</td>\n",
       "      <td>3.072500e+04</td>\n",
       "      <td>3.200200e+04</td>\n",
       "      <td>3.174400e+04</td>\n",
       "      <td>2.662500e+04</td>\n",
       "      <td>3.259800e+04</td>\n",
       "      <td>2.841800e+04</td>\n",
       "      <td>6.707000e+03</td>\n",
       "      <td>2.429800e+04</td>\n",
       "      <td>4.339000e+03</td>\n",
       "      <td>2.000000e+00</td>\n",
       "      <td>1.000000e+01</td>\n",
       "    </tr>\n",
       "  </tbody>\n",
       "</table>\n",
       "</div>"
      ],
      "text/plain": [
       "                 TS       Ankel_1       Ankel_2       Ankel_3       Thigh_1  \\\n",
       "count  1.917887e+06  1.917887e+06  1.917887e+06  1.917887e+06  1.917887e+06   \n",
       "mean   1.068270e+06 -5.121767e+01  8.269251e+02  5.814148e+01 -3.909704e+01   \n",
       "std    7.525219e+05  5.241233e+02  4.924929e+02  5.544153e+02  5.356087e+02   \n",
       "min    1.500000e+01 -3.123400e+04 -3.276300e+04 -3.148800e+04 -2.184600e+04   \n",
       "25%    4.407030e+05 -2.120000e+02  7.740000e+02  6.900000e+01 -2.810000e+02   \n",
       "50%    9.297030e+05 -2.000000e+01  9.700000e+02  2.070000e+02 -2.700000e+01   \n",
       "75%    1.596812e+06  1.210000e+02  1.019000e+03  3.260000e+02  1.900000e+02   \n",
       "max    3.058390e+06  3.072500e+04  3.200200e+04  3.174400e+04  2.662500e+04   \n",
       "\n",
       "            Thigh_2       Thigh_3       Trunk_1       Trunk_2       Trunk_3  \\\n",
       "count  1.917887e+06  1.917887e+06  1.917887e+06  1.917887e+06  1.917887e+06   \n",
       "mean   6.078131e+02 -3.851133e+01  4.953984e+01  7.706783e+02 -1.105940e+02   \n",
       "std    4.343619e+02  4.813304e+02  2.822827e+02  4.180118e+02  4.095316e+02   \n",
       "min   -2.967300e+04 -2.431800e+04 -5.019000e+03 -3.400000e+03 -4.786000e+03   \n",
       "25%    2.590000e+02 -9.000000e+01 -8.700000e+01  8.000000e+02 -1.940000e+02   \n",
       "50%    6.750000e+02  9.000000e+01  3.800000e+01  9.610000e+02 -3.800000e+01   \n",
       "75%    9.620000e+02  2.320000e+02  1.940000e+02  1.009000e+03  1.060000e+02   \n",
       "max    3.259800e+04  2.841800e+04  6.707000e+03  2.429800e+04  4.339000e+03   \n",
       "\n",
       "             status   User_Number  \n",
       "count  1.917887e+06  1.917887e+06  \n",
       "mean   6.526036e-01  5.323289e+00  \n",
       "std    5.850132e-01  2.838412e+00  \n",
       "min    0.000000e+00  1.000000e+00  \n",
       "25%    0.000000e+00  3.000000e+00  \n",
       "50%    1.000000e+00  5.000000e+00  \n",
       "75%    1.000000e+00  8.000000e+00  \n",
       "max    2.000000e+00  1.000000e+01  "
      ]
     },
     "execution_count": 6,
     "metadata": {},
     "output_type": "execute_result"
    }
   ],
   "source": [
    "df.describe()"
   ]
  },
  {
   "cell_type": "code",
   "execution_count": 7,
   "id": "cd93458d-ee8c-41ad-aea1-c245f686f7a4",
   "metadata": {},
   "outputs": [
    {
     "data": {
      "text/plain": [
       "Index(['TS', ' Ankel_1', 'Ankel_2', 'Ankel_3', 'Thigh_1', 'Thigh_2', 'Thigh_3',\n",
       "       'Trunk_1', 'Trunk_2', 'Trunk_3', 'status', 'User_Number'],\n",
       "      dtype='object')"
      ]
     },
     "execution_count": 7,
     "metadata": {},
     "output_type": "execute_result"
    }
   ],
   "source": [
    "df.columns"
   ]
  },
  {
   "cell_type": "code",
   "execution_count": 8,
   "id": "34b46f47-8989-431e-a37d-68c9b3abab24",
   "metadata": {},
   "outputs": [
    {
     "data": {
      "text/plain": [
       "status\n",
       "1    1030050\n",
       "0     777052\n",
       "2     110785\n",
       "Name: count, dtype: int64"
      ]
     },
     "execution_count": 8,
     "metadata": {},
     "output_type": "execute_result"
    }
   ],
   "source": [
    "df['status'].value_counts()"
   ]
  },
  {
   "cell_type": "markdown",
   "id": "424ca992-9931-4f09-81bc-b409b759af59",
   "metadata": {},
   "source": [
    "#### 데이터프레임의 크기(행과 열의 수)"
   ]
  },
  {
   "cell_type": "code",
   "execution_count": 9,
   "id": "f38e2fc2-51fb-4c35-8093-ea88c50de722",
   "metadata": {},
   "outputs": [
    {
     "data": {
      "text/plain": [
       "(1917887, 12)"
      ]
     },
     "execution_count": 9,
     "metadata": {},
     "output_type": "execute_result"
    }
   ],
   "source": [
    "df.shape"
   ]
  },
  {
   "cell_type": "code",
   "execution_count": 10,
   "id": "b5eefc34-bde9-4108-ae2a-9f6ff426d05d",
   "metadata": {},
   "outputs": [],
   "source": [
    "# status 열에서 값이 0인 행 제거\n",
    "df = df[df['status'] != 0]\n",
    "\n",
    "# status 열에서 값이 1인 행을 0으로, 값이 2인 행을 1로 바꾸기\n",
    "df['status'] = df['status'].replace({1: 0, 2: 1})"
   ]
  },
  {
   "cell_type": "code",
   "execution_count": 11,
   "id": "c873dd17-b55a-4ab4-805c-bdfb1e9753e3",
   "metadata": {},
   "outputs": [
    {
     "data": {
      "text/plain": [
       "status\n",
       "0    1030050\n",
       "1     110785\n",
       "Name: count, dtype: int64"
      ]
     },
     "execution_count": 11,
     "metadata": {},
     "output_type": "execute_result"
    }
   ],
   "source": [
    "df['status'].value_counts()"
   ]
  },
  {
   "cell_type": "code",
   "execution_count": 12,
   "id": "c84e434f-5e44-4d21-a1e3-ba758dc8e7ca",
   "metadata": {},
   "outputs": [
    {
     "data": {
      "text/plain": [
       "(1140835, 12)"
      ]
     },
     "execution_count": 12,
     "metadata": {},
     "output_type": "execute_result"
    }
   ],
   "source": [
    "df.shape"
   ]
  },
  {
   "cell_type": "markdown",
   "id": "10a027a6-96c0-41a4-aca8-8678c91012d8",
   "metadata": {},
   "source": [
    "##  각 사용자별 레코드 수를 시각화"
   ]
  },
  {
   "cell_type": "code",
   "execution_count": 13,
   "id": "c51fa4c4-1164-431f-95c0-44d7b2dba572",
   "metadata": {},
   "outputs": [
    {
     "name": "stderr",
     "output_type": "stream",
     "text": [
      "C:\\Users\\GACHON\\anaconda3\\envs\\test01\\lib\\site-packages\\seaborn\\_base.py:948: FutureWarning: When grouping with a length-1 list-like, you will need to pass a length-1 tuple to get_group in a future version of pandas. Pass `(name,)` instead of `name` to silence this warning.\n",
      "  data_subset = grouped_data.get_group(pd_key)\n",
      "C:\\Users\\GACHON\\anaconda3\\envs\\test01\\lib\\site-packages\\seaborn\\_base.py:948: FutureWarning: When grouping with a length-1 list-like, you will need to pass a length-1 tuple to get_group in a future version of pandas. Pass `(name,)` instead of `name` to silence this warning.\n",
      "  data_subset = grouped_data.get_group(pd_key)\n"
     ]
    },
    {
     "data": {
      "image/png": "[encoded data removed]",
      "text/plain": [
       "<Figure size 1800x600 with 1 Axes>"
      ]
     },
     "metadata": {},
     "output_type": "display_data"
    }
   ],
   "source": [
    "plt.figure(figsize=(18, 6))\n",
    "sns.countplot(x = \"User_Number\", hue=\"status\", data = df,\n",
    "              order = df.User_Number.value_counts().index)\n",
    "plt.title(\"Records per user\");"
   ]
  },
  {
   "cell_type": "markdown",
   "id": "aa23f9fb-2ad6-47fa-86db-b4c57c9f922a",
   "metadata": {},
   "source": [
    "## 주어진 코드는 데이터프레임 df에서 특정 열을 선택하여 예측 변수(X)와 목표 변수(y)를 생성하는 부분\n",
    "## 데이터프레임 df에서 예측 변수로 사용할 열을 선택합니다. 여기서는 다음 열을 선택합니다:\n",
    "####  TS (시간 스탬프)\n",
    "####  Ankel_1, Ankel_2, Ankel_3 (발목 센서 데이터)\n",
    "####  Thigh_1, Thigh_2, Thigh_3 (허벅지 센서 데이터)\n",
    "####  Trunk_1, Trunk_2, Trunk_3 (몸통 센서 데이터)\n",
    "####  .values를 사용하여 데이터프레임을 넘파이 배열로 변환합니다. 이렇게 하면 머신러닝 모델에서 사용할 수 있는 형식으로 데이터가 준비됩니다.\n",
    "\n",
    "## 목표 변수 생성:\n",
    "####  .reshape(-1, 1)를 사용하여 배열의 형상을 (n_samples, 1)로 변환합니다. 여기서 -1은 자동으로 행의 수를 맞추도록 하는 역할을 합니다."
   ]
  },
  {
   "cell_type": "code",
   "execution_count": 14,
   "id": "3eabce54-d0c6-456d-9f9b-b75fe23bc7de",
   "metadata": {},
   "outputs": [],
   "source": [
    "X = df[['TS', ' Ankel_1', 'Ankel_2', 'Ankel_3', 'Thigh_1', 'Thigh_2', 'Thigh_3',\n",
    "       'Trunk_1', 'Trunk_2', 'Trunk_3']].values\n",
    "y = df['status'].values.reshape(-1, 1)"
   ]
  },
  {
   "cell_type": "markdown",
   "id": "63790a4d-a78f-4a5f-9206-f1f96688199a",
   "metadata": {},
   "source": [
    "## 데이터 크기 출력\n",
    "#### 첫 번째 분할: 전체 데이터를 학습 세트와 테스트 세트로 분할합니다.\n",
    "#### 두 번째 분할: 학습 세트를 다시 학습 세트와 검증 세트로 분할합니다.\n",
    "\n"
   ]
  },
  {
   "cell_type": "code",
   "execution_count": 15,
   "id": "4c5b6056-6ea5-4e67-9d2c-f8c1e82c4346",
   "metadata": {},
   "outputs": [
    {
     "name": "stdout",
     "output_type": "stream",
     "text": [
      "(730134, 10) (730134, 1)\n",
      "(228167, 10) (228167, 1)\n"
     ]
    }
   ],
   "source": [
    "X_train, X_test,y_train, y_test = train_test_split(X, y, test_size = 0.2, stratify= y)\n",
    "X_train, X_val, y_train, y_val  = train_test_split(X_train, y_train, test_size = 0.2, stratify= y_train )\n",
    "print(X_train.shape, y_train.shape)\n",
    "print(X_test.shape, y_test.shape)"
   ]
  },
  {
   "cell_type": "markdown",
   "id": "57130c31-63d0-4bd2-84d2-8366c5006d4c",
   "metadata": {},
   "source": [
    "#### X_train.shape[0]: 학습 세트의 샘플 수입니다.\n",
    "#### X_train.shape[1]: 학습 세트의 피처 수입니다.\n",
    "#### .reshape((X_train.shape[0], X_train.shape[1], 1)): 각 샘플의 피처 수에 차원을 추가하여 (샘플 수, 피처 수, 1) 형태로 변환합니다.\n",
    "#### X_train의 새로운 형태를 출력합니다.\n",
    "#### X_test의 새로운 형태를 출력합니다.\n"
   ]
  },
  {
   "cell_type": "code",
   "execution_count": 16,
   "id": "c802757d-426f-4b8d-939a-7cdcb292b3ff",
   "metadata": {},
   "outputs": [
    {
     "name": "stdout",
     "output_type": "stream",
     "text": [
      "(730134, 10, 1)\n",
      "(228167, 10, 1)\n"
     ]
    }
   ],
   "source": [
    "X_train = X_train.reshape((X_train.shape[0], X_train.shape[1], 1))\n",
    "X_test = X_test.reshape((X_test.shape[0], X_test.shape[1], 1))\n",
    "print(X_train.shape)\n",
    "print(X_test.shape)"
   ]
  },
  {
   "cell_type": "markdown",
   "id": "b4f3fcce-2401-492a-8f93-b51623f25884",
   "metadata": {},
   "source": [
    "## 1.OneHotEncoder 객체 생성\n",
    "#### handle_unknown=\"ignore\": 훈련 시 보지 못한 새로운 카테고리 값이 나타나면 무시합니다.\n",
    "#### sparse_output=False: 인코딩된 결과를 희소 행렬이 아닌 밀집 행렬로 반환합니다. (sparse_output은 sklearn 버전에 따라 다를 수 있음)\n",
    "## 2.학습 데이터에 대해 인코더 학습\n",
    "#### y_train 데이터를 이용하여 인코더를 학습시킵니다. 즉, y_train에 존재하는 고유 클래스들을 인코더가 학습합니다.\n",
    "## 3.데이터 변환:\n",
    "#### y_train, y_test, y_val 데이터를 원-핫 인코딩 방식으로 변환합니다. 이 결과 각 클래스는 고유한 원-핫 벡터로 변환됩니다.\n",
    "## 4.고유 클래스 수 확인:\n",
    "#### np.unique(y_train_hot)를 이용하여 원-핫 인코딩된 y_train_hot의 고유한 값(클래스) 수를 계산합니다.\n",
    "#### len() 함수를 통해 고유 클래스의 개수를 반환합니다."
   ]
  },
  {
   "cell_type": "code",
   "execution_count": 17,
   "id": "46d125de-8072-4e02-bfb8-d4acc25608fb",
   "metadata": {},
   "outputs": [],
   "source": [
    "from sklearn.preprocessing import OneHotEncoder\n",
    "\n",
    "enc = OneHotEncoder(handle_unknown=\"ignore\", sparse_output=False)\n",
    "enc.fit(y_train)\n",
    "\n",
    "y_train_hot = enc.transform(y_train) \n",
    "y_test_hot = enc.transform(y_test) \n",
    "y_val_hot = enc.transform(y_val)"
   ]
  },
  {
   "cell_type": "code",
   "execution_count": 18,
   "id": "d9588424-5339-4f9e-b60c-10bab380854c",
   "metadata": {},
   "outputs": [
    {
     "data": {
      "text/plain": [
       "2"
      ]
     },
     "execution_count": 18,
     "metadata": {},
     "output_type": "execute_result"
    }
   ],
   "source": [
    "n_status = len(np.unique(y_train_hot))\n",
    "n_status"
   ]
  },
  {
   "cell_type": "markdown",
   "id": "de80ba5c-b28c-467e-930b-afcd02b7aab4",
   "metadata": {},
   "source": [
    "#### 1. Transformer Encoder 함수 정의\n",
    "##### Transformer의 인코더 부분을 정의합니다. 이 부분은 입력 데이터를 받아서 Multi-Head Attention과 Feed Forward Network를 적용한 결과를 반환합니다.\n",
    "#### 2. 모델 구축 함수 정의\n",
    "##### Transformer 인코더 블록을 포함한 모델을 정의합니다.\n",
    "#### 3. 모델 설정 및 컴파일\n",
    "##### 모델을 빌드하고 컴파일합니다.\n",
    "##### transformer_encoder 함수는 입력 데이터를 Transformer 인코더 구조로 처리합니다.\n",
    "##### build_model 함수는 Transformer 인코더 블록과 MLP(다층 퍼셉트론) 블록을 포함하는 전체 모델을 빌드합니다.\n",
    "##### 마지막으로 모델을 컴파일하여 훈련할 준비를 합니다.\n",
    "##### categorical_crossentropy 손실 함수와 Adam 옵티마이저를 사용하여 다중 클래스 분류 작업을 수행합니다."
   ]
  },
  {
   "cell_type": "code",
   "execution_count": 19,
   "id": "07da40b7-7861-4ba7-8ffe-b81cd441cbc6",
   "metadata": {},
   "outputs": [],
   "source": [
    "idx = np.random.permutation(len(X_train))\n",
    "X_train = X_train[idx]\n",
    "y_train_hot = y_train_hot[idx]"
   ]
  },
  {
   "cell_type": "markdown",
   "id": "cd1c09b4-1661-4a1d-92ff-926e19b76573",
   "metadata": {},
   "source": [
    "## idx = np.random.permutation(len(X_train)):\n",
    "#### np.random.permutation 함수는 주어진 길이의 배열을 무작위로 섞은 후 그 배열을 반환합니다.\n",
    "#### len(X_train)는 X_train 데이터의 길이를 의미합니다.\n",
    "#### 따라서 idx는 X_train 데이터의 인덱스를 무작위로 섞은 배열이 됩니다.\n",
    "\n",
    "## X_train = X_train[idx]:\n",
    "#### X_train 데이터를 idx 배열의 순서대로 재배열합니다.\n",
    "#### 즉, X_train 데이터가 무작위로 섞이게 됩니다.\n",
    "\n",
    "## y_train_hot = y_train_hot[idx]:\n",
    "#### y_train_hot 데이터도 idx 배열의 순서대로 재배열하여 X_train과 동일한 순서로 섞이게 합니다.\n",
    "#### 이를 통해 X_train과 y_train_hot 간의 대응 관계가 유지됩니다."
   ]
  },
  {
   "cell_type": "code",
   "execution_count": 20,
   "id": "10854737-fc63-4d9f-80e1-a684129e9e4d",
   "metadata": {},
   "outputs": [],
   "source": [
    "def transformer_encoder(inputs, head_size, num_heads, ff_dim, dropout=0):\n",
    "    # Attention and Normalization\n",
    "    x = layers.MultiHeadAttention(\n",
    "        key_dim=head_size, num_heads=num_heads, dropout=dropout\n",
    "    )(inputs, inputs)\n",
    "    x = layers.Dropout(dropout)(x)\n",
    "    x = layers.LayerNormalization(epsilon=1e-6)(x)\n",
    "    res = x + inputs\n",
    "\n",
    "    # Feed Forward Part\n",
    "    x = layers.Conv1D(filters=ff_dim, kernel_size=1, activation=\"relu\")(res)\n",
    "    x = layers.Dropout(dropout)(x)\n",
    "    x = layers.Conv1D(filters=inputs.shape[-1], kernel_size=1)(x)\n",
    "    x = layers.LayerNormalization(epsilon=1e-6)(x)\n",
    "    return x + res"
   ]
  },
  {
   "cell_type": "markdown",
   "id": "587886c3-8423-4dc6-949d-ccf6fb2d8652",
   "metadata": {},
   "source": [
    "## 입력 매개변수:\n",
    "#### inputs: 인코더 블록에 입력되는 텐서.\n",
    "#### head_size: 각 어텐션 헤드의 크기.\n",
    "#### num_heads: 멀티헤드 어텐션의 헤드 수.\n",
    "#### ff_dim: 피드 포워드 네트워크의 중간 층의 차원.\n",
    "#### dropout: 드롭아웃 비율\n",
    "\n",
    "## 어텐션 및 정규화:\n",
    "#### layers.MultiHeadAttention: 멀티헤드 어텐션 층을 사용하여 입력 데이터 간의 관계를 학습합니다.\n",
    "#### layers.Dropout: 드롭아웃 층을 사용하여 과적합을 방지합니다.\n",
    "#### layers.LayerNormalization: 층 정규화를 사용하여 안정적인 학습을 돕습니다.\n",
    "#### res = x + inputs: 잔차 연결(Residual Connection)을 사용하여 그래디언트 소실 문제를 완화합니다.\n",
    "\n",
    "## 피드 포워드 부분:\n",
    "#### layers.Conv1D(filters=ff_dim, kernel_size=1, activation=\"relu\"): 일차원 컨볼루션 층을 사용하여 피드 포워드 네트워크의 첫 번째 층을 정의합니다.\n",
    "#### layers.Dropout: 드롭아웃 층을 추가하여 과적합을 방지합니다.\n",
    "#### #### layers.Conv1D(filters=inputs.shape[-1], kernel_size=1): 두 번째 일차원 컨볼루션 층을 사용하여 원래 입력 크기로 되돌립니다.\n",
    "#### layers.LayerNormalization: 다시 정규화를 사용하여 안정적인 학습을 돕습니다.\n",
    "#### return x + res: 최종적으로 잔차 연결을 통해 입력과 출력의 관계를 보존합니다."
   ]
  },
  {
   "cell_type": "code",
   "execution_count": 21,
   "id": "f7ecf7b8-c108-442a-a097-451892db3119",
   "metadata": {},
   "outputs": [],
   "source": [
    "def build_model(\n",
    "    input_shape,\n",
    "    head_size,\n",
    "    num_heads,\n",
    "    ff_dim,\n",
    "    num_transformer_blocks,\n",
    "    mlp_units,\n",
    "    dropout=0,\n",
    "    mlp_dropout=0,\n",
    "):\n",
    "    inputs = keras.Input(shape=input_shape)\n",
    "    x = inputs\n",
    "    for _ in range(num_transformer_blocks):\n",
    "        x = transformer_encoder(x, head_size, num_heads, ff_dim, dropout)\n",
    "\n",
    "    x = layers.GlobalAveragePooling1D(data_format=\"channels_last\")(x)\n",
    "    for dim in mlp_units:\n",
    "        x = layers.Dense(dim, activation=\"relu\")(x)\n",
    "        x = layers.Dropout(mlp_dropout)(x)\n",
    "    outputs = layers.Dense(n_status, activation=\"sigmoid\")(x)\n",
    "    return keras.Model(inputs, outputs)"
   ]
  },
  {
   "cell_type": "code",
   "execution_count": 22,
   "id": "495612df-670d-40be-bc6d-c72936aa286f",
   "metadata": {},
   "outputs": [
    {
     "name": "stdout",
     "output_type": "stream",
     "text": [
      "Model: \"model\"\n",
      "__________________________________________________________________________________________________\n",
      " Layer (type)                   Output Shape         Param #     Connected to                     \n",
      "==================================================================================================\n",
      " input_1 (InputLayer)           [(None, 10, 1)]      0           []                               \n",
      "                                                                                                  \n",
      " multi_head_attention (MultiHea  (None, 10, 1)       7169        ['input_1[0][0]',                \n",
      " dAttention)                                                      'input_1[0][0]']                \n",
      "                                                                                                  \n",
      " dropout (Dropout)              (None, 10, 1)        0           ['multi_head_attention[0][0]']   \n",
      "                                                                                                  \n",
      " layer_normalization (LayerNorm  (None, 10, 1)       2           ['dropout[0][0]']                \n",
      " alization)                                                                                       \n",
      "                                                                                                  \n",
      " tf.__operators__.add (TFOpLamb  (None, 10, 1)       0           ['layer_normalization[0][0]',    \n",
      " da)                                                              'input_1[0][0]']                \n",
      "                                                                                                  \n",
      " conv1d (Conv1D)                (None, 10, 4)        8           ['tf.__operators__.add[0][0]']   \n",
      "                                                                                                  \n",
      " dropout_1 (Dropout)            (None, 10, 4)        0           ['conv1d[0][0]']                 \n",
      "                                                                                                  \n",
      " conv1d_1 (Conv1D)              (None, 10, 1)        5           ['dropout_1[0][0]']              \n",
      "                                                                                                  \n",
      " layer_normalization_1 (LayerNo  (None, 10, 1)       2           ['conv1d_1[0][0]']               \n",
      " rmalization)                                                                                     \n",
      "                                                                                                  \n",
      " tf.__operators__.add_1 (TFOpLa  (None, 10, 1)       0           ['layer_normalization_1[0][0]',  \n",
      " mbda)                                                            'tf.__operators__.add[0][0]']   \n",
      "                                                                                                  \n",
      " multi_head_attention_1 (MultiH  (None, 10, 1)       7169        ['tf.__operators__.add_1[0][0]', \n",
      " eadAttention)                                                    'tf.__operators__.add_1[0][0]'] \n",
      "                                                                                                  \n",
      " dropout_2 (Dropout)            (None, 10, 1)        0           ['multi_head_attention_1[0][0]'] \n",
      "                                                                                                  \n",
      " layer_normalization_2 (LayerNo  (None, 10, 1)       2           ['dropout_2[0][0]']              \n",
      " rmalization)                                                                                     \n",
      "                                                                                                  \n",
      " tf.__operators__.add_2 (TFOpLa  (None, 10, 1)       0           ['layer_normalization_2[0][0]',  \n",
      " mbda)                                                            'tf.__operators__.add_1[0][0]'] \n",
      "                                                                                                  \n",
      " conv1d_2 (Conv1D)              (None, 10, 4)        8           ['tf.__operators__.add_2[0][0]'] \n",
      "                                                                                                  \n",
      " dropout_3 (Dropout)            (None, 10, 4)        0           ['conv1d_2[0][0]']               \n",
      "                                                                                                  \n",
      " conv1d_3 (Conv1D)              (None, 10, 1)        5           ['dropout_3[0][0]']              \n",
      "                                                                                                  \n",
      " layer_normalization_3 (LayerNo  (None, 10, 1)       2           ['conv1d_3[0][0]']               \n",
      " rmalization)                                                                                     \n",
      "                                                                                                  \n",
      " tf.__operators__.add_3 (TFOpLa  (None, 10, 1)       0           ['layer_normalization_3[0][0]',  \n",
      " mbda)                                                            'tf.__operators__.add_2[0][0]'] \n",
      "                                                                                                  \n",
      " multi_head_attention_2 (MultiH  (None, 10, 1)       7169        ['tf.__operators__.add_3[0][0]', \n",
      " eadAttention)                                                    'tf.__operators__.add_3[0][0]'] \n",
      "                                                                                                  \n",
      " dropout_4 (Dropout)            (None, 10, 1)        0           ['multi_head_attention_2[0][0]'] \n",
      "                                                                                                  \n",
      " layer_normalization_4 (LayerNo  (None, 10, 1)       2           ['dropout_4[0][0]']              \n",
      " rmalization)                                                                                     \n",
      "                                                                                                  \n",
      " tf.__operators__.add_4 (TFOpLa  (None, 10, 1)       0           ['layer_normalization_4[0][0]',  \n",
      " mbda)                                                            'tf.__operators__.add_3[0][0]'] \n",
      "                                                                                                  \n",
      " conv1d_4 (Conv1D)              (None, 10, 4)        8           ['tf.__operators__.add_4[0][0]'] \n",
      "                                                                                                  \n",
      " dropout_5 (Dropout)            (None, 10, 4)        0           ['conv1d_4[0][0]']               \n",
      "                                                                                                  \n",
      " conv1d_5 (Conv1D)              (None, 10, 1)        5           ['dropout_5[0][0]']              \n",
      "                                                                                                  \n",
      " layer_normalization_5 (LayerNo  (None, 10, 1)       2           ['conv1d_5[0][0]']               \n",
      " rmalization)                                                                                     \n",
      "                                                                                                  \n",
      " tf.__operators__.add_5 (TFOpLa  (None, 10, 1)       0           ['layer_normalization_5[0][0]',  \n",
      " mbda)                                                            'tf.__operators__.add_4[0][0]'] \n",
      "                                                                                                  \n",
      " multi_head_attention_3 (MultiH  (None, 10, 1)       7169        ['tf.__operators__.add_5[0][0]', \n",
      " eadAttention)                                                    'tf.__operators__.add_5[0][0]'] \n",
      "                                                                                                  \n",
      " dropout_6 (Dropout)            (None, 10, 1)        0           ['multi_head_attention_3[0][0]'] \n",
      "                                                                                                  \n",
      " layer_normalization_6 (LayerNo  (None, 10, 1)       2           ['dropout_6[0][0]']              \n",
      " rmalization)                                                                                     \n",
      "                                                                                                  \n",
      " tf.__operators__.add_6 (TFOpLa  (None, 10, 1)       0           ['layer_normalization_6[0][0]',  \n",
      " mbda)                                                            'tf.__operators__.add_5[0][0]'] \n",
      "                                                                                                  \n",
      " conv1d_6 (Conv1D)              (None, 10, 4)        8           ['tf.__operators__.add_6[0][0]'] \n",
      "                                                                                                  \n",
      " dropout_7 (Dropout)            (None, 10, 4)        0           ['conv1d_6[0][0]']               \n",
      "                                                                                                  \n",
      " conv1d_7 (Conv1D)              (None, 10, 1)        5           ['dropout_7[0][0]']              \n",
      "                                                                                                  \n",
      " layer_normalization_7 (LayerNo  (None, 10, 1)       2           ['conv1d_7[0][0]']               \n",
      " rmalization)                                                                                     \n",
      "                                                                                                  \n",
      " tf.__operators__.add_7 (TFOpLa  (None, 10, 1)       0           ['layer_normalization_7[0][0]',  \n",
      " mbda)                                                            'tf.__operators__.add_6[0][0]'] \n",
      "                                                                                                  \n",
      " global_average_pooling1d (Glob  (None, 1)           0           ['tf.__operators__.add_7[0][0]'] \n",
      " alAveragePooling1D)                                                                              \n",
      "                                                                                                  \n",
      " dense (Dense)                  (None, 128)          256         ['global_average_pooling1d[0][0]'\n",
      "                                                                 ]                                \n",
      "                                                                                                  \n",
      " dropout_8 (Dropout)            (None, 128)          0           ['dense[0][0]']                  \n",
      "                                                                                                  \n",
      " dense_1 (Dense)                (None, 2)            258         ['dropout_8[0][0]']              \n",
      "                                                                                                  \n",
      "==================================================================================================\n",
      "Total params: 29,258\n",
      "Trainable params: 29,258\n",
      "Non-trainable params: 0\n",
      "__________________________________________________________________________________________________\n"
     ]
    }
   ],
   "source": [
    "input_shape = X_train.shape[1:]\n",
    "\n",
    "model = build_model(\n",
    "    input_shape,\n",
    "    head_size=256,\n",
    "    num_heads=4,\n",
    "    ff_dim=4,\n",
    "    num_transformer_blocks=4,\n",
    "    mlp_units=[128],\n",
    "    mlp_dropout=0.4,\n",
    "    dropout=0.25,\n",
    ")\n",
    "\n",
    "model.compile(\n",
    "    loss=\"binary_crossentropy\",\n",
    "    optimizer=keras.optimizers.Adam(learning_rate=1e-4),\n",
    "    metrics=[\"accuracy\"]\n",
    ")\n",
    "model.summary()"
   ]
  },
  {
   "cell_type": "markdown",
   "id": "ed858c54-96b7-4037-8ae9-db5947de0c7d",
   "metadata": {},
   "source": [
    "### 트랜스포머 기반 모델을 구축하고, 이를 컴파일한 후 요약을 출력합니다. 다음과 같은 부분으로 구성되어 있습니다:\n",
    "\n",
    "###### 모델 구축: build_model 함수를 사용하여 트랜스포머 블록을 포함한 모델을 만듭니다.\n",
    "###### 모델 컴파일: 손실 함수, 최적화기, 평가 지표를 설정합니다.\n",
    "###### 모델 요약: 모델의 구조를 출력합니다.\n",
    "\n",
    "### 코드 설명\n",
    "#### transformer_encoder 함수:\n",
    "###### 트랜스포머 인코더 블록을 정의합니다. 멀티헤드 어텐션, 드롭아웃, 레이어 정규화 및 잔차 연결을 포함합니다.\n",
    "\n",
    "#### build_model 함수:\n",
    "###### input_shape를 입력으로 받아 트랜스포머 인코더 블록을 쌓고, 마지막에 MLP (다층 퍼셉트론) 레이어를 추가하여 최종 출력을 만듭니다.\n",
    "###### num_transformer_blocks 인코더 블록의 개수, mlp_units MLP 층의 유닛 개수를 정의합니다.\n",
    "\n",
    "#### 모델 컴파일:\n",
    "###### 손실 함수로 binary_crossentropy, 최적화기로 Adam을 설정하고, 학습률을 1e-4로 설정합니다.\n",
    "###### 평가 지표로 accuracy를 사용합니다.\n",
    "\n",
    "#### 모델 요약:\n",
    "###### model.summary()를 통해 모델의 구조를 출력하여 각 층의 형태와 파라미터 개수를 확인합니다."
   ]
  },
  {
   "cell_type": "code",
   "execution_count": 23,
   "id": "def06dc9-467f-410a-9f3b-3c1fe7c90322",
   "metadata": {},
   "outputs": [
    {
     "name": "stdout",
     "output_type": "stream",
     "text": [
      "Epoch 1/100\n",
      "11409/11409 [==============================] - 216s 19ms/step - loss: 594.2827 - accuracy: 0.8707 - val_loss: 0.3430 - val_accuracy: 0.9029\n",
      "Epoch 2/100\n",
      "11409/11409 [==============================] - 207s 18ms/step - loss: 0.4380 - accuracy: 0.8918 - val_loss: 0.3311 - val_accuracy: 0.9029\n",
      "Epoch 3/100\n",
      "11409/11409 [==============================] - 213s 19ms/step - loss: 0.3320 - accuracy: 0.9029 - val_loss: 0.3202 - val_accuracy: 0.9029\n",
      "Epoch 4/100\n",
      "11409/11409 [==============================] - 215s 19ms/step - loss: 0.3227 - accuracy: 0.9029 - val_loss: 0.3163 - val_accuracy: 0.9029\n",
      "Epoch 5/100\n",
      "11409/11409 [==============================] - 214s 19ms/step - loss: 0.3190 - accuracy: 0.9029 - val_loss: 0.3144 - val_accuracy: 0.9029\n",
      "Epoch 6/100\n",
      "11409/11409 [==============================] - 214s 19ms/step - loss: 0.3177 - accuracy: 0.9029 - val_loss: 0.3168 - val_accuracy: 0.9029\n",
      "Epoch 7/100\n",
      "11409/11409 [==============================] - 216s 19ms/step - loss: 0.3175 - accuracy: 0.9029 - val_loss: 0.3150 - val_accuracy: 0.9029\n",
      "Epoch 8/100\n",
      "11409/11409 [==============================] - 219s 19ms/step - loss: 0.3178 - accuracy: 0.9029 - val_loss: 0.3160 - val_accuracy: 0.9029\n",
      "Epoch 9/100\n",
      "11409/11409 [==============================] - 215s 19ms/step - loss: 0.3177 - accuracy: 0.9029 - val_loss: 0.3178 - val_accuracy: 0.9029\n",
      "Epoch 10/100\n",
      "11409/11409 [==============================] - 207s 18ms/step - loss: 0.3177 - accuracy: 0.9029 - val_loss: 0.3160 - val_accuracy: 0.9029\n",
      "Epoch 11/100\n",
      "11409/11409 [==============================] - 214s 19ms/step - loss: 0.3178 - accuracy: 0.9029 - val_loss: 0.3164 - val_accuracy: 0.9029\n",
      "Epoch 12/100\n",
      "11409/11409 [==============================] - 208s 18ms/step - loss: 0.3181 - accuracy: 0.9029 - val_loss: 0.3171 - val_accuracy: 0.9029\n",
      "Epoch 13/100\n",
      "11409/11409 [==============================] - 218s 19ms/step - loss: 0.3181 - accuracy: 0.9029 - val_loss: 0.3183 - val_accuracy: 0.9029\n",
      "Epoch 14/100\n",
      "11409/11409 [==============================] - 216s 19ms/step - loss: 0.3180 - accuracy: 0.9029 - val_loss: 0.3185 - val_accuracy: 0.9029\n",
      "Epoch 15/100\n",
      "11409/11409 [==============================] - 200s 18ms/step - loss: 0.3185 - accuracy: 0.9029 - val_loss: 0.3187 - val_accuracy: 0.9029\n",
      "7131/7131 [==============================] - 39s 5ms/step - loss: 0.3144 - accuracy: 0.9029\n"
     ]
    },
    {
     "data": {
      "text/plain": [
       "[0.31439244747161865, 0.9028912782669067]"
      ]
     },
     "execution_count": 23,
     "metadata": {},
     "output_type": "execute_result"
    }
   ],
   "source": [
    "callbacks = [keras.callbacks.EarlyStopping(patience=10, restore_best_weights=True)]\n",
    "\n",
    "history = model.fit(\n",
    "    X_train,\n",
    "    y_train_hot,\n",
    "    validation_data=(X_val, y_val_hot),\n",
    "    epochs=100,\n",
    "    batch_size=64,\n",
    "    callbacks=callbacks,\n",
    ")\n",
    "model.evaluate(X_test, y_test_hot , verbose=1)"
   ]
  },
  {
   "cell_type": "markdown",
   "id": "cba157ee-06b1-457f-acd4-9fa89a73b298",
   "metadata": {},
   "source": [
    "##### 필요한 모듈을 임포트합니다.\n",
    "##### Transformer 인코더와 모델 빌드 함수를 정의합니다.\n",
    "##### 데이터를 전처리하고 모델을 빌드 및 컴파일합니다.\n",
    "##### 모델을 학습시킵니다.\n"
   ]
  },
  {
   "cell_type": "markdown",
   "id": "d19b067f-2e6f-4855-8eb2-da7f19e75c87",
   "metadata": {},
   "source": [
    "# 수치화"
   ]
  },
  {
   "cell_type": "code",
   "execution_count": 24,
   "id": "fdbc8ae5-d03f-48b1-b545-d9eaf02361e7",
   "metadata": {},
   "outputs": [
    {
     "data": {
      "text/plain": [
       "<matplotlib.legend.Legend at 0x10685d0c9d0>"
      ]
     },
     "execution_count": 24,
     "metadata": {},
     "output_type": "execute_result"
    },
    {
     "data": {
      "image/png": "[encoded data removed]",
      "text/plain": [
       "<Figure size 640x480 with 1 Axes>"
      ]
     },
     "metadata": {},
     "output_type": "display_data"
    }
   ],
   "source": [
    "plt.plot(history.history['loss'])\n",
    "plt.plot(history.history['val_loss'])\n",
    "plt.title('model loss')\n",
    "plt.ylabel('loss')\n",
    "plt.xlabel('epoch')\n",
    "plt.legend(['train', 'Validation'], loc='upper left')"
   ]
  },
  {
   "cell_type": "code",
   "execution_count": 25,
   "id": "b031e581-4593-4dee-a8b7-6472f40a28c9",
   "metadata": {},
   "outputs": [
    {
     "data": {
      "text/plain": [
       "<matplotlib.legend.Legend at 0x1062c0cf0a0>"
      ]
     },
     "execution_count": 25,
     "metadata": {},
     "output_type": "execute_result"
    },
    {
     "data": {
      "image/png": "[encoded data removed]",
      "text/plain": [
       "<Figure size 640x480 with 1 Axes>"
      ]
     },
     "metadata": {},
     "output_type": "display_data"
    }
   ],
   "source": [
    "plt.plot(history.history['accuracy'])\n",
    "plt.plot(history.history['val_accuracy'])\n",
    "plt.title('Training and validation accuracy')\n",
    "plt.ylabel('accuracy')\n",
    "plt.xlabel('epoch')\n",
    "plt.legend(['train', 'Validation'], loc='upper left')"
   ]
  },
  {
   "cell_type": "markdown",
   "id": "b3f7dcde-458e-4f6f-8a59-55ee98d41aa9",
   "metadata": {},
   "source": [
    "## 코드 설명\n",
    "### 모델 예측:\n",
    "###### model.predict(X_test): 테스트 데이터 X_test에 대한 예측값을 계산합니다.\n",
    "###### np.argmax(y_pred, axis=-1): 예측된 원-핫 인코딩을 클래스 인덱스로 변환합니다.\n",
    "###### np.argmax(y_test_hot, axis=-1): 실제 테스트 데이터 y_test_hot의 원-핫 인코딩을 클래스 인덱스로 변환합니다.\n",
    "    \n",
    "### 평가 지표 계산:\n",
    "###### confusion_matrix(y_true, y_pred): 혼동 행렬을 계산합니다.\n",
    "###### f1_score(y_true, y_pred, average='weighted'): 가중치가 적용된 F1 점수를 계산합니다.\n",
    "###### accuracy_score(y_true, y_pred): 정확도를 계산합니다.\n",
    "###### classification_report(y_true, y_pred): 정밀도, 재현율, F1 점수를 포함한 자세한 분류 보고서를 출력합니다.\n",
    "    \n",
    "### 혼동 행렬 시각화:\n",
    "###### sns.heatmap(cm, cmap=\"YlGnBu\", xticklabels=LABELS, yticklabels=LABELS, annot=True, fmt='.2f'): 혼동 행렬을 시각화합니다."
   ]
  },
  {
   "cell_type": "code",
   "execution_count": 26,
   "id": "c437f0a4-ca3b-484f-bbf1-6a9048a7520e",
   "metadata": {},
   "outputs": [
    {
     "name": "stdout",
     "output_type": "stream",
     "text": [
      "7131/7131 [==============================] - 26s 4ms/step\n",
      "f1_score =  0.8568147893268729\n",
      "0.9028913032997761\n",
      "              precision    recall  f1-score   support\n",
      "\n",
      "           0       0.90      1.00      0.95    206010\n",
      "           1       0.00      0.00      0.00     22157\n",
      "\n",
      "    accuracy                           0.90    228167\n",
      "   macro avg       0.45      0.50      0.47    228167\n",
      "weighted avg       0.82      0.90      0.86    228167\n",
      "\n"
     ]
    },
    {
     "name": "stderr",
     "output_type": "stream",
     "text": [
      "C:\\Users\\GACHON\\anaconda3\\envs\\test01\\lib\\site-packages\\sklearn\\metrics\\_classification.py:1469: UndefinedMetricWarning: Precision and F-score are ill-defined and being set to 0.0 in labels with no predicted samples. Use `zero_division` parameter to control this behavior.\n",
      "  _warn_prf(average, modifier, msg_start, len(result))\n",
      "C:\\Users\\GACHON\\anaconda3\\envs\\test01\\lib\\site-packages\\sklearn\\metrics\\_classification.py:1469: UndefinedMetricWarning: Precision and F-score are ill-defined and being set to 0.0 in labels with no predicted samples. Use `zero_division` parameter to control this behavior.\n",
      "  _warn_prf(average, modifier, msg_start, len(result))\n",
      "C:\\Users\\GACHON\\anaconda3\\envs\\test01\\lib\\site-packages\\sklearn\\metrics\\_classification.py:1469: UndefinedMetricWarning: Precision and F-score are ill-defined and being set to 0.0 in labels with no predicted samples. Use `zero_division` parameter to control this behavior.\n",
      "  _warn_prf(average, modifier, msg_start, len(result))\n"
     ]
    },
    {
     "data": {
      "text/plain": [
       "<Axes: >"
      ]
     },
     "execution_count": 26,
     "metadata": {},
     "output_type": "execute_result"
    },
    {
     "data": {
      "image/png": "[encoded data removed]",
      "text/plain": [
       "<Figure size 640x480 with 2 Axes>"
      ]
     },
     "metadata": {},
     "output_type": "display_data"
    }
   ],
   "source": [
    "from sklearn.metrics import confusion_matrix,classification_report,accuracy_score\n",
    "import numpy as np\n",
    "\n",
    "y_pred=model.predict(X_test)\n",
    "y_pred = np.argmax(y_pred, axis=-1)\n",
    "y_true = np.argmax(y_test_hot, axis=-1)\n",
    "\n",
    "LABELS = ['No_Freeze','Freeze']\n",
    "cm=confusion_matrix(y_true,y_pred)\n",
    "\n",
    "#print(cm)\n",
    "print('f1_score = ', f1_score(y_true, y_pred, average='weighted'))\n",
    "print(accuracy_score(y_true,y_pred))\n",
    "print(classification_report(y_true,y_pred))\n",
    "sns.heatmap(cm, cmap=\"YlGnBu\", xticklabels=LABELS, yticklabels=LABELS, annot=True, fmt = '.2f')"
   ]
  },
  {
   "cell_type": "markdown",
   "id": "34ba62b6-658e-46a0-8aee-4efe9d46b671",
   "metadata": {},
   "source": [
    "#### 데이터프레임을 사용자 번호(User_Number)로 그룹화하고, 각 그룹 내에서 클래스가 하나 이상인 경우 SMOTE를 사용하여 데이터 불균형을 해결\n",
    "#### 모든 그룹을 다시 결합하여 최종 데이터프레임을 생성\n",
    "\n",
    "## 코드 설명\n",
    "#### 데이터프레임 그룹화:\n",
    "###### df.groupby('User_Number'): 데이터프레임을 User_Number로 그룹화합니다.\n",
    "\n",
    "#### 각 그룹에 대해 SMOTE 적용:\n",
    "###### 각 그룹 내에서 클래스가 두 개 이상인 경우에만 SMOTE를 사용하여 오버샘플링을 수행합니다.\n",
    "###### 클래스가 하나뿐인 경우 해당 그룹을 그대로 유지합니다.\n",
    "\n",
    "#### 결과 데이터프레임 재결합:\n",
    "###### 각 그룹의 결과를 리스트에 추가한 후, 이를 하나의 데이터프레임으로 다시 결합합니다."
   ]
  },
  {
   "cell_type": "code",
   "execution_count": 27,
   "id": "35d4c446-7b11-4d1f-bbe5-025518b85962",
   "metadata": {},
   "outputs": [
    {
     "name": "stdout",
     "output_type": "stream",
     "text": [
      "       TS   Ankel_1  Ankel_2  Ankel_3  Thigh_1  Thigh_2  Thigh_3  Trunk_1  \\\n",
      "0  750000       -30      990      326      -45      972      181      -38   \n",
      "1  750015       -30     1000      356      -18      981      212      -48   \n",
      "2  750031       -20      990      336       18      981      222      -38   \n",
      "3  750046       -20     1000      316       36      990      222      -19   \n",
      "4  750062         0      990      316       36      990      212      -29   \n",
      "\n",
      "   Trunk_2  Trunk_3  status  User_Number  \n",
      "0     1000       29       0            1  \n",
      "1     1028       29       0            1  \n",
      "2     1038        9       0            1  \n",
      "3     1038        9       0            1  \n",
      "4     1038       29       0            1  \n"
     ]
    }
   ],
   "source": [
    "from imblearn.over_sampling import SMOTE\n",
    "import pandas as pd\n",
    "\n",
    "# 데이터프레임 그룹화\n",
    "grouped = df.groupby('User_Number')\n",
    "\n",
    "# 각 그룹에 대해 밸런싱 적용\n",
    "balanced_dfs = []\n",
    "for group_name, group_data in grouped:\n",
    "    # 그룹 내 클래스 개수 확인\n",
    "    num_classes = group_data['status'].nunique()\n",
    "    \n",
    "    # 클래스가 하나 이상인 경우에만 밸런싱 적용, Standing이 존재하지 않는 user가 있어서\n",
    "    if num_classes > 1:\n",
    "        # Smote를 통한 Oversampling\n",
    "        smote = SMOTE(sampling_strategy='auto', random_state=42)\n",
    "        X_resampled, y_resampled = smote.fit_resample(group_data.drop(['status', 'User_Number'], axis=1), group_data['status'])\n",
    "        balanced_group_df = pd.concat([pd.DataFrame(X_resampled, columns=group_data.drop(['status', 'User_Number'], axis=1).columns),\n",
    "                                       pd.DataFrame({'status': y_resampled})], axis=1)\n",
    "\n",
    "        # 'user_id' 열 추가\n",
    "        balanced_group_df['User_Number'] = group_name\n",
    "\n",
    "        balanced_dfs.append(balanced_group_df)\n",
    "    else:\n",
    "        balanced_dfs.append(group_data)\n",
    "\n",
    "# 재결합\n",
    "balanced_df = pd.concat(balanced_dfs)\n",
    "\n",
    "# 결과 확인\n",
    "print(balanced_df.head())"
   ]
  },
  {
   "cell_type": "markdown",
   "id": "fb5b0768-a528-4c45-a660-5f99a8149f8d",
   "metadata": {},
   "source": [
    "#### Freeze' 활동을 하는 사용자와 하지 않는 사용자를 분리하여, 'Freeze' 활동을 하지 않는 사용자에 해당하는 행을 데이터프레임에서 제거\n",
    "\n",
    "\n",
    "#### 'Freeze' 활동을 하는 User_Number 추출:\n",
    "###### balanced_df에서 'status'가 1 ('Freeze' 활동)인 행의 User_Number를 추출하여 고유 값만 저장합니다.\n",
    "\n",
    "#### 'Freeze' 활동을 하지 않는 User_Number 추출:\n",
    "###### 원본 데이터프레임 df에서 모든 User_Number를 추출하고, 그 중에서 Freeze_users에 포함되지 않은 User_Number를 리스트로 만듭니다.\n",
    "\n",
    "#### 'Freeze' 활동을 하지 않는 User_Number에 해당하는 행 삭제:\n",
    "###### balanced_df에서 User_Number가 Freeze_absent_users 리스트에 포함되지 않은 행만 남깁니다.\n",
    "\n",
    "#### 결과 확인:\n",
    "###### 최종 데이터프레임을 출력하여 'Freeze' 활동을 하는 사용자만 남아있는지 확인"
   ]
  },
  {
   "cell_type": "code",
   "execution_count": 28,
   "id": "28dfa242-1723-49d2-a345-a8b039cde0b4",
   "metadata": {},
   "outputs": [
    {
     "name": "stdout",
     "output_type": "stream",
     "text": [
      "             TS   Ankel_1  Ankel_2  Ankel_3  Thigh_1  Thigh_2  Thigh_3  \\\n",
      "0        750000       -30      990      326      -45      972      181   \n",
      "1        750015       -30     1000      356      -18      981      212   \n",
      "2        750031       -20      990      336       18      981      222   \n",
      "3        750046       -20     1000      316       36      990      222   \n",
      "4        750062         0      990      316       36      990      212   \n",
      "...         ...       ...      ...      ...      ...      ...      ...   \n",
      "188151   719786       296     1047       21     -213      913      206   \n",
      "188152   457967       -14     1649      261     -802     1205      352   \n",
      "188153   637802       233      923      -12       13      829      333   \n",
      "188154  1010843       222     1008       98     -145      962      150   \n",
      "188155   833621        -1      992      193     -316      894      228   \n",
      "\n",
      "        Trunk_1  Trunk_2  Trunk_3  status  User_Number  \n",
      "0           -38     1000       29       0            1  \n",
      "1           -48     1028       29       0            1  \n",
      "2           -38     1038        9       0            1  \n",
      "3           -19     1038        9       0            1  \n",
      "4           -29     1038       29       0            1  \n",
      "...         ...      ...      ...     ...          ...  \n",
      "188151      182      882      -49       1            9  \n",
      "188152      184     1162       32       1            9  \n",
      "188153      -41      867      -58       1            9  \n",
      "188154      116      990       -9       1            9  \n",
      "188155      123      973     -127       1            9  \n",
      "\n",
      "[1509692 rows x 12 columns]\n"
     ]
    }
   ],
   "source": [
    "# 'Freeze' 활동을 하는 User_Number 추출\n",
    "Freeze_users = balanced_df[balanced_df['status'] == 1]['User_Number'].unique()\n",
    "\n",
    "# 'Freeze' 활동을 하지 않는 User_Number 추출\n",
    "Freeze_absent_users = [User_Number for User_Number in df['User_Number'].unique() if User_Number not in Freeze_users]\n",
    "\n",
    "# 'Freeze' 활동을 하지 않는 User_Number 해당하는 행 삭제\n",
    "balanced_df = balanced_df[~balanced_df['User_Number'].isin(Freeze_absent_users)]\n",
    "\n",
    "# 결과 확인\n",
    "print(balanced_df)"
   ]
  },
  {
   "cell_type": "code",
   "execution_count": 29,
   "id": "9163bf98-2626-479f-9127-646f0acbfdc5",
   "metadata": {},
   "outputs": [
    {
     "name": "stderr",
     "output_type": "stream",
     "text": [
      "C:\\Users\\GACHON\\anaconda3\\envs\\test01\\lib\\site-packages\\seaborn\\_base.py:948: FutureWarning: When grouping with a length-1 list-like, you will need to pass a length-1 tuple to get_group in a future version of pandas. Pass `(name,)` instead of `name` to silence this warning.\n",
      "  data_subset = grouped_data.get_group(pd_key)\n",
      "C:\\Users\\GACHON\\anaconda3\\envs\\test01\\lib\\site-packages\\seaborn\\_base.py:948: FutureWarning: When grouping with a length-1 list-like, you will need to pass a length-1 tuple to get_group in a future version of pandas. Pass `(name,)` instead of `name` to silence this warning.\n",
      "  data_subset = grouped_data.get_group(pd_key)\n"
     ]
    },
    {
     "data": {
      "image/png": "[encoded data removed]",
      "text/plain": [
       "<Figure size 1800x600 with 1 Axes>"
      ]
     },
     "metadata": {},
     "output_type": "display_data"
    }
   ],
   "source": [
    "plt.figure(figsize=(18, 6))\n",
    "sns.countplot(x = \"User_Number\", hue=\"status\", data = balanced_df,\n",
    "              order = df.User_Number.value_counts().index)\n",
    "plt.title(\"Records per user\");"
   ]
  },
  {
   "cell_type": "code",
   "execution_count": 33,
   "id": "2ea15e4e-a5a7-4891-bd77-ad638a63930a",
   "metadata": {},
   "outputs": [
    {
     "name": "stdout",
     "output_type": "stream",
     "text": [
      "User_Number\n",
      "6    237904\n",
      "1    229818\n",
      "3    220608\n",
      "5    206792\n",
      "7    195658\n",
      "9    188156\n",
      "2    157906\n",
      "8     72850\n",
      "Name: count, dtype: int64\n",
      "status\n",
      "0    754846\n",
      "1    754846\n",
      "Name: count, dtype: int64\n"
     ]
    }
   ],
   "source": [
    "print(balanced_df['User_Number'].value_counts())\n",
    "print(balanced_df['status'].value_counts())"
   ]
  },
  {
   "cell_type": "code",
   "execution_count": 32,
   "id": "3d3d3bc0-5794-4482-98a4-edcf338155e4",
   "metadata": {},
   "outputs": [],
   "source": [
    "## 6번 User의 행 개수에 맞춰서 다른 User의 행 개수 밸런싱 (앞의 밸런싱 유지)"
   ]
  },
  {
   "cell_type": "markdown",
   "id": "ffc97d3f-9bed-48f0-b9d8-6fae72619e3c",
   "metadata": {},
   "source": [
    "#### 데이터프레임을 User_Number로 그룹화하여 각 그룹에 대해 SMOTE를 적용하고, 각 사용자 그룹의 데이터 수를 특정 개수로 맞추는 과정을 수행합니다. \n",
    "#### 또한 'Freeze' 활동을 하지 않는 사용자의 데이터를 제거합니다. 마지막으로, 결과 데이터프레임의 사용자별 데이터 수와 상태별 데이터 수를 출력합니다.\n",
    "\n",
    "## 설명\n",
    "#### 데이터프레임 그룹화:\n",
    "###### df.groupby('User_Number'): 데이터프레임을 User_Number로 그룹화합니다.\n",
    "\n",
    "#### SMOTE를 통한 오버샘플링 및 데이터 개수 조절:\n",
    "###### 각 그룹에 대해 클래스 개수를 확인하고, 클래스가 두 개 이상인 경우 SMOTE를 사용하여 오버샘플링을 수행합니다.\n",
    "###### 오버샘플링 후, 각 사용자 그룹의 데이터 수를 max_user_data_count로 맞춥니다.\n",
    "###### 클래스가 하나뿐인 경우 SMOTE를 적용하지 않고, 데이터 수를 max_user_data_count로 맞춥니다.\n",
    "\n",
    "#### 결과 데이터프레임 재결합:\n",
    "###### 모든 그룹의 결과를 하나의 데이터프레임으로 결합합니다.\n",
    "\n",
    "#### 'Freeze' 활동을 하지 않는 사용자 데이터 제거:\n",
    "###### 'Freeze' 활동을 하는 사용자 User_Number를 추출하고, 이를 기준으로 'Freeze' 활동을 하지 않는 사용자의 데이터를 제거합니다.\n",
    "\n",
    "#### 결과 데이터프레임 확인:\n",
    "###### 최종 데이터프레임의 상위 5개 행을 출력하여 확인합니다.\n",
    "###### 최종 데이터프레임의 사용자별 데이터 수와 상태별 데이터 수를 출력합니다.\n"
   ]
  },
  {
   "cell_type": "code",
   "execution_count": 34,
   "id": "9c25a159-4317-4ad2-ac2d-76ad05c3e383",
   "metadata": {},
   "outputs": [
    {
     "name": "stdout",
     "output_type": "stream",
     "text": [
      "             TS   Ankel_1  Ankel_2  Ankel_3  Thigh_1  Thigh_2  Thigh_3  \\\n",
      "121958  1240254      -107     1039      306      322      956      112   \n",
      "146867   578537      -249     1047      172       24     1016      118   \n",
      "131932  1853038      -313      950      227      202     1047      -47   \n",
      "103694   420187       -70     1019       69     -136      981      101   \n",
      "119879   673078      -111     1107      118      763      462     -252   \n",
      "\n",
      "        Trunk_1  Trunk_2  Trunk_3  status  User_Number  \n",
      "121958      -42      995      -77       1            1  \n",
      "146867      243     1043      175       1            1  \n",
      "131932      -97     1035      -10       1            1  \n",
      "103694      194      990      165       0            1  \n",
      "119879      504      723      456       0            1  \n",
      "             TS   Ankel_1  Ankel_2  Ankel_3  Thigh_1  Thigh_2  Thigh_3  \\\n",
      "121958  1240254      -107     1039      306      322      956      112   \n",
      "146867   578537      -249     1047      172       24     1016      118   \n",
      "131932  1853038      -313      950      227      202     1047      -47   \n",
      "103694   420187       -70     1019       69     -136      981      101   \n",
      "119879   673078      -111     1107      118      763      462     -252   \n",
      "...         ...       ...      ...      ...      ...      ...      ...   \n",
      "63993   1729843       242     1049      277     -172      944      222   \n",
      "29358    938687       -40     1009      207     -327      935      151   \n",
      "13642    643140       222     1480      128     -536     1129      434   \n",
      "109524  2521250       141     1009      168     -181      981      111   \n",
      "124149   961503       205     1005      131     -144      981      141   \n",
      "\n",
      "        Trunk_1  Trunk_2  Trunk_3  status  User_Number  \n",
      "121958      -42      995      -77       1            1  \n",
      "146867      243     1043      175       1            1  \n",
      "131932      -97     1035      -10       1            1  \n",
      "103694      194      990      165       0            1  \n",
      "119879      504      723      456       0            1  \n",
      "...         ...      ...      ...     ...          ...  \n",
      "63993        29      904      126       0            9  \n",
      "29358        29     1009        9       0            9  \n",
      "13642       359     1114      -58       1            9  \n",
      "109524      174      952       58       0            9  \n",
      "124149      124     1022      -32       1            9  \n",
      "\n",
      "[1903232 rows x 12 columns]\n",
      "User_Number\n",
      "1    237904\n",
      "2    237904\n",
      "3    237904\n",
      "5    237904\n",
      "6    237904\n",
      "7    237904\n",
      "8    237904\n",
      "9    237904\n",
      "Name: count, dtype: int64\n",
      "status\n",
      "0    952481\n",
      "1    950751\n",
      "Name: count, dtype: int64\n"
     ]
    }
   ],
   "source": [
    "from imblearn.over_sampling import SMOTE\n",
    "import pandas as pd\n",
    "\n",
    "# 데이터프레임 그룹화\n",
    "grouped = df.groupby('User_Number')\n",
    "\n",
    "# 각 그룹에 대해 밸런싱 적용\n",
    "balanced_dfs = []\n",
    "max_user_data_count = 237904  # 6번 User의 데이터 개수를 기준으로 설정\n",
    "\n",
    "for group_name, group_data in grouped:\n",
    "    # 그룹 내 클래스 개수 확인\n",
    "    num_classes = group_data['status'].nunique()\n",
    "    \n",
    "    # 최소 데이터 개수를 가진 사용자를 기준으로 전체 데이터 개수 조절\n",
    "    if num_classes > 1:\n",
    "        # Smote를 통한 Oversampling\n",
    "        smote = SMOTE(sampling_strategy='auto', random_state=42)\n",
    "        X_resampled, y_resampled = smote.fit_resample(group_data.drop(['status', 'User_Number'], axis=1), group_data['status'])\n",
    "        balanced_group_df = pd.concat([pd.DataFrame(X_resampled, columns=group_data.drop(['status', 'User_Number'], axis=1).columns),\n",
    "                                       pd.DataFrame({'status': y_resampled})], axis=1)\n",
    "\n",
    "        # 'user_id' 열 추가\n",
    "        balanced_group_df['User_Number'] = group_name\n",
    "\n",
    "        # 데이터 개수 조절\n",
    "        balanced_group_df = balanced_group_df.sample(n=max_user_data_count, replace=True, random_state=42)\n",
    "\n",
    "        balanced_dfs.append(balanced_group_df)\n",
    "    else:\n",
    "        # 데이터 개수 조절\n",
    "        group_data = group_data.sample(n=max_user_data_count, replace=True, random_state=42)\n",
    "        balanced_dfs.append(group_data)\n",
    "\n",
    "# 재결합\n",
    "balanced_df = pd.concat(balanced_dfs)\n",
    "\n",
    "# 결과 확인\n",
    "print(balanced_df.head())\n",
    "\n",
    "# 'Freeze' 활동을 하는 User_Number 추출\n",
    "Freeze_users = balanced_df[balanced_df['status'] == 1]['User_Number'].unique()\n",
    "\n",
    "# 'Freeze' 활동을 하지 않는 User_Number 추출\n",
    "Freeze_absent_users = [User_Number for User_Number in df['User_Number'].unique() if User_Number not in Freeze_users]\n",
    "\n",
    "# 'Freeze' 활동을 하지 않는 User_Number 해당하는 행 삭제\n",
    "balanced_df = balanced_df[~balanced_df['User_Number'].isin(Freeze_absent_users)]\n",
    "\n",
    "# 결과 확인\n",
    "print(balanced_df)\n",
    "\n",
    "# 결과 확인\n",
    "print(balanced_df['User_Number'].value_counts())\n",
    "print(balanced_df['status'].value_counts())"
   ]
  },
  {
   "cell_type": "code",
   "execution_count": 35,
   "id": "55fec486-1d3d-46f6-b5e5-f16c163963ca",
   "metadata": {},
   "outputs": [
    {
     "name": "stderr",
     "output_type": "stream",
     "text": [
      "C:\\Users\\GACHON\\anaconda3\\envs\\test01\\lib\\site-packages\\seaborn\\_base.py:948: FutureWarning: When grouping with a length-1 list-like, you will need to pass a length-1 tuple to get_group in a future version of pandas. Pass `(name,)` instead of `name` to silence this warning.\n",
      "  data_subset = grouped_data.get_group(pd_key)\n",
      "C:\\Users\\GACHON\\anaconda3\\envs\\test01\\lib\\site-packages\\seaborn\\_base.py:948: FutureWarning: When grouping with a length-1 list-like, you will need to pass a length-1 tuple to get_group in a future version of pandas. Pass `(name,)` instead of `name` to silence this warning.\n",
      "  data_subset = grouped_data.get_group(pd_key)\n"
     ]
    },
    {
     "data": {
      "image/png": "[encoded data removed]",
      "text/plain": [
       "<Figure size 1800x600 with 1 Axes>"
      ]
     },
     "metadata": {},
     "output_type": "display_data"
    }
   ],
   "source": [
    "plt.figure(figsize=(18, 6))\n",
    "sns.countplot(x = \"User_Number\", hue=\"status\", data = balanced_df,\n",
    "              order = df.User_Number.value_counts().index)\n",
    "plt.title(\"Records per user\");"
   ]
  },
  {
   "cell_type": "markdown",
   "id": "3152ff94-faf8-4c34-a36f-dda4a4a660a7",
   "metadata": {},
   "source": [
    "## 이전의 코드와 같습니다."
   ]
  },
  {
   "cell_type": "code",
   "execution_count": 38,
   "id": "2cdb65dd-bb11-45e4-bbbb-b5c94ccf5845",
   "metadata": {},
   "outputs": [],
   "source": [
    "X = balanced_df[['TS', ' Ankel_1', 'Ankel_2', 'Ankel_3', 'Thigh_1', 'Thigh_2', 'Thigh_3',\n",
    "       'Trunk_1', 'Trunk_2', 'Trunk_3']].values\n",
    "y = balanced_df['status'].values.reshape(-1, 1)"
   ]
  },
  {
   "cell_type": "code",
   "execution_count": 39,
   "id": "08abdc33-5db2-422d-9818-d63600157959",
   "metadata": {},
   "outputs": [
    {
     "name": "stdout",
     "output_type": "stream",
     "text": [
      "(1218068, 10) (1218068, 1)\n",
      "(380647, 10) (380647, 1)\n"
     ]
    }
   ],
   "source": [
    "X_train, X_test,y_train, y_test = train_test_split(X, y, test_size = 0.2, stratify= y)\n",
    "X_train, X_val, y_train, y_val  = train_test_split(X_train, y_train, test_size = 0.2, stratify= y_train )\n",
    "print(X_train.shape, y_train.shape)\n",
    "print(X_test.shape, y_test.shape)"
   ]
  },
  {
   "cell_type": "code",
   "execution_count": 40,
   "id": "8b99a908-ad18-4708-b1fd-25448dfe31e0",
   "metadata": {},
   "outputs": [
    {
     "name": "stdout",
     "output_type": "stream",
     "text": [
      "(1218068, 10, 1)\n",
      "(380647, 10, 1)\n"
     ]
    }
   ],
   "source": [
    "X_train = X_train.reshape((X_train.shape[0], X_train.shape[1], 1))\n",
    "X_test = X_test.reshape((X_test.shape[0], X_test.shape[1], 1))\n",
    "print(X_train.shape)\n",
    "print(X_test.shape)"
   ]
  },
  {
   "cell_type": "code",
   "execution_count": 41,
   "id": "6dc64042-0b89-40e4-92fb-1e025619d036",
   "metadata": {},
   "outputs": [],
   "source": [
    "from sklearn.preprocessing import OneHotEncoder\n",
    "\n",
    "enc = OneHotEncoder(handle_unknown=\"ignore\", sparse_output=False)\n",
    "enc.fit(y_train)\n",
    "\n",
    "y_train_hot = enc.transform(y_train) \n",
    "y_test_hot = enc.transform(y_test) \n",
    "y_val_hot = enc.transform(y_val)"
   ]
  },
  {
   "cell_type": "code",
   "execution_count": 42,
   "id": "9e7ff92a-7181-4904-8a12-b50042d14875",
   "metadata": {},
   "outputs": [
    {
     "data": {
      "text/plain": [
       "2"
      ]
     },
     "execution_count": 42,
     "metadata": {},
     "output_type": "execute_result"
    }
   ],
   "source": [
    "n_status = len(np.unique(y_train_hot))\n",
    "n_status"
   ]
  },
  {
   "cell_type": "code",
   "execution_count": 43,
   "id": "79181fa4-1f5b-44e7-86a6-a99033a107cc",
   "metadata": {},
   "outputs": [],
   "source": [
    "idx = np.random.permutation(len(X_train))\n",
    "X_train = X_train[idx]\n",
    "y_train_hot = y_train_hot[idx]"
   ]
  },
  {
   "cell_type": "code",
   "execution_count": 44,
   "id": "1c827b1e-f6a4-4790-aec4-32cd3624035a",
   "metadata": {},
   "outputs": [
    {
     "name": "stdout",
     "output_type": "stream",
     "text": [
      "Model: \"model_1\"\n",
      "__________________________________________________________________________________________________\n",
      " Layer (type)                   Output Shape         Param #     Connected to                     \n",
      "==================================================================================================\n",
      " input_2 (InputLayer)           [(None, 10, 1)]      0           []                               \n",
      "                                                                                                  \n",
      " multi_head_attention_4 (MultiH  (None, 10, 1)       7169        ['input_2[0][0]',                \n",
      " eadAttention)                                                    'input_2[0][0]']                \n",
      "                                                                                                  \n",
      " dropout_9 (Dropout)            (None, 10, 1)        0           ['multi_head_attention_4[0][0]'] \n",
      "                                                                                                  \n",
      " layer_normalization_8 (LayerNo  (None, 10, 1)       2           ['dropout_9[0][0]']              \n",
      " rmalization)                                                                                     \n",
      "                                                                                                  \n",
      " tf.__operators__.add_8 (TFOpLa  (None, 10, 1)       0           ['layer_normalization_8[0][0]',  \n",
      " mbda)                                                            'input_2[0][0]']                \n",
      "                                                                                                  \n",
      " conv1d_8 (Conv1D)              (None, 10, 4)        8           ['tf.__operators__.add_8[0][0]'] \n",
      "                                                                                                  \n",
      " dropout_10 (Dropout)           (None, 10, 4)        0           ['conv1d_8[0][0]']               \n",
      "                                                                                                  \n",
      " conv1d_9 (Conv1D)              (None, 10, 1)        5           ['dropout_10[0][0]']             \n",
      "                                                                                                  \n",
      " layer_normalization_9 (LayerNo  (None, 10, 1)       2           ['conv1d_9[0][0]']               \n",
      " rmalization)                                                                                     \n",
      "                                                                                                  \n",
      " tf.__operators__.add_9 (TFOpLa  (None, 10, 1)       0           ['layer_normalization_9[0][0]',  \n",
      " mbda)                                                            'tf.__operators__.add_8[0][0]'] \n",
      "                                                                                                  \n",
      " multi_head_attention_5 (MultiH  (None, 10, 1)       7169        ['tf.__operators__.add_9[0][0]', \n",
      " eadAttention)                                                    'tf.__operators__.add_9[0][0]'] \n",
      "                                                                                                  \n",
      " dropout_11 (Dropout)           (None, 10, 1)        0           ['multi_head_attention_5[0][0]'] \n",
      "                                                                                                  \n",
      " layer_normalization_10 (LayerN  (None, 10, 1)       2           ['dropout_11[0][0]']             \n",
      " ormalization)                                                                                    \n",
      "                                                                                                  \n",
      " tf.__operators__.add_10 (TFOpL  (None, 10, 1)       0           ['layer_normalization_10[0][0]', \n",
      " ambda)                                                           'tf.__operators__.add_9[0][0]'] \n",
      "                                                                                                  \n",
      " conv1d_10 (Conv1D)             (None, 10, 4)        8           ['tf.__operators__.add_10[0][0]']\n",
      "                                                                                                  \n",
      " dropout_12 (Dropout)           (None, 10, 4)        0           ['conv1d_10[0][0]']              \n",
      "                                                                                                  \n",
      " conv1d_11 (Conv1D)             (None, 10, 1)        5           ['dropout_12[0][0]']             \n",
      "                                                                                                  \n",
      " layer_normalization_11 (LayerN  (None, 10, 1)       2           ['conv1d_11[0][0]']              \n",
      " ormalization)                                                                                    \n",
      "                                                                                                  \n",
      " tf.__operators__.add_11 (TFOpL  (None, 10, 1)       0           ['layer_normalization_11[0][0]', \n",
      " ambda)                                                           'tf.__operators__.add_10[0][0]']\n",
      "                                                                                                  \n",
      " multi_head_attention_6 (MultiH  (None, 10, 1)       7169        ['tf.__operators__.add_11[0][0]',\n",
      " eadAttention)                                                    'tf.__operators__.add_11[0][0]']\n",
      "                                                                                                  \n",
      " dropout_13 (Dropout)           (None, 10, 1)        0           ['multi_head_attention_6[0][0]'] \n",
      "                                                                                                  \n",
      " layer_normalization_12 (LayerN  (None, 10, 1)       2           ['dropout_13[0][0]']             \n",
      " ormalization)                                                                                    \n",
      "                                                                                                  \n",
      " tf.__operators__.add_12 (TFOpL  (None, 10, 1)       0           ['layer_normalization_12[0][0]', \n",
      " ambda)                                                           'tf.__operators__.add_11[0][0]']\n",
      "                                                                                                  \n",
      " conv1d_12 (Conv1D)             (None, 10, 4)        8           ['tf.__operators__.add_12[0][0]']\n",
      "                                                                                                  \n",
      " dropout_14 (Dropout)           (None, 10, 4)        0           ['conv1d_12[0][0]']              \n",
      "                                                                                                  \n",
      " conv1d_13 (Conv1D)             (None, 10, 1)        5           ['dropout_14[0][0]']             \n",
      "                                                                                                  \n",
      " layer_normalization_13 (LayerN  (None, 10, 1)       2           ['conv1d_13[0][0]']              \n",
      " ormalization)                                                                                    \n",
      "                                                                                                  \n",
      " tf.__operators__.add_13 (TFOpL  (None, 10, 1)       0           ['layer_normalization_13[0][0]', \n",
      " ambda)                                                           'tf.__operators__.add_12[0][0]']\n",
      "                                                                                                  \n",
      " multi_head_attention_7 (MultiH  (None, 10, 1)       7169        ['tf.__operators__.add_13[0][0]',\n",
      " eadAttention)                                                    'tf.__operators__.add_13[0][0]']\n",
      "                                                                                                  \n",
      " dropout_15 (Dropout)           (None, 10, 1)        0           ['multi_head_attention_7[0][0]'] \n",
      "                                                                                                  \n",
      " layer_normalization_14 (LayerN  (None, 10, 1)       2           ['dropout_15[0][0]']             \n",
      " ormalization)                                                                                    \n",
      "                                                                                                  \n",
      " tf.__operators__.add_14 (TFOpL  (None, 10, 1)       0           ['layer_normalization_14[0][0]', \n",
      " ambda)                                                           'tf.__operators__.add_13[0][0]']\n",
      "                                                                                                  \n",
      " conv1d_14 (Conv1D)             (None, 10, 4)        8           ['tf.__operators__.add_14[0][0]']\n",
      "                                                                                                  \n",
      " dropout_16 (Dropout)           (None, 10, 4)        0           ['conv1d_14[0][0]']              \n",
      "                                                                                                  \n",
      " conv1d_15 (Conv1D)             (None, 10, 1)        5           ['dropout_16[0][0]']             \n",
      "                                                                                                  \n",
      " layer_normalization_15 (LayerN  (None, 10, 1)       2           ['conv1d_15[0][0]']              \n",
      " ormalization)                                                                                    \n",
      "                                                                                                  \n",
      " tf.__operators__.add_15 (TFOpL  (None, 10, 1)       0           ['layer_normalization_15[0][0]', \n",
      " ambda)                                                           'tf.__operators__.add_14[0][0]']\n",
      "                                                                                                  \n",
      " global_average_pooling1d_1 (Gl  (None, 1)           0           ['tf.__operators__.add_15[0][0]']\n",
      " obalAveragePooling1D)                                                                            \n",
      "                                                                                                  \n",
      " dense_2 (Dense)                (None, 128)          256         ['global_average_pooling1d_1[0][0\n",
      "                                                                 ]']                              \n",
      "                                                                                                  \n",
      " dropout_17 (Dropout)           (None, 128)          0           ['dense_2[0][0]']                \n",
      "                                                                                                  \n",
      " dense_3 (Dense)                (None, 2)            258         ['dropout_17[0][0]']             \n",
      "                                                                                                  \n",
      "==================================================================================================\n",
      "Total params: 29,258\n",
      "Trainable params: 29,258\n",
      "Non-trainable params: 0\n",
      "__________________________________________________________________________________________________\n"
     ]
    }
   ],
   "source": [
    "input_shape = X_train.shape[1:]\n",
    "\n",
    "model = build_model(\n",
    "    input_shape,\n",
    "    head_size=256,\n",
    "    num_heads=4,\n",
    "    ff_dim=4,\n",
    "    num_transformer_blocks=4,\n",
    "    mlp_units=[128],\n",
    "    mlp_dropout=0.4,\n",
    "    dropout=0.25,\n",
    ")\n",
    "\n",
    "model.compile(\n",
    "    loss=\"binary_crossentropy\",\n",
    "    optimizer=keras.optimizers.Adam(learning_rate=1e-4),\n",
    "    metrics=[\"accuracy\"]\n",
    ")\n",
    "model.summary()"
   ]
  },
  {
   "cell_type": "code",
   "execution_count": 45,
   "id": "f5b53610-7bbc-4e00-bedd-6cc5a977eb0e",
   "metadata": {},
   "outputs": [
    {
     "name": "stdout",
     "output_type": "stream",
     "text": [
      "Epoch 1/100\n",
      "19033/19033 [==============================] - 334s 17ms/step - loss: 452.2497 - accuracy: 0.4995 - val_loss: 0.6933 - val_accuracy: 0.4995\n",
      "Epoch 2/100\n",
      "19033/19033 [==============================] - 347s 18ms/step - loss: 0.6932 - accuracy: 0.4998 - val_loss: 0.6932 - val_accuracy: 0.4995\n",
      "Epoch 3/100\n",
      "19033/19033 [==============================] - 346s 18ms/step - loss: 0.6932 - accuracy: 0.4996 - val_loss: 0.6931 - val_accuracy: 0.4995\n",
      "Epoch 4/100\n",
      "19033/19033 [==============================] - 335s 18ms/step - loss: 0.6932 - accuracy: 0.4996 - val_loss: 0.6931 - val_accuracy: 0.4995\n",
      "Epoch 5/100\n",
      "19033/19033 [==============================] - 330s 17ms/step - loss: 0.6932 - accuracy: 0.4996 - val_loss: 0.6931 - val_accuracy: 0.5005\n",
      "Epoch 6/100\n",
      "19033/19033 [==============================] - 324s 17ms/step - loss: 0.6932 - accuracy: 0.4999 - val_loss: 0.6931 - val_accuracy: 0.5005\n",
      "Epoch 7/100\n",
      "19033/19033 [==============================] - 323s 17ms/step - loss: 0.6932 - accuracy: 0.5006 - val_loss: 0.6931 - val_accuracy: 0.5005\n",
      "Epoch 8/100\n",
      "19033/19033 [==============================] - 324s 17ms/step - loss: 0.6932 - accuracy: 0.5000 - val_loss: 0.6931 - val_accuracy: 0.5005\n",
      "Epoch 9/100\n",
      "19033/19033 [==============================] - 334s 18ms/step - loss: 0.6932 - accuracy: 0.4998 - val_loss: 0.6931 - val_accuracy: 0.5005\n",
      "Epoch 10/100\n",
      "19033/19033 [==============================] - 337s 18ms/step - loss: 0.6932 - accuracy: 0.4996 - val_loss: 0.6931 - val_accuracy: 0.4995\n",
      "Epoch 11/100\n",
      "19033/19033 [==============================] - 337s 18ms/step - loss: 0.6932 - accuracy: 0.4998 - val_loss: 0.6931 - val_accuracy: 0.5005\n",
      "Epoch 12/100\n",
      "19033/19033 [==============================] - 340s 18ms/step - loss: 0.6932 - accuracy: 0.5000 - val_loss: 0.6931 - val_accuracy: 0.5005\n",
      "Epoch 13/100\n",
      "19033/19033 [==============================] - 336s 18ms/step - loss: 0.6932 - accuracy: 0.5008 - val_loss: 0.6931 - val_accuracy: 0.5005\n",
      "11896/11896 [==============================] - 69s 6ms/step - loss: 0.6932 - accuracy: 0.4995\n"
     ]
    },
    {
     "data": {
      "text/plain": [
       "[0.6931775212287903, 0.4995442032814026]"
      ]
     },
     "execution_count": 45,
     "metadata": {},
     "output_type": "execute_result"
    }
   ],
   "source": [
    "callbacks = [keras.callbacks.EarlyStopping(patience=10, restore_best_weights=True)]\n",
    "\n",
    "history = model.fit(\n",
    "    X_train,\n",
    "    y_train_hot,\n",
    "    validation_data=(X_val, y_val_hot),\n",
    "    epochs=100,\n",
    "    batch_size=64,\n",
    "    callbacks=callbacks,\n",
    ")\n",
    "model.evaluate(X_test, y_test_hot , verbose=1)"
   ]
  },
  {
   "cell_type": "code",
   "execution_count": 46,
   "id": "c5f5d12a-6b28-47d9-8821-c32dd66b14e4",
   "metadata": {},
   "outputs": [
    {
     "data": {
      "text/plain": [
       "<matplotlib.legend.Legend at 0x10652da2620>"
      ]
     },
     "execution_count": 46,
     "metadata": {},
     "output_type": "execute_result"
    },
    {
     "data": {
      "image/png": "[encoded data removed]",
      "text/plain": [
       "<Figure size 640x480 with 1 Axes>"
      ]
     },
     "metadata": {},
     "output_type": "display_data"
    }
   ],
   "source": [
    "plt.plot(history.history['loss'])\n",
    "plt.plot(history.history['val_loss'])\n",
    "plt.title('model loss')\n",
    "plt.ylabel('loss')\n",
    "plt.xlabel('epoch')\n",
    "plt.legend(['train', 'Validation'], loc='upper left')"
   ]
  },
  {
   "cell_type": "code",
   "execution_count": 47,
   "id": "8111c213-924a-4bc8-82f2-3e848bb72223",
   "metadata": {},
   "outputs": [
    {
     "data": {
      "text/plain": [
       "<matplotlib.legend.Legend at 0x10651f1ec80>"
      ]
     },
     "execution_count": 47,
     "metadata": {},
     "output_type": "execute_result"
    },
    {
     "data": {
      "image/png": "[encoded data removed]",
      "text/plain": [
       "<Figure size 640x480 with 1 Axes>"
      ]
     },
     "metadata": {},
     "output_type": "display_data"
    }
   ],
   "source": [
    "plt.plot(history.history['accuracy'])\n",
    "plt.plot(history.history['val_accuracy'])\n",
    "plt.title('Training and validation accuracy')\n",
    "plt.ylabel('accuracy')\n",
    "plt.xlabel('epoch')\n",
    "plt.legend(['train', 'Validation'], loc='upper left')"
   ]
  },
  {
   "cell_type": "code",
   "execution_count": 48,
   "id": "4f2f28a5-ad45-480c-b3fd-1f174b847e8f",
   "metadata": {},
   "outputs": [
    {
     "name": "stdout",
     "output_type": "stream",
     "text": [
      "11896/11896 [==============================] - 44s 4ms/step\n",
      "f1_score =  0.3328270088378187\n",
      "0.4995441971170139\n"
     ]
    },
    {
     "name": "stderr",
     "output_type": "stream",
     "text": [
      "C:\\Users\\GACHON\\anaconda3\\envs\\test01\\lib\\site-packages\\sklearn\\metrics\\_classification.py:1469: UndefinedMetricWarning: Precision and F-score are ill-defined and being set to 0.0 in labels with no predicted samples. Use `zero_division` parameter to control this behavior.\n",
      "  _warn_prf(average, modifier, msg_start, len(result))\n",
      "C:\\Users\\GACHON\\anaconda3\\envs\\test01\\lib\\site-packages\\sklearn\\metrics\\_classification.py:1469: UndefinedMetricWarning: Precision and F-score are ill-defined and being set to 0.0 in labels with no predicted samples. Use `zero_division` parameter to control this behavior.\n",
      "  _warn_prf(average, modifier, msg_start, len(result))\n"
     ]
    },
    {
     "name": "stdout",
     "output_type": "stream",
     "text": [
      "              precision    recall  f1-score   support\n",
      "\n",
      "           0       0.00      0.00      0.00    190497\n",
      "           1       0.50      1.00      0.67    190150\n",
      "\n",
      "    accuracy                           0.50    380647\n",
      "   macro avg       0.25      0.50      0.33    380647\n",
      "weighted avg       0.25      0.50      0.33    380647\n",
      "\n"
     ]
    },
    {
     "name": "stderr",
     "output_type": "stream",
     "text": [
      "C:\\Users\\GACHON\\anaconda3\\envs\\test01\\lib\\site-packages\\sklearn\\metrics\\_classification.py:1469: UndefinedMetricWarning: Precision and F-score are ill-defined and being set to 0.0 in labels with no predicted samples. Use `zero_division` parameter to control this behavior.\n",
      "  _warn_prf(average, modifier, msg_start, len(result))\n"
     ]
    },
    {
     "data": {
      "text/plain": [
       "<Axes: >"
      ]
     },
     "execution_count": 48,
     "metadata": {},
     "output_type": "execute_result"
    },
    {
     "data": {
      "image/png": "[encoded data removed]",
      "text/plain": [
       "<Figure size 640x480 with 2 Axes>"
      ]
     },
     "metadata": {},
     "output_type": "display_data"
    }
   ],
   "source": [
    "from sklearn.metrics import confusion_matrix,classification_report,accuracy_score\n",
    "import numpy as np\n",
    "\n",
    "y_pred=model.predict(X_test)\n",
    "y_pred = np.argmax(y_pred, axis=-1)\n",
    "y_true = np.argmax(y_test_hot, axis=-1)\n",
    "\n",
    "LABELS = ['No_Freeze','Freeze']\n",
    "cm=confusion_matrix(y_true,y_pred)\n",
    "\n",
    "#print(cm)\n",
    "print('f1_score = ', f1_score(y_true, y_pred, average='weighted'))\n",
    "print(accuracy_score(y_true,y_pred))\n",
    "print(classification_report(y_true,y_pred))\n",
    "sns.heatmap(cm, cmap=\"YlGnBu\", xticklabels=LABELS, yticklabels=LABELS, annot=True, fmt = '.2f')"
   ]
  }
 ],
 "metadata": {
  "kernelspec": {
   "display_name": "Python 3 (ipykernel)",
   "language": "python",
   "name": "python3"
  },
  "language_info": {
   "codemirror_mode": {
    "name": "ipython",
    "version": 3
   },
   "file_extension": ".py",
   "mimetype": "text/x-python",
   "name": "python",
   "nbconvert_exporter": "python",
   "pygments_lexer": "ipython3",
   "version": "3.11.7"
  }
 },
 "nbformat": 4,
 "nbformat_minor": 5
}
