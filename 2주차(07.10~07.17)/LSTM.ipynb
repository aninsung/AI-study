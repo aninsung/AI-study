{
 "cells": [
  {
   "cell_type": "code",
   "execution_count": 2,
   "id": "1d14d760-3065-42bb-ac80-5d144107a375",
   "metadata": {},
   "outputs": [],
   "source": [
    "import numpy as np\n",
    "import pandas as pd\n",
    "import tensorflow as tf\n",
    "from tensorflow import keras\n"
   ]
  },
  {
   "cell_type": "code",
   "execution_count": 3,
   "id": "e2ff220a-040e-4237-902a-97a15f16675c",
   "metadata": {},
   "outputs": [],
   "source": [
    "from sklearn.datasets import load_diabetes\n",
    "import pandas as pd\n",
    "import numpy as np\n",
    "import matplotlib.pyplot as plt\n",
    "from sklearn.model_selection import train_test_split\n",
    "from sklearn.preprocessing import StandardScaler, LabelEncoder\n",
    "from sklearn.neighbors import KNeighborsClassifier\n",
    "import seaborn as sns"
   ]
  },
  {
   "cell_type": "code",
   "execution_count": 4,
   "id": "0e6eb5b3-f44f-4e93-a0e4-a7bb42b60ffe",
   "metadata": {},
   "outputs": [
    {
     "name": "stdout",
     "output_type": "stream",
     "text": [
      "     quarter stock       date   open   high    low  close     volume  \\\n",
      "0          1    AA   1/7/2011  15.82  16.72  15.78  16.42  239655616   \n",
      "1          1    AA  1/14/2011  16.71  16.71  15.64  15.97  242963398   \n",
      "2          1    AA  1/21/2011  16.19  16.38  15.60  15.79  138428495   \n",
      "3          1    AA  1/28/2011  15.87  16.63  15.82  16.13  151379173   \n",
      "4          1    AA   2/4/2011  16.18  17.39  16.18  17.14  154387761   \n",
      "..       ...   ...        ...    ...    ...    ...    ...        ...   \n",
      "745        2   XOM  5/27/2011  80.22  82.63  80.07  82.63   68230855   \n",
      "746        2   XOM   6/3/2011  83.28  83.75  80.18  81.18   78616295   \n",
      "747        2   XOM  6/10/2011  80.93  81.87  79.72  79.78   92380844   \n",
      "748        2   XOM  6/17/2011  80.00  80.82  78.33  79.02  100521400   \n",
      "749        2   XOM  6/24/2011  78.65  81.12  76.78  76.78  118679791   \n",
      "\n",
      "     percent_change_price  percent_change_volume_over_last_wk  \\\n",
      "0                 3.79267                                 NaN   \n",
      "1                -4.42849                            1.380223   \n",
      "2                -2.47066                          -43.024959   \n",
      "3                 1.63831                            9.355500   \n",
      "4                 5.93325                            1.987452   \n",
      "..                    ...                                 ...   \n",
      "745               3.00424                          -21.355713   \n",
      "746              -2.52161                           15.221032   \n",
      "747              -1.42098                           17.508519   \n",
      "748              -1.22500                            8.811952   \n",
      "749              -2.37762                           18.064204   \n",
      "\n",
      "     previous_weeks_volume next_weeks_open next_weeks_close  \\\n",
      "0                      NaN          $16.71           $15.97   \n",
      "1              239655616.0          $16.19           $15.79   \n",
      "2              242963398.0          $15.87           $16.13   \n",
      "3              138428495.0          $16.18           $17.14   \n",
      "4              151379173.0          $17.33           $17.37   \n",
      "..                     ...             ...              ...   \n",
      "745             86758820.0          $83.28           $81.18   \n",
      "746             68230855.0          $80.93           $79.78   \n",
      "747             78616295.0          $80.00           $79.02   \n",
      "748             92380844.0          $78.65           $76.78   \n",
      "749            100521400.0          $76.88           $82.01   \n",
      "\n",
      "     percent_change_next_weeks_price  days_to_next_dividend  \\\n",
      "0                          -4.428490                     26   \n",
      "1                          -2.470660                     19   \n",
      "2                           1.638310                     12   \n",
      "3                           5.933250                      5   \n",
      "4                           0.230814                     97   \n",
      "..                               ...                    ...   \n",
      "745                        -2.521610                     75   \n",
      "746                        -1.420980                     68   \n",
      "747                        -1.225000                     61   \n",
      "748                        -2.377620                     54   \n",
      "749                         6.672740                     47   \n",
      "\n",
      "     percent_return_next_dividend  \n",
      "0                        0.182704  \n",
      "1                        0.187852  \n",
      "2                        0.189994  \n",
      "3                        0.185989  \n",
      "4                        0.175029  \n",
      "..                            ...  \n",
      "745                      0.568801  \n",
      "746                      0.578960  \n",
      "747                      0.589120  \n",
      "748                      0.594786  \n",
      "749                      0.612139  \n",
      "\n",
      "[750 rows x 16 columns]\n"
     ]
    }
   ],
   "source": [
    "stock = pd.read_csv(\"C:/Users/insun/Desktop/AI_STUDY/2주차(07.10~07.17)/dow_jones_index.data\")\n",
    "\n",
    "\n",
    "df = pd.DataFrame(stock)\n",
    "\n",
    "# \"$\" 문자열 삭제 후 숫자로 변환\n",
    "df['open'] = df['open'].str.replace('$', '').astype(float)\n",
    "df['high'] = df['high'].str.replace('$', '').astype(float)\n",
    "df['low'] = df['low'].str.replace('$', '').astype(float)\n",
    "df['close'] = df['close'].str.replace('$', '').astype(float)\n",
    "\n",
    "print(df)\n",
    "\n",
    "\n"
   ]
  },
  {
   "cell_type": "code",
   "execution_count": 5,
   "id": "c6830448-f06c-4f5f-bbe0-a4a2d2af9e97",
   "metadata": {},
   "outputs": [
    {
     "data": {
      "text/plain": [
       "Index(['quarter', 'stock', 'date', 'open', 'high', 'low', 'close', 'volume',\n",
       "       'percent_change_price', 'percent_change_volume_over_last_wk',\n",
       "       'previous_weeks_volume', 'next_weeks_open', 'next_weeks_close',\n",
       "       'percent_change_next_weeks_price', 'days_to_next_dividend',\n",
       "       'percent_return_next_dividend'],\n",
       "      dtype='object')"
      ]
     },
     "execution_count": 5,
     "metadata": {},
     "output_type": "execute_result"
    }
   ],
   "source": [
    "df.columns"
   ]
  },
  {
   "cell_type": "code",
   "execution_count": 6,
   "id": "c1ed92b6-b07d-4e9e-9f4e-02881506be3f",
   "metadata": {},
   "outputs": [],
   "source": [
    "df = df[['quarter','stock','date','open','high','low','close','volume']]"
   ]
  },
  {
   "cell_type": "code",
   "execution_count": 7,
   "id": "30ae0760-b69e-4125-a826-266c21f91f4d",
   "metadata": {},
   "outputs": [
    {
     "data": {
      "text/html": [
       "<div>\n",
       "<style scoped>\n",
       "    .dataframe tbody tr th:only-of-type {\n",
       "        vertical-align: middle;\n",
       "    }\n",
       "\n",
       "    .dataframe tbody tr th {\n",
       "        vertical-align: top;\n",
       "    }\n",
       "\n",
       "    .dataframe thead th {\n",
       "        text-align: right;\n",
       "    }\n",
       "</style>\n",
       "<table border=\"1\" class=\"dataframe\">\n",
       "  <thead>\n",
       "    <tr style=\"text-align: right;\">\n",
       "      <th></th>\n",
       "      <th>quarter</th>\n",
       "      <th>stock</th>\n",
       "      <th>date</th>\n",
       "      <th>open</th>\n",
       "      <th>high</th>\n",
       "      <th>low</th>\n",
       "      <th>close</th>\n",
       "      <th>volume</th>\n",
       "    </tr>\n",
       "  </thead>\n",
       "  <tbody>\n",
       "    <tr>\n",
       "      <th>0</th>\n",
       "      <td>1</td>\n",
       "      <td>AA</td>\n",
       "      <td>1/7/2011</td>\n",
       "      <td>15.82</td>\n",
       "      <td>16.72</td>\n",
       "      <td>15.78</td>\n",
       "      <td>16.42</td>\n",
       "      <td>239655616</td>\n",
       "    </tr>\n",
       "    <tr>\n",
       "      <th>1</th>\n",
       "      <td>1</td>\n",
       "      <td>AA</td>\n",
       "      <td>1/14/2011</td>\n",
       "      <td>16.71</td>\n",
       "      <td>16.71</td>\n",
       "      <td>15.64</td>\n",
       "      <td>15.97</td>\n",
       "      <td>242963398</td>\n",
       "    </tr>\n",
       "    <tr>\n",
       "      <th>2</th>\n",
       "      <td>1</td>\n",
       "      <td>AA</td>\n",
       "      <td>1/21/2011</td>\n",
       "      <td>16.19</td>\n",
       "      <td>16.38</td>\n",
       "      <td>15.60</td>\n",
       "      <td>15.79</td>\n",
       "      <td>138428495</td>\n",
       "    </tr>\n",
       "    <tr>\n",
       "      <th>3</th>\n",
       "      <td>1</td>\n",
       "      <td>AA</td>\n",
       "      <td>1/28/2011</td>\n",
       "      <td>15.87</td>\n",
       "      <td>16.63</td>\n",
       "      <td>15.82</td>\n",
       "      <td>16.13</td>\n",
       "      <td>151379173</td>\n",
       "    </tr>\n",
       "    <tr>\n",
       "      <th>4</th>\n",
       "      <td>1</td>\n",
       "      <td>AA</td>\n",
       "      <td>2/4/2011</td>\n",
       "      <td>16.18</td>\n",
       "      <td>17.39</td>\n",
       "      <td>16.18</td>\n",
       "      <td>17.14</td>\n",
       "      <td>154387761</td>\n",
       "    </tr>\n",
       "    <tr>\n",
       "      <th>...</th>\n",
       "      <td>...</td>\n",
       "      <td>...</td>\n",
       "      <td>...</td>\n",
       "      <td>...</td>\n",
       "      <td>...</td>\n",
       "      <td>...</td>\n",
       "      <td>...</td>\n",
       "      <td>...</td>\n",
       "    </tr>\n",
       "    <tr>\n",
       "      <th>745</th>\n",
       "      <td>2</td>\n",
       "      <td>XOM</td>\n",
       "      <td>5/27/2011</td>\n",
       "      <td>80.22</td>\n",
       "      <td>82.63</td>\n",
       "      <td>80.07</td>\n",
       "      <td>82.63</td>\n",
       "      <td>68230855</td>\n",
       "    </tr>\n",
       "    <tr>\n",
       "      <th>746</th>\n",
       "      <td>2</td>\n",
       "      <td>XOM</td>\n",
       "      <td>6/3/2011</td>\n",
       "      <td>83.28</td>\n",
       "      <td>83.75</td>\n",
       "      <td>80.18</td>\n",
       "      <td>81.18</td>\n",
       "      <td>78616295</td>\n",
       "    </tr>\n",
       "    <tr>\n",
       "      <th>747</th>\n",
       "      <td>2</td>\n",
       "      <td>XOM</td>\n",
       "      <td>6/10/2011</td>\n",
       "      <td>80.93</td>\n",
       "      <td>81.87</td>\n",
       "      <td>79.72</td>\n",
       "      <td>79.78</td>\n",
       "      <td>92380844</td>\n",
       "    </tr>\n",
       "    <tr>\n",
       "      <th>748</th>\n",
       "      <td>2</td>\n",
       "      <td>XOM</td>\n",
       "      <td>6/17/2011</td>\n",
       "      <td>80.00</td>\n",
       "      <td>80.82</td>\n",
       "      <td>78.33</td>\n",
       "      <td>79.02</td>\n",
       "      <td>100521400</td>\n",
       "    </tr>\n",
       "    <tr>\n",
       "      <th>749</th>\n",
       "      <td>2</td>\n",
       "      <td>XOM</td>\n",
       "      <td>6/24/2011</td>\n",
       "      <td>78.65</td>\n",
       "      <td>81.12</td>\n",
       "      <td>76.78</td>\n",
       "      <td>76.78</td>\n",
       "      <td>118679791</td>\n",
       "    </tr>\n",
       "  </tbody>\n",
       "</table>\n",
       "<p>750 rows × 8 columns</p>\n",
       "</div>"
      ],
      "text/plain": [
       "     quarter stock       date   open   high    low  close     volume\n",
       "0          1    AA   1/7/2011  15.82  16.72  15.78  16.42  239655616\n",
       "1          1    AA  1/14/2011  16.71  16.71  15.64  15.97  242963398\n",
       "2          1    AA  1/21/2011  16.19  16.38  15.60  15.79  138428495\n",
       "3          1    AA  1/28/2011  15.87  16.63  15.82  16.13  151379173\n",
       "4          1    AA   2/4/2011  16.18  17.39  16.18  17.14  154387761\n",
       "..       ...   ...        ...    ...    ...    ...    ...        ...\n",
       "745        2   XOM  5/27/2011  80.22  82.63  80.07  82.63   68230855\n",
       "746        2   XOM   6/3/2011  83.28  83.75  80.18  81.18   78616295\n",
       "747        2   XOM  6/10/2011  80.93  81.87  79.72  79.78   92380844\n",
       "748        2   XOM  6/17/2011  80.00  80.82  78.33  79.02  100521400\n",
       "749        2   XOM  6/24/2011  78.65  81.12  76.78  76.78  118679791\n",
       "\n",
       "[750 rows x 8 columns]"
      ]
     },
     "execution_count": 7,
     "metadata": {},
     "output_type": "execute_result"
    }
   ],
   "source": [
    "df"
   ]
  },
  {
   "cell_type": "code",
   "execution_count": 8,
   "id": "b961f666-9238-4177-8b39-b8eef78f0563",
   "metadata": {},
   "outputs": [],
   "source": [
    "def MinMaxScaler(data):\n",
    "    \"\"\"최솟값과 최댓값을 이용하여 0 ~ 1 값으로 변환\"\"\"\n",
    "    numerator = data - np.min(data, 0)\n",
    "    denominator = np.max(data, 0) - np.min(data, 0)\n",
    "    # 0으로 나누기 에러가 발생하지 않도록 매우 작은 값(1e-7)을 더해서 나눔\n",
    "    return numerator / (denominator + 1e-7)"
   ]
  },
  {
   "cell_type": "code",
   "execution_count": 9,
   "id": "156f5f9a-b3d4-4f75-b175-987ee6121229",
   "metadata": {},
   "outputs": [
    {
     "data": {
      "text/html": [
       "<div>\n",
       "<style scoped>\n",
       "    .dataframe tbody tr th:only-of-type {\n",
       "        vertical-align: middle;\n",
       "    }\n",
       "\n",
       "    .dataframe tbody tr th {\n",
       "        vertical-align: top;\n",
       "    }\n",
       "\n",
       "    .dataframe thead th {\n",
       "        text-align: right;\n",
       "    }\n",
       "</style>\n",
       "<table border=\"1\" class=\"dataframe\">\n",
       "  <thead>\n",
       "    <tr style=\"text-align: right;\">\n",
       "      <th></th>\n",
       "      <th>open</th>\n",
       "      <th>high</th>\n",
       "      <th>low</th>\n",
       "      <th>volume</th>\n",
       "    </tr>\n",
       "  </thead>\n",
       "  <tbody>\n",
       "    <tr>\n",
       "      <th>0</th>\n",
       "      <td>0.032380</td>\n",
       "      <td>0.035547</td>\n",
       "      <td>0.034176</td>\n",
       "      <td>0.159267</td>\n",
       "    </tr>\n",
       "    <tr>\n",
       "      <th>1</th>\n",
       "      <td>0.037890</td>\n",
       "      <td>0.035486</td>\n",
       "      <td>0.033287</td>\n",
       "      <td>0.161558</td>\n",
       "    </tr>\n",
       "    <tr>\n",
       "      <th>2</th>\n",
       "      <td>0.034671</td>\n",
       "      <td>0.033456</td>\n",
       "      <td>0.033033</td>\n",
       "      <td>0.089151</td>\n",
       "    </tr>\n",
       "    <tr>\n",
       "      <th>3</th>\n",
       "      <td>0.032689</td>\n",
       "      <td>0.034994</td>\n",
       "      <td>0.034430</td>\n",
       "      <td>0.098122</td>\n",
       "    </tr>\n",
       "    <tr>\n",
       "      <th>4</th>\n",
       "      <td>0.034609</td>\n",
       "      <td>0.039668</td>\n",
       "      <td>0.036717</td>\n",
       "      <td>0.100206</td>\n",
       "    </tr>\n",
       "    <tr>\n",
       "      <th>...</th>\n",
       "      <td>...</td>\n",
       "      <td>...</td>\n",
       "      <td>...</td>\n",
       "      <td>...</td>\n",
       "    </tr>\n",
       "    <tr>\n",
       "      <th>745</th>\n",
       "      <td>0.431092</td>\n",
       "      <td>0.440898</td>\n",
       "      <td>0.442574</td>\n",
       "      <td>0.040529</td>\n",
       "    </tr>\n",
       "    <tr>\n",
       "      <th>746</th>\n",
       "      <td>0.450037</td>\n",
       "      <td>0.447786</td>\n",
       "      <td>0.443273</td>\n",
       "      <td>0.047722</td>\n",
       "    </tr>\n",
       "    <tr>\n",
       "      <th>747</th>\n",
       "      <td>0.435488</td>\n",
       "      <td>0.436224</td>\n",
       "      <td>0.440351</td>\n",
       "      <td>0.057256</td>\n",
       "    </tr>\n",
       "    <tr>\n",
       "      <th>748</th>\n",
       "      <td>0.429730</td>\n",
       "      <td>0.429766</td>\n",
       "      <td>0.431521</td>\n",
       "      <td>0.062895</td>\n",
       "    </tr>\n",
       "    <tr>\n",
       "      <th>749</th>\n",
       "      <td>0.421372</td>\n",
       "      <td>0.431611</td>\n",
       "      <td>0.421675</td>\n",
       "      <td>0.075472</td>\n",
       "    </tr>\n",
       "  </tbody>\n",
       "</table>\n",
       "<p>750 rows × 4 columns</p>\n",
       "</div>"
      ],
      "text/plain": [
       "         open      high       low    volume\n",
       "0    0.032380  0.035547  0.034176  0.159267\n",
       "1    0.037890  0.035486  0.033287  0.161558\n",
       "2    0.034671  0.033456  0.033033  0.089151\n",
       "3    0.032689  0.034994  0.034430  0.098122\n",
       "4    0.034609  0.039668  0.036717  0.100206\n",
       "..        ...       ...       ...       ...\n",
       "745  0.431092  0.440898  0.442574  0.040529\n",
       "746  0.450037  0.447786  0.443273  0.047722\n",
       "747  0.435488  0.436224  0.440351  0.057256\n",
       "748  0.429730  0.429766  0.431521  0.062895\n",
       "749  0.421372  0.431611  0.421675  0.075472\n",
       "\n",
       "[750 rows x 4 columns]"
      ]
     },
     "execution_count": 9,
     "metadata": {},
     "output_type": "execute_result"
    }
   ],
   "source": [
    "dfx = df[['open','high','low','close','volume']]\n",
    "dfx = MinMaxScaler(dfx)\n",
    "dfy = dfx[['close']]\n",
    "dfx = dfx[['open','high','low','volume']]\n",
    "dfx"
   ]
  },
  {
   "cell_type": "code",
   "execution_count": 10,
   "id": "58233c27-d543-41c8-af2a-ae9a32cbdcda",
   "metadata": {},
   "outputs": [],
   "source": [
    "# 두 데이터를 리스트 형태로 저장\n",
    "X = dfx.values.tolist()\n",
    "y = dfy.values.tolist()"
   ]
  },
  {
   "cell_type": "code",
   "execution_count": 11,
   "id": "ceabe3ca-6c8c-4cef-bbdd-fe78096feefa",
   "metadata": {},
   "outputs": [
    {
     "name": "stdout",
     "output_type": "stream",
     "text": [
      "[[0.46656760743773673, 0.462546125176786, 0.45724812574180657, 0.04941214603619466], [0.44898464558631457, 0.46383763809112083, 0.45762927172047435, 0.02331467455095933], [0.468672609912907, 0.47392373894592643, 0.479545165493873, 0.04978668131963015], [0.4798786525013133, 0.47472324694051465, 0.4522297036893472, 0.0720964039318134], [0.44836552721126455, 0.4478474781993559, 0.43844492412752833, 0.06231074045512771], [0.4310921245473674, 0.44059040563309326, 0.4395883620635317, 0.053362134148430745], [0.4310921245473674, 0.4408979087079349, 0.4425740055630961, 0.04052864308319642], [0.4500371468238997, 0.44778597758438754, 0.4432727731906539, 0.047722171970396236], [0.43548786501022296, 0.4362238619703421, 0.4403506540208673, 0.05725625823450998], [0.4297300641222572, 0.42976629739866773, 0.4315207721817299, 0.06289485657448092]] -> [0.41396976108086364]\n"
     ]
    }
   ],
   "source": [
    "window_size = 10\n",
    "\n",
    "data_X = []\n",
    "data_y = []\n",
    "for i in range(len(y) - window_size):\n",
    "    _X = X[i : i + window_size] # 다음 날 종가(i+windows_size)는 포함되지 않음\n",
    "    _y = y[i + window_size]     # 다음 날 종가\n",
    "    data_X.append(_X)\n",
    "    data_y.append(_y)\n",
    "print(_X, \"->\", _y)"
   ]
  },
  {
   "cell_type": "code",
   "execution_count": 12,
   "id": "6c0db708-49c5-44c5-8efd-fdeed82bbaea",
   "metadata": {},
   "outputs": [
    {
     "name": "stdout",
     "output_type": "stream",
     "text": [
      "전체 데이터의 크기 : 740 740\n"
     ]
    }
   ],
   "source": [
    "print('전체 데이터의 크기 :', len(data_X), len(data_y))"
   ]
  },
  {
   "cell_type": "code",
   "execution_count": 13,
   "id": "10f70faf-9a5f-44dc-974e-931c5e11b322",
   "metadata": {},
   "outputs": [
    {
     "name": "stdout",
     "output_type": "stream",
     "text": [
      "훈련 데이터의 크기 : (518, 10, 4) (518, 1)\n",
      "테스트 데이터의 크기 : (222, 10, 4) (222, 1)\n"
     ]
    }
   ],
   "source": [
    "train_size = int(len(data_y) * 0.7)\n",
    "train_X = np.array(data_X[0 : train_size])\n",
    "train_y = np.array(data_y[0 : train_size])\n",
    "\n",
    "test_size = len(data_y) - train_size\n",
    "test_X = np.array(data_X[train_size : len(data_X)])\n",
    "test_y = np.array(data_y[train_size : len(data_y)])\n",
    "\n",
    "print('훈련 데이터의 크기 :', train_X.shape, train_y.shape)\n",
    "print('테스트 데이터의 크기 :', test_X.shape, test_y.shape)"
   ]
  },
  {
   "cell_type": "code",
   "execution_count": 14,
   "id": "721995a8-bede-45a4-b179-4b65942317b4",
   "metadata": {},
   "outputs": [],
   "source": [
    "from tensorflow.keras import Sequential\n",
    "from tensorflow.keras.layers import Dense, LSTM, Dropout, RNN, SimpleRNN"
   ]
  },
  {
   "cell_type": "code",
   "execution_count": 15,
   "id": "f938a2bd-f6c8-4ed4-a042-374666fce4a4",
   "metadata": {},
   "outputs": [
    {
     "name": "stderr",
     "output_type": "stream",
     "text": [
      "C:\\Users\\insun\\anaconda3\\Lib\\site-packages\\keras\\src\\layers\\rnn\\rnn.py:204: UserWarning: Do not pass an `input_shape`/`input_dim` argument to a layer. When using Sequential models, prefer using an `Input(shape)` object as the first layer in the model instead.\n",
      "  super().__init__(**kwargs)\n"
     ]
    },
    {
     "data": {
      "text/html": [
       "<pre style=\"white-space:pre;overflow-x:auto;line-height:normal;font-family:Menlo,'DejaVu Sans Mono',consolas,'Courier New',monospace\"><span style=\"font-weight: bold\">Model: \"sequential\"</span>\n",
       "</pre>\n"
      ],
      "text/plain": [
       "\u001b[1mModel: \"sequential\"\u001b[0m\n"
      ]
     },
     "metadata": {},
     "output_type": "display_data"
    },
    {
     "data": {
      "text/html": [
       "<pre style=\"white-space:pre;overflow-x:auto;line-height:normal;font-family:Menlo,'DejaVu Sans Mono',consolas,'Courier New',monospace\">┏━━━━━━━━━━━━━━━━━━━━━━━━━━━━━━━━━━━━━━┳━━━━━━━━━━━━━━━━━━━━━━━━━━━━━┳━━━━━━━━━━━━━━━━━┓\n",
       "┃<span style=\"font-weight: bold\"> Layer (type)                         </span>┃<span style=\"font-weight: bold\"> Output Shape                </span>┃<span style=\"font-weight: bold\">         Param # </span>┃\n",
       "┡━━━━━━━━━━━━━━━━━━━━━━━━━━━━━━━━━━━━━━╇━━━━━━━━━━━━━━━━━━━━━━━━━━━━━╇━━━━━━━━━━━━━━━━━┩\n",
       "│ lstm (<span style=\"color: #0087ff; text-decoration-color: #0087ff\">LSTM</span>)                          │ (<span style=\"color: #00d7ff; text-decoration-color: #00d7ff\">None</span>, <span style=\"color: #00af00; text-decoration-color: #00af00\">10</span>, <span style=\"color: #00af00; text-decoration-color: #00af00\">20</span>)              │           <span style=\"color: #00af00; text-decoration-color: #00af00\">2,000</span> │\n",
       "├──────────────────────────────────────┼─────────────────────────────┼─────────────────┤\n",
       "│ dropout (<span style=\"color: #0087ff; text-decoration-color: #0087ff\">Dropout</span>)                    │ (<span style=\"color: #00d7ff; text-decoration-color: #00d7ff\">None</span>, <span style=\"color: #00af00; text-decoration-color: #00af00\">10</span>, <span style=\"color: #00af00; text-decoration-color: #00af00\">20</span>)              │               <span style=\"color: #00af00; text-decoration-color: #00af00\">0</span> │\n",
       "├──────────────────────────────────────┼─────────────────────────────┼─────────────────┤\n",
       "│ simple_rnn (<span style=\"color: #0087ff; text-decoration-color: #0087ff\">SimpleRNN</span>)               │ (<span style=\"color: #00d7ff; text-decoration-color: #00d7ff\">None</span>, <span style=\"color: #00af00; text-decoration-color: #00af00\">20</span>)                  │             <span style=\"color: #00af00; text-decoration-color: #00af00\">820</span> │\n",
       "├──────────────────────────────────────┼─────────────────────────────┼─────────────────┤\n",
       "│ dropout_1 (<span style=\"color: #0087ff; text-decoration-color: #0087ff\">Dropout</span>)                  │ (<span style=\"color: #00d7ff; text-decoration-color: #00d7ff\">None</span>, <span style=\"color: #00af00; text-decoration-color: #00af00\">20</span>)                  │               <span style=\"color: #00af00; text-decoration-color: #00af00\">0</span> │\n",
       "├──────────────────────────────────────┼─────────────────────────────┼─────────────────┤\n",
       "│ dense (<span style=\"color: #0087ff; text-decoration-color: #0087ff\">Dense</span>)                        │ (<span style=\"color: #00d7ff; text-decoration-color: #00d7ff\">None</span>, <span style=\"color: #00af00; text-decoration-color: #00af00\">1</span>)                   │              <span style=\"color: #00af00; text-decoration-color: #00af00\">21</span> │\n",
       "└──────────────────────────────────────┴─────────────────────────────┴─────────────────┘\n",
       "</pre>\n"
      ],
      "text/plain": [
       "┏━━━━━━━━━━━━━━━━━━━━━━━━━━━━━━━━━━━━━━┳━━━━━━━━━━━━━━━━━━━━━━━━━━━━━┳━━━━━━━━━━━━━━━━━┓\n",
       "┃\u001b[1m \u001b[0m\u001b[1mLayer (type)                        \u001b[0m\u001b[1m \u001b[0m┃\u001b[1m \u001b[0m\u001b[1mOutput Shape               \u001b[0m\u001b[1m \u001b[0m┃\u001b[1m \u001b[0m\u001b[1m        Param #\u001b[0m\u001b[1m \u001b[0m┃\n",
       "┡━━━━━━━━━━━━━━━━━━━━━━━━━━━━━━━━━━━━━━╇━━━━━━━━━━━━━━━━━━━━━━━━━━━━━╇━━━━━━━━━━━━━━━━━┩\n",
       "│ lstm (\u001b[38;5;33mLSTM\u001b[0m)                          │ (\u001b[38;5;45mNone\u001b[0m, \u001b[38;5;34m10\u001b[0m, \u001b[38;5;34m20\u001b[0m)              │           \u001b[38;5;34m2,000\u001b[0m │\n",
       "├──────────────────────────────────────┼─────────────────────────────┼─────────────────┤\n",
       "│ dropout (\u001b[38;5;33mDropout\u001b[0m)                    │ (\u001b[38;5;45mNone\u001b[0m, \u001b[38;5;34m10\u001b[0m, \u001b[38;5;34m20\u001b[0m)              │               \u001b[38;5;34m0\u001b[0m │\n",
       "├──────────────────────────────────────┼─────────────────────────────┼─────────────────┤\n",
       "│ simple_rnn (\u001b[38;5;33mSimpleRNN\u001b[0m)               │ (\u001b[38;5;45mNone\u001b[0m, \u001b[38;5;34m20\u001b[0m)                  │             \u001b[38;5;34m820\u001b[0m │\n",
       "├──────────────────────────────────────┼─────────────────────────────┼─────────────────┤\n",
       "│ dropout_1 (\u001b[38;5;33mDropout\u001b[0m)                  │ (\u001b[38;5;45mNone\u001b[0m, \u001b[38;5;34m20\u001b[0m)                  │               \u001b[38;5;34m0\u001b[0m │\n",
       "├──────────────────────────────────────┼─────────────────────────────┼─────────────────┤\n",
       "│ dense (\u001b[38;5;33mDense\u001b[0m)                        │ (\u001b[38;5;45mNone\u001b[0m, \u001b[38;5;34m1\u001b[0m)                   │              \u001b[38;5;34m21\u001b[0m │\n",
       "└──────────────────────────────────────┴─────────────────────────────┴─────────────────┘\n"
      ]
     },
     "metadata": {},
     "output_type": "display_data"
    },
    {
     "data": {
      "text/html": [
       "<pre style=\"white-space:pre;overflow-x:auto;line-height:normal;font-family:Menlo,'DejaVu Sans Mono',consolas,'Courier New',monospace\"><span style=\"font-weight: bold\"> Total params: </span><span style=\"color: #00af00; text-decoration-color: #00af00\">2,841</span> (11.10 KB)\n",
       "</pre>\n"
      ],
      "text/plain": [
       "\u001b[1m Total params: \u001b[0m\u001b[38;5;34m2,841\u001b[0m (11.10 KB)\n"
      ]
     },
     "metadata": {},
     "output_type": "display_data"
    },
    {
     "data": {
      "text/html": [
       "<pre style=\"white-space:pre;overflow-x:auto;line-height:normal;font-family:Menlo,'DejaVu Sans Mono',consolas,'Courier New',monospace\"><span style=\"font-weight: bold\"> Trainable params: </span><span style=\"color: #00af00; text-decoration-color: #00af00\">2,841</span> (11.10 KB)\n",
       "</pre>\n"
      ],
      "text/plain": [
       "\u001b[1m Trainable params: \u001b[0m\u001b[38;5;34m2,841\u001b[0m (11.10 KB)\n"
      ]
     },
     "metadata": {},
     "output_type": "display_data"
    },
    {
     "data": {
      "text/html": [
       "<pre style=\"white-space:pre;overflow-x:auto;line-height:normal;font-family:Menlo,'DejaVu Sans Mono',consolas,'Courier New',monospace\"><span style=\"font-weight: bold\"> Non-trainable params: </span><span style=\"color: #00af00; text-decoration-color: #00af00\">0</span> (0.00 B)\n",
       "</pre>\n"
      ],
      "text/plain": [
       "\u001b[1m Non-trainable params: \u001b[0m\u001b[38;5;34m0\u001b[0m (0.00 B)\n"
      ]
     },
     "metadata": {},
     "output_type": "display_data"
    }
   ],
   "source": [
    "model = Sequential()\n",
    "model.add(LSTM(units=20, activation='relu', return_sequences=True, input_shape=(10, 4)))\n",
    "model.add(Dropout(0.1))\n",
    "model.add(SimpleRNN(units=20, activation='relu'))\n",
    "model.add(Dropout(0.1))\n",
    "model.add(Dense(units=1))\n",
    "model.summary()"
   ]
  },
  {
   "cell_type": "code",
   "execution_count": 16,
   "id": "e4cfca25-7f14-467e-9de5-e4d7fbe21741",
   "metadata": {},
   "outputs": [
    {
     "name": "stdout",
     "output_type": "stream",
     "text": [
      "Epoch 1/70\n",
      "\u001b[1m18/18\u001b[0m \u001b[32m━━━━━━━━━━━━━━━━━━━━\u001b[0m\u001b[37m\u001b[0m \u001b[1m5s\u001b[0m 7ms/step - loss: 0.1582\n",
      "Epoch 2/70\n",
      "\u001b[1m18/18\u001b[0m \u001b[32m━━━━━━━━━━━━━━━━━━━━\u001b[0m\u001b[37m\u001b[0m \u001b[1m0s\u001b[0m 7ms/step - loss: 0.0451\n",
      "Epoch 3/70\n",
      "\u001b[1m18/18\u001b[0m \u001b[32m━━━━━━━━━━━━━━━━━━━━\u001b[0m\u001b[37m\u001b[0m \u001b[1m0s\u001b[0m 7ms/step - loss: 0.0307\n",
      "Epoch 4/70\n",
      "\u001b[1m18/18\u001b[0m \u001b[32m━━━━━━━━━━━━━━━━━━━━\u001b[0m\u001b[37m\u001b[0m \u001b[1m0s\u001b[0m 7ms/step - loss: 0.0282\n",
      "Epoch 5/70\n",
      "\u001b[1m18/18\u001b[0m \u001b[32m━━━━━━━━━━━━━━━━━━━━\u001b[0m\u001b[37m\u001b[0m \u001b[1m0s\u001b[0m 8ms/step - loss: 0.0213\n",
      "Epoch 6/70\n",
      "\u001b[1m18/18\u001b[0m \u001b[32m━━━━━━━━━━━━━━━━━━━━\u001b[0m\u001b[37m\u001b[0m \u001b[1m0s\u001b[0m 7ms/step - loss: 0.0273\n",
      "Epoch 7/70\n",
      "\u001b[1m18/18\u001b[0m \u001b[32m━━━━━━━━━━━━━━━━━━━━\u001b[0m\u001b[37m\u001b[0m \u001b[1m0s\u001b[0m 7ms/step - loss: 0.0243\n",
      "Epoch 8/70\n",
      "\u001b[1m18/18\u001b[0m \u001b[32m━━━━━━━━━━━━━━━━━━━━\u001b[0m\u001b[37m\u001b[0m \u001b[1m0s\u001b[0m 7ms/step - loss: 0.0243\n",
      "Epoch 9/70\n",
      "\u001b[1m18/18\u001b[0m \u001b[32m━━━━━━━━━━━━━━━━━━━━\u001b[0m\u001b[37m\u001b[0m \u001b[1m0s\u001b[0m 7ms/step - loss: 0.0236\n",
      "Epoch 10/70\n",
      "\u001b[1m18/18\u001b[0m \u001b[32m━━━━━━━━━━━━━━━━━━━━\u001b[0m\u001b[37m\u001b[0m \u001b[1m0s\u001b[0m 7ms/step - loss: 0.0204\n",
      "Epoch 11/70\n",
      "\u001b[1m18/18\u001b[0m \u001b[32m━━━━━━━━━━━━━━━━━━━━\u001b[0m\u001b[37m\u001b[0m \u001b[1m0s\u001b[0m 7ms/step - loss: 0.0221\n",
      "Epoch 12/70\n",
      "\u001b[1m18/18\u001b[0m \u001b[32m━━━━━━━━━━━━━━━━━━━━\u001b[0m\u001b[37m\u001b[0m \u001b[1m0s\u001b[0m 7ms/step - loss: 0.0158\n",
      "Epoch 13/70\n",
      "\u001b[1m18/18\u001b[0m \u001b[32m━━━━━━━━━━━━━━━━━━━━\u001b[0m\u001b[37m\u001b[0m \u001b[1m0s\u001b[0m 8ms/step - loss: 0.0164\n",
      "Epoch 14/70\n",
      "\u001b[1m18/18\u001b[0m \u001b[32m━━━━━━━━━━━━━━━━━━━━\u001b[0m\u001b[37m\u001b[0m \u001b[1m0s\u001b[0m 7ms/step - loss: 0.0172\n",
      "Epoch 15/70\n",
      "\u001b[1m18/18\u001b[0m \u001b[32m━━━━━━━━━━━━━━━━━━━━\u001b[0m\u001b[37m\u001b[0m \u001b[1m0s\u001b[0m 7ms/step - loss: 0.0167\n",
      "Epoch 16/70\n",
      "\u001b[1m18/18\u001b[0m \u001b[32m━━━━━━━━━━━━━━━━━━━━\u001b[0m\u001b[37m\u001b[0m \u001b[1m0s\u001b[0m 7ms/step - loss: 0.0212\n",
      "Epoch 17/70\n",
      "\u001b[1m18/18\u001b[0m \u001b[32m━━━━━━━━━━━━━━━━━━━━\u001b[0m\u001b[37m\u001b[0m \u001b[1m0s\u001b[0m 10ms/step - loss: 0.0166\n",
      "Epoch 18/70\n",
      "\u001b[1m18/18\u001b[0m \u001b[32m━━━━━━━━━━━━━━━━━━━━\u001b[0m\u001b[37m\u001b[0m \u001b[1m0s\u001b[0m 7ms/step - loss: 0.0154\n",
      "Epoch 19/70\n",
      "\u001b[1m18/18\u001b[0m \u001b[32m━━━━━━━━━━━━━━━━━━━━\u001b[0m\u001b[37m\u001b[0m \u001b[1m0s\u001b[0m 7ms/step - loss: 0.0181\n",
      "Epoch 20/70\n",
      "\u001b[1m18/18\u001b[0m \u001b[32m━━━━━━━━━━━━━━━━━━━━\u001b[0m\u001b[37m\u001b[0m \u001b[1m0s\u001b[0m 7ms/step - loss: 0.0154\n",
      "Epoch 21/70\n",
      "\u001b[1m18/18\u001b[0m \u001b[32m━━━━━━━━━━━━━━━━━━━━\u001b[0m\u001b[37m\u001b[0m \u001b[1m0s\u001b[0m 7ms/step - loss: 0.0148\n",
      "Epoch 22/70\n",
      "\u001b[1m18/18\u001b[0m \u001b[32m━━━━━━━━━━━━━━━━━━━━\u001b[0m\u001b[37m\u001b[0m \u001b[1m0s\u001b[0m 7ms/step - loss: 0.0121\n",
      "Epoch 23/70\n",
      "\u001b[1m18/18\u001b[0m \u001b[32m━━━━━━━━━━━━━━━━━━━━\u001b[0m\u001b[37m\u001b[0m \u001b[1m0s\u001b[0m 7ms/step - loss: 0.0149\n",
      "Epoch 24/70\n",
      "\u001b[1m18/18\u001b[0m \u001b[32m━━━━━━━━━━━━━━━━━━━━\u001b[0m\u001b[37m\u001b[0m \u001b[1m0s\u001b[0m 7ms/step - loss: 0.0130\n",
      "Epoch 25/70\n",
      "\u001b[1m18/18\u001b[0m \u001b[32m━━━━━━━━━━━━━━━━━━━━\u001b[0m\u001b[37m\u001b[0m \u001b[1m0s\u001b[0m 7ms/step - loss: 0.0170\n",
      "Epoch 26/70\n",
      "\u001b[1m18/18\u001b[0m \u001b[32m━━━━━━━━━━━━━━━━━━━━\u001b[0m\u001b[37m\u001b[0m \u001b[1m0s\u001b[0m 7ms/step - loss: 0.0162\n",
      "Epoch 27/70\n",
      "\u001b[1m18/18\u001b[0m \u001b[32m━━━━━━━━━━━━━━━━━━━━\u001b[0m\u001b[37m\u001b[0m \u001b[1m0s\u001b[0m 7ms/step - loss: 0.0180\n",
      "Epoch 28/70\n",
      "\u001b[1m18/18\u001b[0m \u001b[32m━━━━━━━━━━━━━━━━━━━━\u001b[0m\u001b[37m\u001b[0m \u001b[1m0s\u001b[0m 7ms/step - loss: 0.0143\n",
      "Epoch 29/70\n",
      "\u001b[1m18/18\u001b[0m \u001b[32m━━━━━━━━━━━━━━━━━━━━\u001b[0m\u001b[37m\u001b[0m \u001b[1m0s\u001b[0m 7ms/step - loss: 0.0182\n",
      "Epoch 30/70\n",
      "\u001b[1m18/18\u001b[0m \u001b[32m━━━━━━━━━━━━━━━━━━━━\u001b[0m\u001b[37m\u001b[0m \u001b[1m0s\u001b[0m 6ms/step - loss: 0.0136\n",
      "Epoch 31/70\n",
      "\u001b[1m18/18\u001b[0m \u001b[32m━━━━━━━━━━━━━━━━━━━━\u001b[0m\u001b[37m\u001b[0m \u001b[1m0s\u001b[0m 8ms/step - loss: 0.0148\n",
      "Epoch 32/70\n",
      "\u001b[1m18/18\u001b[0m \u001b[32m━━━━━━━━━━━━━━━━━━━━\u001b[0m\u001b[37m\u001b[0m \u001b[1m0s\u001b[0m 7ms/step - loss: 0.0142\n",
      "Epoch 33/70\n",
      "\u001b[1m18/18\u001b[0m \u001b[32m━━━━━━━━━━━━━━━━━━━━\u001b[0m\u001b[37m\u001b[0m \u001b[1m0s\u001b[0m 7ms/step - loss: 0.0133\n",
      "Epoch 34/70\n",
      "\u001b[1m18/18\u001b[0m \u001b[32m━━━━━━━━━━━━━━━━━━━━\u001b[0m\u001b[37m\u001b[0m \u001b[1m0s\u001b[0m 7ms/step - loss: 0.0191\n",
      "Epoch 35/70\n",
      "\u001b[1m18/18\u001b[0m \u001b[32m━━━━━━━━━━━━━━━━━━━━\u001b[0m\u001b[37m\u001b[0m \u001b[1m0s\u001b[0m 11ms/step - loss: 0.0156\n",
      "Epoch 36/70\n",
      "\u001b[1m18/18\u001b[0m \u001b[32m━━━━━━━━━━━━━━━━━━━━\u001b[0m\u001b[37m\u001b[0m \u001b[1m0s\u001b[0m 7ms/step - loss: 0.0156\n",
      "Epoch 37/70\n",
      "\u001b[1m18/18\u001b[0m \u001b[32m━━━━━━━━━━━━━━━━━━━━\u001b[0m\u001b[37m\u001b[0m \u001b[1m0s\u001b[0m 7ms/step - loss: 0.0123\n",
      "Epoch 38/70\n",
      "\u001b[1m18/18\u001b[0m \u001b[32m━━━━━━━━━━━━━━━━━━━━\u001b[0m\u001b[37m\u001b[0m \u001b[1m0s\u001b[0m 7ms/step - loss: 0.0119\n",
      "Epoch 39/70\n",
      "\u001b[1m18/18\u001b[0m \u001b[32m━━━━━━━━━━━━━━━━━━━━\u001b[0m\u001b[37m\u001b[0m \u001b[1m0s\u001b[0m 7ms/step - loss: 0.0128\n",
      "Epoch 40/70\n",
      "\u001b[1m18/18\u001b[0m \u001b[32m━━━━━━━━━━━━━━━━━━━━\u001b[0m\u001b[37m\u001b[0m \u001b[1m0s\u001b[0m 7ms/step - loss: 0.0123\n",
      "Epoch 41/70\n",
      "\u001b[1m18/18\u001b[0m \u001b[32m━━━━━━━━━━━━━━━━━━━━\u001b[0m\u001b[37m\u001b[0m \u001b[1m0s\u001b[0m 7ms/step - loss: 0.0125\n",
      "Epoch 42/70\n",
      "\u001b[1m18/18\u001b[0m \u001b[32m━━━━━━━━━━━━━━━━━━━━\u001b[0m\u001b[37m\u001b[0m \u001b[1m0s\u001b[0m 7ms/step - loss: 0.0164\n",
      "Epoch 43/70\n",
      "\u001b[1m18/18\u001b[0m \u001b[32m━━━━━━━━━━━━━━━━━━━━\u001b[0m\u001b[37m\u001b[0m \u001b[1m0s\u001b[0m 7ms/step - loss: 0.0121\n",
      "Epoch 44/70\n",
      "\u001b[1m18/18\u001b[0m \u001b[32m━━━━━━━━━━━━━━━━━━━━\u001b[0m\u001b[37m\u001b[0m \u001b[1m0s\u001b[0m 8ms/step - loss: 0.0102\n",
      "Epoch 45/70\n",
      "\u001b[1m18/18\u001b[0m \u001b[32m━━━━━━━━━━━━━━━━━━━━\u001b[0m\u001b[37m\u001b[0m \u001b[1m0s\u001b[0m 7ms/step - loss: 0.0149\n",
      "Epoch 46/70\n",
      "\u001b[1m18/18\u001b[0m \u001b[32m━━━━━━━━━━━━━━━━━━━━\u001b[0m\u001b[37m\u001b[0m \u001b[1m0s\u001b[0m 7ms/step - loss: 0.0124\n",
      "Epoch 47/70\n",
      "\u001b[1m18/18\u001b[0m \u001b[32m━━━━━━━━━━━━━━━━━━━━\u001b[0m\u001b[37m\u001b[0m \u001b[1m0s\u001b[0m 7ms/step - loss: 0.0121\n",
      "Epoch 48/70\n",
      "\u001b[1m18/18\u001b[0m \u001b[32m━━━━━━━━━━━━━━━━━━━━\u001b[0m\u001b[37m\u001b[0m \u001b[1m0s\u001b[0m 7ms/step - loss: 0.0111\n",
      "Epoch 49/70\n",
      "\u001b[1m18/18\u001b[0m \u001b[32m━━━━━━━━━━━━━━━━━━━━\u001b[0m\u001b[37m\u001b[0m \u001b[1m0s\u001b[0m 7ms/step - loss: 0.0128\n",
      "Epoch 50/70\n",
      "\u001b[1m18/18\u001b[0m \u001b[32m━━━━━━━━━━━━━━━━━━━━\u001b[0m\u001b[37m\u001b[0m \u001b[1m0s\u001b[0m 7ms/step - loss: 0.0173\n",
      "Epoch 51/70\n",
      "\u001b[1m18/18\u001b[0m \u001b[32m━━━━━━━━━━━━━━━━━━━━\u001b[0m\u001b[37m\u001b[0m \u001b[1m0s\u001b[0m 11ms/step - loss: 0.0121\n",
      "Epoch 52/70\n",
      "\u001b[1m18/18\u001b[0m \u001b[32m━━━━━━━━━━━━━━━━━━━━\u001b[0m\u001b[37m\u001b[0m \u001b[1m0s\u001b[0m 7ms/step - loss: 0.0117\n",
      "Epoch 53/70\n",
      "\u001b[1m18/18\u001b[0m \u001b[32m━━━━━━━━━━━━━━━━━━━━\u001b[0m\u001b[37m\u001b[0m \u001b[1m0s\u001b[0m 7ms/step - loss: 0.0113\n",
      "Epoch 54/70\n",
      "\u001b[1m18/18\u001b[0m \u001b[32m━━━━━━━━━━━━━━━━━━━━\u001b[0m\u001b[37m\u001b[0m \u001b[1m0s\u001b[0m 7ms/step - loss: 0.0113\n",
      "Epoch 55/70\n",
      "\u001b[1m18/18\u001b[0m \u001b[32m━━━━━━━━━━━━━━━━━━━━\u001b[0m\u001b[37m\u001b[0m \u001b[1m0s\u001b[0m 7ms/step - loss: 0.0112\n",
      "Epoch 56/70\n",
      "\u001b[1m18/18\u001b[0m \u001b[32m━━━━━━━━━━━━━━━━━━━━\u001b[0m\u001b[37m\u001b[0m \u001b[1m0s\u001b[0m 7ms/step - loss: 0.0101\n",
      "Epoch 57/70\n",
      "\u001b[1m18/18\u001b[0m \u001b[32m━━━━━━━━━━━━━━━━━━━━\u001b[0m\u001b[37m\u001b[0m \u001b[1m0s\u001b[0m 7ms/step - loss: 0.0109\n",
      "Epoch 58/70\n",
      "\u001b[1m18/18\u001b[0m \u001b[32m━━━━━━━━━━━━━━━━━━━━\u001b[0m\u001b[37m\u001b[0m \u001b[1m0s\u001b[0m 7ms/step - loss: 0.0101\n",
      "Epoch 59/70\n",
      "\u001b[1m18/18\u001b[0m \u001b[32m━━━━━━━━━━━━━━━━━━━━\u001b[0m\u001b[37m\u001b[0m \u001b[1m0s\u001b[0m 7ms/step - loss: 0.0102\n",
      "Epoch 60/70\n",
      "\u001b[1m18/18\u001b[0m \u001b[32m━━━━━━━━━━━━━━━━━━━━\u001b[0m\u001b[37m\u001b[0m \u001b[1m0s\u001b[0m 7ms/step - loss: 0.0105\n",
      "Epoch 61/70\n",
      "\u001b[1m18/18\u001b[0m \u001b[32m━━━━━━━━━━━━━━━━━━━━\u001b[0m\u001b[37m\u001b[0m \u001b[1m0s\u001b[0m 7ms/step - loss: 0.0141\n",
      "Epoch 62/70\n",
      "\u001b[1m18/18\u001b[0m \u001b[32m━━━━━━━━━━━━━━━━━━━━\u001b[0m\u001b[37m\u001b[0m \u001b[1m0s\u001b[0m 7ms/step - loss: 0.0132\n",
      "Epoch 63/70\n",
      "\u001b[1m18/18\u001b[0m \u001b[32m━━━━━━━━━━━━━━━━━━━━\u001b[0m\u001b[37m\u001b[0m \u001b[1m0s\u001b[0m 10ms/step - loss: 0.0089\n",
      "Epoch 64/70\n",
      "\u001b[1m18/18\u001b[0m \u001b[32m━━━━━━━━━━━━━━━━━━━━\u001b[0m\u001b[37m\u001b[0m \u001b[1m0s\u001b[0m 7ms/step - loss: 0.0110\n",
      "Epoch 65/70\n",
      "\u001b[1m18/18\u001b[0m \u001b[32m━━━━━━━━━━━━━━━━━━━━\u001b[0m\u001b[37m\u001b[0m \u001b[1m0s\u001b[0m 7ms/step - loss: 0.0140\n",
      "Epoch 66/70\n",
      "\u001b[1m18/18\u001b[0m \u001b[32m━━━━━━━━━━━━━━━━━━━━\u001b[0m\u001b[37m\u001b[0m \u001b[1m0s\u001b[0m 7ms/step - loss: 0.0117\n",
      "Epoch 67/70\n",
      "\u001b[1m18/18\u001b[0m \u001b[32m━━━━━━━━━━━━━━━━━━━━\u001b[0m\u001b[37m\u001b[0m \u001b[1m0s\u001b[0m 7ms/step - loss: 0.0099\n",
      "Epoch 68/70\n",
      "\u001b[1m18/18\u001b[0m \u001b[32m━━━━━━━━━━━━━━━━━━━━\u001b[0m\u001b[37m\u001b[0m \u001b[1m0s\u001b[0m 7ms/step - loss: 0.0090\n",
      "Epoch 69/70\n",
      "\u001b[1m18/18\u001b[0m \u001b[32m━━━━━━━━━━━━━━━━━━━━\u001b[0m\u001b[37m\u001b[0m \u001b[1m0s\u001b[0m 7ms/step - loss: 0.0121\n",
      "Epoch 70/70\n",
      "\u001b[1m18/18\u001b[0m \u001b[32m━━━━━━━━━━━━━━━━━━━━\u001b[0m\u001b[37m\u001b[0m \u001b[1m0s\u001b[0m 7ms/step - loss: 0.0140\n",
      "\u001b[1m7/7\u001b[0m \u001b[32m━━━━━━━━━━━━━━━━━━━━\u001b[0m\u001b[37m\u001b[0m \u001b[1m1s\u001b[0m 143ms/step\n"
     ]
    }
   ],
   "source": [
    "model.compile(optimizer='adam', loss='mean_squared_error')\n",
    "model.fit(train_X, train_y, epochs=70, batch_size=30)\n",
    "pred_y = model.predict(test_X)"
   ]
  },
  {
   "cell_type": "code",
   "execution_count": 17,
   "id": "103bdcaf-f681-4f36-a181-ae2a47a88d54",
   "metadata": {},
   "outputs": [
    {
     "name": "stdout",
     "output_type": "stream",
     "text": [
      "\u001b[1m7/7\u001b[0m \u001b[32m━━━━━━━━━━━━━━━━━━━━\u001b[0m\u001b[37m\u001b[0m \u001b[1m1s\u001b[0m 5ms/step - loss: 0.0079\n"
     ]
    },
    {
     "data": {
      "text/plain": [
       "0.005219308193773031"
      ]
     },
     "execution_count": 17,
     "metadata": {},
     "output_type": "execute_result"
    }
   ],
   "source": [
    "model.evaluate(test_X, test_y)"
   ]
  },
  {
   "cell_type": "code",
   "execution_count": 18,
   "id": "eae172be-ec2a-4a34-b1f2-548887548898",
   "metadata": {},
   "outputs": [
    {
     "name": "stdout",
     "output_type": "stream",
     "text": [
      "\u001b[1m7/7\u001b[0m \u001b[32m━━━━━━━━━━━━━━━━━━━━\u001b[0m\u001b[37m\u001b[0m \u001b[1m0s\u001b[0m 5ms/step \n"
     ]
    }
   ],
   "source": [
    "y_pred = model.predict(test_X)"
   ]
  },
  {
   "cell_type": "code",
   "execution_count": 19,
   "id": "e775746b-7972-4ec5-bef0-3bcf13046074",
   "metadata": {},
   "outputs": [
    {
     "name": "stdout",
     "output_type": "stream",
     "text": [
      "MSE: 0.005219308670050293\n"
     ]
    }
   ],
   "source": [
    "mse = tf.reduce_mean(tf.square(test_y - y_pred))\n",
    "\n",
    "print(f'MSE: {mse.numpy()}')"
   ]
  },
  {
   "cell_type": "code",
   "execution_count": 20,
   "id": "e47da1ab-3360-4c42-bd3d-ec3409ef15e4",
   "metadata": {},
   "outputs": [
    {
     "name": "stdout",
     "output_type": "stream",
     "text": [
      "\u001b[1m7/7\u001b[0m \u001b[32m━━━━━━━━━━━━━━━━━━━━\u001b[0m\u001b[37m\u001b[0m \u001b[1m0s\u001b[0m 4ms/step \n"
     ]
    },
    {
     "data": {
      "image/png": "[encoded data removed]",
      "text/plain": [
       "<Figure size 640x480 with 1 Axes>"
      ]
     },
     "metadata": {},
     "output_type": "display_data"
    }
   ],
   "source": [
    "pred_y = model.predict(test_X)\n",
    "\n",
    "plt.figure()\n",
    "plt.plot(test_y, color='red', label='real stock price')\n",
    "plt.plot(pred_y, color='blue', label='predicted stock price')\n",
    "plt.title('stock price prediction')\n",
    "plt.xlabel('time')\n",
    "plt.ylabel('stock price')\n",
    "plt.legend()\n",
    "plt.show()"
   ]
  },
  {
   "cell_type": "markdown",
   "id": "065ec0f6-ce8d-495b-a086-a70b7ff2e5df",
   "metadata": {},
   "source": [
    "## split.sequence으로 순환데이터 만들기¶\n"
   ]
  },
  {
   "cell_type": "code",
   "execution_count": 21,
   "id": "2aa1b64c-ce94-4de8-8119-a5b312f0eba7",
   "metadata": {},
   "outputs": [
    {
     "name": "stdout",
     "output_type": "stream",
     "text": [
      "원본 데이터:\n",
      "     quarter stock       date   open   high    low  close     volume\n",
      "0          1    AA   1/7/2011  15.82  16.72  15.78  16.42  239655616\n",
      "1          1    AA  1/14/2011  16.71  16.71  15.64  15.97  242963398\n",
      "2          1    AA  1/21/2011  16.19  16.38  15.60  15.79  138428495\n",
      "3          1    AA  1/28/2011  15.87  16.63  15.82  16.13  151379173\n",
      "4          1    AA   2/4/2011  16.18  17.39  16.18  17.14  154387761\n",
      "..       ...   ...        ...    ...    ...    ...    ...        ...\n",
      "745        2   XOM  5/27/2011  80.22  82.63  80.07  82.63   68230855\n",
      "746        2   XOM   6/3/2011  83.28  83.75  80.18  81.18   78616295\n",
      "747        2   XOM  6/10/2011  80.93  81.87  79.72  79.78   92380844\n",
      "748        2   XOM  6/17/2011  80.00  80.82  78.33  79.02  100521400\n",
      "749        2   XOM  6/24/2011  78.65  81.12  76.78  76.78  118679791\n",
      "\n",
      "[750 rows x 8 columns]\n",
      "\n",
      "길이가 3 인 시퀀스:\n",
      "[[[1 'AA' '1/7/2011' ... 15.78 16.42 239655616]\n",
      "  [1 'AA' '1/14/2011' ... 15.64 15.97 242963398]\n",
      "  [1 'AA' '1/21/2011' ... 15.6 15.79 138428495]]\n",
      "\n",
      " [[1 'AA' '1/14/2011' ... 15.64 15.97 242963398]\n",
      "  [1 'AA' '1/21/2011' ... 15.6 15.79 138428495]\n",
      "  [1 'AA' '1/28/2011' ... 15.82 16.13 151379173]]\n",
      "\n",
      " [[1 'AA' '1/21/2011' ... 15.6 15.79 138428495]\n",
      "  [1 'AA' '1/28/2011' ... 15.82 16.13 151379173]\n",
      "  [1 'AA' '2/4/2011' ... 16.18 17.14 154387761]]\n",
      "\n",
      " ...\n",
      "\n",
      " [[2 'XOM' '5/27/2011' ... 80.07 82.63 68230855]\n",
      "  [2 'XOM' '6/3/2011' ... 80.18 81.18 78616295]\n",
      "  [2 'XOM' '6/10/2011' ... 79.72 79.78 92380844]]\n",
      "\n",
      " [[2 'XOM' '6/3/2011' ... 80.18 81.18 78616295]\n",
      "  [2 'XOM' '6/10/2011' ... 79.72 79.78 92380844]\n",
      "  [2 'XOM' '6/17/2011' ... 78.33 79.02 100521400]]\n",
      "\n",
      " [[2 'XOM' '6/10/2011' ... 79.72 79.78 92380844]\n",
      "  [2 'XOM' '6/17/2011' ... 78.33 79.02 100521400]\n",
      "  [2 'XOM' '6/24/2011' ... 76.78 76.78 118679791]]]\n"
     ]
    }
   ],
   "source": [
    "import numpy as np\n",
    "\n",
    "def create_sequences(data, seq_length):\n",
    "    sequences = []\n",
    "    for i in range(len(data) - seq_length + 1):\n",
    "        seq = data[i:i + seq_length]\n",
    "        sequences.append(seq)\n",
    "    return np.array(sequences)\n",
    "\n",
    "# 예제 사용법:\n",
    "# 'data'는 순차적인 데이터로, 리스트나 numpy 배열 형태로 가정합니다.\n",
    "data = df\n",
    "\n",
    "# 원하는 시퀀스 길이를 지정합니다.\n",
    "seq_length = 3\n",
    "\n",
    "# 시퀀스 생성\n",
    "sequences = create_sequences(data, seq_length)\n",
    "\n",
    "print(\"원본 데이터:\")\n",
    "print(data)\n",
    "print(\"\\n길이가\", seq_length, \"인 시퀀스:\")\n",
    "print(sequences)"
   ]
  },
  {
   "cell_type": "code",
   "execution_count": null,
   "id": "f21bff97-34a1-4450-b1e5-d9e0e6df4c19",
   "metadata": {},
   "outputs": [],
   "source": []
  }
 ],
 "metadata": {
  "kernelspec": {
   "display_name": "Python 3 (ipykernel)",
   "language": "python",
   "name": "python3"
  },
  "language_info": {
   "codemirror_mode": {
    "name": "ipython",
    "version": 3
   },
   "file_extension": ".py",
   "mimetype": "text/x-python",
   "name": "python",
   "nbconvert_exporter": "python",
   "pygments_lexer": "ipython3",
   "version": "3.11.7"
  }
 },
 "nbformat": 4,
 "nbformat_minor": 5
}
