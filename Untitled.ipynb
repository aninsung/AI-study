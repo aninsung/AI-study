{
 "cells": [
  {
   "cell_type": "code",
   "execution_count": 194,
   "id": "36f38ac5-38c4-4611-b459-0e47f7a8d9bb",
   "metadata": {},
   "outputs": [],
   "source": [
    "# Imports\n",
    "import pandas as pd\n",
    "import numpy as np\n",
    "import matplotlib.pyplot as plt\n",
    "import seaborn as sns\n",
    "from sklearn.model_selection import train_test_split, cross_val_score\n",
    "from sklearn.metrics import classification_report, accuracy_score, recall_score, precision_score, f1_score, confusion_matrix\n",
    "from sklearn.preprocessing import StandardScaler\n",
    "from numpy import array\n",
    "from keras.models import Sequential\n",
    "from keras.layers import Dense, Flatten, Dropout, LSTM\n",
    "from tensorflow.keras.layers import Conv1D, MaxPooling1D\n",
    "from tensorflow.keras.utils import to_categorical\n",
    "from sklearn.model_selection import KFold"
   ]
  },
  {
   "cell_type": "code",
   "execution_count": 195,
   "id": "3af9c4dc-84eb-4bf7-929d-d9ffc60e98ff",
   "metadata": {},
   "outputs": [],
   "source": [
    "import numpy as np\n",
    "import pandas as pd\n",
    "import seaborn as sns\n",
    "import matplotlib.pyplot as plt\n",
    "\n",
    "%matplotlib inline"
   ]
  },
  {
   "cell_type": "code",
   "execution_count": 196,
   "id": "ebb973fa-cd91-42fa-9d58-fed2c66d7f2a",
   "metadata": {},
   "outputs": [
    {
     "data": {
      "text/html": [
       "<div>\n",
       "<style scoped>\n",
       "    .dataframe tbody tr th:only-of-type {\n",
       "        vertical-align: middle;\n",
       "    }\n",
       "\n",
       "    .dataframe tbody tr th {\n",
       "        vertical-align: top;\n",
       "    }\n",
       "\n",
       "    .dataframe thead th {\n",
       "        text-align: right;\n",
       "    }\n",
       "</style>\n",
       "<table border=\"1\" class=\"dataframe\">\n",
       "  <thead>\n",
       "    <tr style=\"text-align: right;\">\n",
       "      <th></th>\n",
       "      <th>acc_ch_x</th>\n",
       "      <th>acc_ch_y</th>\n",
       "      <th>acc_ch_z</th>\n",
       "      <th>acc_la_x</th>\n",
       "      <th>acc_la_y</th>\n",
       "      <th>acc_la_z</th>\n",
       "      <th>gyr_la_x</th>\n",
       "      <th>gyr_la_y</th>\n",
       "      <th>gyr_la_z</th>\n",
       "      <th>mag_la_x</th>\n",
       "      <th>...</th>\n",
       "      <th>acc_rw_y</th>\n",
       "      <th>acc_rw_z</th>\n",
       "      <th>gyr_rw_x</th>\n",
       "      <th>gyr_rw_y</th>\n",
       "      <th>gyr_rw_z</th>\n",
       "      <th>mag_rw_x</th>\n",
       "      <th>mag_rw_y</th>\n",
       "      <th>mag_rw_z</th>\n",
       "      <th>activity</th>\n",
       "      <th>subject</th>\n",
       "    </tr>\n",
       "  </thead>\n",
       "  <tbody>\n",
       "    <tr>\n",
       "      <th>0</th>\n",
       "      <td>-9.8184</td>\n",
       "      <td>0.009971</td>\n",
       "      <td>0.29563</td>\n",
       "      <td>2.1849</td>\n",
       "      <td>-9.6967</td>\n",
       "      <td>0.63077</td>\n",
       "      <td>0.103900</td>\n",
       "      <td>-0.84053</td>\n",
       "      <td>-0.68762</td>\n",
       "      <td>-0.370000</td>\n",
       "      <td>...</td>\n",
       "      <td>-4.5781</td>\n",
       "      <td>0.187760</td>\n",
       "      <td>-0.449020</td>\n",
       "      <td>-1.01030</td>\n",
       "      <td>0.034483</td>\n",
       "      <td>-2.35000</td>\n",
       "      <td>-1.610200</td>\n",
       "      <td>-0.030899</td>\n",
       "      <td>0</td>\n",
       "      <td>subject1</td>\n",
       "    </tr>\n",
       "    <tr>\n",
       "      <th>1</th>\n",
       "      <td>-9.8489</td>\n",
       "      <td>0.524040</td>\n",
       "      <td>0.37348</td>\n",
       "      <td>2.3876</td>\n",
       "      <td>-9.5080</td>\n",
       "      <td>0.68389</td>\n",
       "      <td>0.085343</td>\n",
       "      <td>-0.83865</td>\n",
       "      <td>-0.68369</td>\n",
       "      <td>-0.197990</td>\n",
       "      <td>...</td>\n",
       "      <td>-4.3198</td>\n",
       "      <td>0.023595</td>\n",
       "      <td>-0.449020</td>\n",
       "      <td>-1.01030</td>\n",
       "      <td>0.034483</td>\n",
       "      <td>-2.16320</td>\n",
       "      <td>-0.882540</td>\n",
       "      <td>0.326570</td>\n",
       "      <td>0</td>\n",
       "      <td>subject1</td>\n",
       "    </tr>\n",
       "    <tr>\n",
       "      <th>2</th>\n",
       "      <td>-9.6602</td>\n",
       "      <td>0.181850</td>\n",
       "      <td>0.43742</td>\n",
       "      <td>2.4086</td>\n",
       "      <td>-9.5674</td>\n",
       "      <td>0.68113</td>\n",
       "      <td>0.085343</td>\n",
       "      <td>-0.83865</td>\n",
       "      <td>-0.68369</td>\n",
       "      <td>-0.374170</td>\n",
       "      <td>...</td>\n",
       "      <td>-4.2772</td>\n",
       "      <td>0.275720</td>\n",
       "      <td>-0.449020</td>\n",
       "      <td>-1.01030</td>\n",
       "      <td>0.034483</td>\n",
       "      <td>-1.61750</td>\n",
       "      <td>-0.165620</td>\n",
       "      <td>-0.030693</td>\n",
       "      <td>0</td>\n",
       "      <td>subject1</td>\n",
       "    </tr>\n",
       "    <tr>\n",
       "      <th>3</th>\n",
       "      <td>-9.6507</td>\n",
       "      <td>0.214220</td>\n",
       "      <td>0.24033</td>\n",
       "      <td>2.1814</td>\n",
       "      <td>-9.4301</td>\n",
       "      <td>0.55031</td>\n",
       "      <td>0.085343</td>\n",
       "      <td>-0.83865</td>\n",
       "      <td>-0.68369</td>\n",
       "      <td>-0.017271</td>\n",
       "      <td>...</td>\n",
       "      <td>-4.3163</td>\n",
       "      <td>0.367520</td>\n",
       "      <td>-0.456860</td>\n",
       "      <td>-1.00820</td>\n",
       "      <td>0.025862</td>\n",
       "      <td>-1.07710</td>\n",
       "      <td>0.006945</td>\n",
       "      <td>-0.382620</td>\n",
       "      <td>0</td>\n",
       "      <td>subject1</td>\n",
       "    </tr>\n",
       "    <tr>\n",
       "      <th>4</th>\n",
       "      <td>-9.7030</td>\n",
       "      <td>0.303890</td>\n",
       "      <td>0.31156</td>\n",
       "      <td>2.4173</td>\n",
       "      <td>-9.3889</td>\n",
       "      <td>0.71098</td>\n",
       "      <td>0.085343</td>\n",
       "      <td>-0.83865</td>\n",
       "      <td>-0.68369</td>\n",
       "      <td>-0.374390</td>\n",
       "      <td>...</td>\n",
       "      <td>-4.1459</td>\n",
       "      <td>0.407290</td>\n",
       "      <td>-0.456860</td>\n",
       "      <td>-1.00820</td>\n",
       "      <td>0.025862</td>\n",
       "      <td>-0.53684</td>\n",
       "      <td>0.175900</td>\n",
       "      <td>-1.095500</td>\n",
       "      <td>0</td>\n",
       "      <td>subject1</td>\n",
       "    </tr>\n",
       "    <tr>\n",
       "      <th>...</th>\n",
       "      <td>...</td>\n",
       "      <td>...</td>\n",
       "      <td>...</td>\n",
       "      <td>...</td>\n",
       "      <td>...</td>\n",
       "      <td>...</td>\n",
       "      <td>...</td>\n",
       "      <td>...</td>\n",
       "      <td>...</td>\n",
       "      <td>...</td>\n",
       "      <td>...</td>\n",
       "      <td>...</td>\n",
       "      <td>...</td>\n",
       "      <td>...</td>\n",
       "      <td>...</td>\n",
       "      <td>...</td>\n",
       "      <td>...</td>\n",
       "      <td>...</td>\n",
       "      <td>...</td>\n",
       "      <td>...</td>\n",
       "      <td>...</td>\n",
       "    </tr>\n",
       "    <tr>\n",
       "      <th>1215740</th>\n",
       "      <td>-9.2476</td>\n",
       "      <td>-0.248070</td>\n",
       "      <td>-2.62230</td>\n",
       "      <td>1.7849</td>\n",
       "      <td>-9.8287</td>\n",
       "      <td>0.29725</td>\n",
       "      <td>-0.341370</td>\n",
       "      <td>-0.90056</td>\n",
       "      <td>-0.61493</td>\n",
       "      <td>-0.687640</td>\n",
       "      <td>...</td>\n",
       "      <td>-8.9071</td>\n",
       "      <td>0.294230</td>\n",
       "      <td>0.041176</td>\n",
       "      <td>-0.99384</td>\n",
       "      <td>-0.480600</td>\n",
       "      <td>2.40890</td>\n",
       "      <td>7.496100</td>\n",
       "      <td>7.915500</td>\n",
       "      <td>0</td>\n",
       "      <td>subject10</td>\n",
       "    </tr>\n",
       "    <tr>\n",
       "      <th>1215741</th>\n",
       "      <td>-9.4632</td>\n",
       "      <td>-0.073513</td>\n",
       "      <td>-2.11190</td>\n",
       "      <td>1.8687</td>\n",
       "      <td>-9.8766</td>\n",
       "      <td>0.46236</td>\n",
       "      <td>-0.341370</td>\n",
       "      <td>-0.90056</td>\n",
       "      <td>-0.61493</td>\n",
       "      <td>-0.868190</td>\n",
       "      <td>...</td>\n",
       "      <td>-8.7455</td>\n",
       "      <td>0.448140</td>\n",
       "      <td>0.041176</td>\n",
       "      <td>-0.99384</td>\n",
       "      <td>-0.480600</td>\n",
       "      <td>1.69450</td>\n",
       "      <td>7.866000</td>\n",
       "      <td>7.897500</td>\n",
       "      <td>0</td>\n",
       "      <td>subject10</td>\n",
       "    </tr>\n",
       "    <tr>\n",
       "      <th>1215742</th>\n",
       "      <td>-9.4011</td>\n",
       "      <td>-0.144580</td>\n",
       "      <td>-3.02350</td>\n",
       "      <td>1.6928</td>\n",
       "      <td>-9.9290</td>\n",
       "      <td>0.16631</td>\n",
       "      <td>-0.341370</td>\n",
       "      <td>-0.90056</td>\n",
       "      <td>-0.61493</td>\n",
       "      <td>-0.868410</td>\n",
       "      <td>...</td>\n",
       "      <td>-9.1155</td>\n",
       "      <td>0.450480</td>\n",
       "      <td>0.041176</td>\n",
       "      <td>-0.99384</td>\n",
       "      <td>-0.480600</td>\n",
       "      <td>1.15770</td>\n",
       "      <td>8.052800</td>\n",
       "      <td>7.884900</td>\n",
       "      <td>0</td>\n",
       "      <td>subject10</td>\n",
       "    </tr>\n",
       "    <tr>\n",
       "      <th>1215743</th>\n",
       "      <td>-9.3732</td>\n",
       "      <td>-0.026252</td>\n",
       "      <td>-2.70760</td>\n",
       "      <td>1.5279</td>\n",
       "      <td>-9.6306</td>\n",
       "      <td>0.30458</td>\n",
       "      <td>-0.341370</td>\n",
       "      <td>-0.90056</td>\n",
       "      <td>-0.61493</td>\n",
       "      <td>-0.339790</td>\n",
       "      <td>...</td>\n",
       "      <td>-9.1441</td>\n",
       "      <td>0.594880</td>\n",
       "      <td>0.041176</td>\n",
       "      <td>-0.99384</td>\n",
       "      <td>-0.480600</td>\n",
       "      <td>0.27441</td>\n",
       "      <td>9.487900</td>\n",
       "      <td>5.325800</td>\n",
       "      <td>0</td>\n",
       "      <td>subject10</td>\n",
       "    </tr>\n",
       "    <tr>\n",
       "      <th>1215744</th>\n",
       "      <td>-9.3518</td>\n",
       "      <td>-0.592450</td>\n",
       "      <td>-2.63230</td>\n",
       "      <td>1.6614</td>\n",
       "      <td>-9.8398</td>\n",
       "      <td>0.18088</td>\n",
       "      <td>-0.332100</td>\n",
       "      <td>-0.90432</td>\n",
       "      <td>-0.61886</td>\n",
       "      <td>-0.159230</td>\n",
       "      <td>...</td>\n",
       "      <td>-8.9324</td>\n",
       "      <td>0.761710</td>\n",
       "      <td>0.035294</td>\n",
       "      <td>-1.02050</td>\n",
       "      <td>-0.471980</td>\n",
       "      <td>-0.98056</td>\n",
       "      <td>9.663600</td>\n",
       "      <td>3.493900</td>\n",
       "      <td>0</td>\n",
       "      <td>subject10</td>\n",
       "    </tr>\n",
       "  </tbody>\n",
       "</table>\n",
       "<p>1215745 rows × 23 columns</p>\n",
       "</div>"
      ],
      "text/plain": [
       "         acc_ch_x  acc_ch_y  acc_ch_z  acc_la_x  acc_la_y  acc_la_z  gyr_la_x  \\\n",
       "0         -9.8184  0.009971   0.29563    2.1849   -9.6967   0.63077  0.103900   \n",
       "1         -9.8489  0.524040   0.37348    2.3876   -9.5080   0.68389  0.085343   \n",
       "2         -9.6602  0.181850   0.43742    2.4086   -9.5674   0.68113  0.085343   \n",
       "3         -9.6507  0.214220   0.24033    2.1814   -9.4301   0.55031  0.085343   \n",
       "4         -9.7030  0.303890   0.31156    2.4173   -9.3889   0.71098  0.085343   \n",
       "...           ...       ...       ...       ...       ...       ...       ...   \n",
       "1215740   -9.2476 -0.248070  -2.62230    1.7849   -9.8287   0.29725 -0.341370   \n",
       "1215741   -9.4632 -0.073513  -2.11190    1.8687   -9.8766   0.46236 -0.341370   \n",
       "1215742   -9.4011 -0.144580  -3.02350    1.6928   -9.9290   0.16631 -0.341370   \n",
       "1215743   -9.3732 -0.026252  -2.70760    1.5279   -9.6306   0.30458 -0.341370   \n",
       "1215744   -9.3518 -0.592450  -2.63230    1.6614   -9.8398   0.18088 -0.332100   \n",
       "\n",
       "         gyr_la_y  gyr_la_z  mag_la_x  ...  acc_rw_y  acc_rw_z  gyr_rw_x  \\\n",
       "0        -0.84053  -0.68762 -0.370000  ...   -4.5781  0.187760 -0.449020   \n",
       "1        -0.83865  -0.68369 -0.197990  ...   -4.3198  0.023595 -0.449020   \n",
       "2        -0.83865  -0.68369 -0.374170  ...   -4.2772  0.275720 -0.449020   \n",
       "3        -0.83865  -0.68369 -0.017271  ...   -4.3163  0.367520 -0.456860   \n",
       "4        -0.83865  -0.68369 -0.374390  ...   -4.1459  0.407290 -0.456860   \n",
       "...           ...       ...       ...  ...       ...       ...       ...   \n",
       "1215740  -0.90056  -0.61493 -0.687640  ...   -8.9071  0.294230  0.041176   \n",
       "1215741  -0.90056  -0.61493 -0.868190  ...   -8.7455  0.448140  0.041176   \n",
       "1215742  -0.90056  -0.61493 -0.868410  ...   -9.1155  0.450480  0.041176   \n",
       "1215743  -0.90056  -0.61493 -0.339790  ...   -9.1441  0.594880  0.041176   \n",
       "1215744  -0.90432  -0.61886 -0.159230  ...   -8.9324  0.761710  0.035294   \n",
       "\n",
       "         gyr_rw_y  gyr_rw_z  mag_rw_x  mag_rw_y  mag_rw_z  activity    subject  \n",
       "0        -1.01030  0.034483  -2.35000 -1.610200 -0.030899         0   subject1  \n",
       "1        -1.01030  0.034483  -2.16320 -0.882540  0.326570         0   subject1  \n",
       "2        -1.01030  0.034483  -1.61750 -0.165620 -0.030693         0   subject1  \n",
       "3        -1.00820  0.025862  -1.07710  0.006945 -0.382620         0   subject1  \n",
       "4        -1.00820  0.025862  -0.53684  0.175900 -1.095500         0   subject1  \n",
       "...           ...       ...       ...       ...       ...       ...        ...  \n",
       "1215740  -0.99384 -0.480600   2.40890  7.496100  7.915500         0  subject10  \n",
       "1215741  -0.99384 -0.480600   1.69450  7.866000  7.897500         0  subject10  \n",
       "1215742  -0.99384 -0.480600   1.15770  8.052800  7.884900         0  subject10  \n",
       "1215743  -0.99384 -0.480600   0.27441  9.487900  5.325800         0  subject10  \n",
       "1215744  -1.02050 -0.471980  -0.98056  9.663600  3.493900         0  subject10  \n",
       "\n",
       "[1215745 rows x 23 columns]"
      ]
     },
     "execution_count": 196,
     "metadata": {},
     "output_type": "execute_result"
    }
   ],
   "source": [
    "#reading data\n",
    "df = pd.read_csv('C:/Users/PC/OneDrive - gachon.ac.kr/바탕 화면/ai-study/mhealth_full.csv')\n",
    "df"
   ]
  },
  {
   "cell_type": "code",
   "execution_count": 197,
   "id": "074b2682-48d3-4703-80a9-e362cf56f1e8",
   "metadata": {},
   "outputs": [
    {
     "data": {
      "text/plain": [
       "Index(['acc_ch_x', 'acc_ch_y', 'acc_ch_z', 'acc_la_x', 'acc_la_y', 'acc_la_z',\n",
       "       'gyr_la_x', 'gyr_la_y', 'gyr_la_z', 'mag_la_x', 'mag_la_y', 'mag_la_z',\n",
       "       'acc_rw_x', 'acc_rw_y', 'acc_rw_z', 'gyr_rw_x', 'gyr_rw_y', 'gyr_rw_z',\n",
       "       'mag_rw_x', 'mag_rw_y', 'mag_rw_z', 'activity', 'subject'],\n",
       "      dtype='object')"
      ]
     },
     "execution_count": 197,
     "metadata": {},
     "output_type": "execute_result"
    }
   ],
   "source": [
    "df.columns"
   ]
  },
  {
   "cell_type": "code",
   "execution_count": 198,
   "id": "afa640c3-f5ee-485d-b12c-160b92b35924",
   "metadata": {},
   "outputs": [],
   "source": [
    "df_activity_1 = df[df['activity'] == 1]\n",
    "df_activity_2 = df[df['activity'] == 2]\n",
    "df_activity_3 = df[df['activity'] == 3]\n",
    "df_activity_4 = df[df['activity'] == 4]\n",
    "df_activity_5 = df[df['activity'] == 5]\n",
    "df_activity_6 = df[df['activity'] == 6]\n",
    "df_activity_7 = df[df['activity'] == 7]\n",
    "df_activity_8 = df[df['activity'] == 8]\n",
    "df_activity_9 = df[df['activity'] == 9]\n",
    "df_activity_10 = df[df['activity'] == 10]\n",
    "df_activity_11 = df[df['activity'] == 11]\n",
    "df_activity_12 = df[df['activity'] == 12]"
   ]
  },
  {
   "cell_type": "code",
   "execution_count": 199,
   "id": "a5496255-496b-4ceb-a6ce-d6a0760f328a",
   "metadata": {},
   "outputs": [],
   "source": [
    "df = pd.concat([df_activity_1, df_activity_2, df_activity_3,            \n",
    "                df_activity_4, df_activity_5, df_activity_6, df_activity_7,\n",
    "                df_activity_8, df_activity_9, df_activity_10, df_activity_11,df_activity_12])"
   ]
  },
  {
   "cell_type": "code",
   "execution_count": 200,
   "id": "7a20e4f4-cc3a-4ca5-a50b-f4fc7b27810a",
   "metadata": {},
   "outputs": [
    {
     "data": {
      "text/plain": [
       "activity\n",
       "1     30720\n",
       "2     30720\n",
       "3     30720\n",
       "4     30720\n",
       "5     30720\n",
       "9     30720\n",
       "10    30720\n",
       "11    30720\n",
       "7     29441\n",
       "8     29337\n",
       "6     28315\n",
       "12    10342\n",
       "Name: count, dtype: int64"
      ]
     },
     "execution_count": 200,
     "metadata": {},
     "output_type": "execute_result"
    }
   ],
   "source": [
    "df.activity.value_counts()"
   ]
  },
  {
   "cell_type": "code",
   "execution_count": 201,
   "id": "1f804fe3-fd53-4a26-b0f3-c6d3ab23f648",
   "metadata": {},
   "outputs": [],
   "source": [
    "from sklearn.preprocessing import LabelEncoder\n",
    "\n",
    "le=LabelEncoder()\n",
    "df['activity']=le.fit_transform(df['activity'])"
   ]
  },
  {
   "cell_type": "code",
   "execution_count": 202,
   "id": "df26ee1e-61df-4df0-9d44-829ed8840152",
   "metadata": {},
   "outputs": [
    {
     "data": {
      "text/plain": [
       "activity\n",
       "0     30720\n",
       "1     30720\n",
       "2     30720\n",
       "3     30720\n",
       "4     30720\n",
       "8     30720\n",
       "9     30720\n",
       "10    30720\n",
       "6     29441\n",
       "7     29337\n",
       "5     28315\n",
       "11    10342\n",
       "Name: count, dtype: int64"
      ]
     },
     "execution_count": 202,
     "metadata": {},
     "output_type": "execute_result"
    }
   ],
   "source": [
    "df.activity.value_counts()"
   ]
  },
  {
   "cell_type": "code",
   "execution_count": 203,
   "id": "d17e06cc-fd9e-488e-8dc5-78b3b15f25ee",
   "metadata": {},
   "outputs": [],
   "source": [
    "X = df.drop(['activity', 'subject'], axis=1)\n",
    "y = df['activity']"
   ]
  },
  {
   "cell_type": "code",
   "execution_count": 204,
   "id": "a5744c49-3e2b-4cb2-8dbc-be3fb4fa20ce",
   "metadata": {},
   "outputs": [
    {
     "data": {
      "text/plain": [
       "Index(['acc_ch_x', 'acc_ch_y', 'acc_ch_z', 'acc_la_x', 'acc_la_y', 'acc_la_z',\n",
       "       'gyr_la_x', 'gyr_la_y', 'gyr_la_z', 'mag_la_x', 'mag_la_y', 'mag_la_z',\n",
       "       'acc_rw_x', 'acc_rw_y', 'acc_rw_z', 'gyr_rw_x', 'gyr_rw_y', 'gyr_rw_z',\n",
       "       'mag_rw_x', 'mag_rw_y', 'mag_rw_z'],\n",
       "      dtype='object')"
      ]
     },
     "execution_count": 204,
     "metadata": {},
     "output_type": "execute_result"
    }
   ],
   "source": [
    "X.columns"
   ]
  },
  {
   "cell_type": "code",
   "execution_count": 205,
   "id": "12232ae0-392b-408d-a5f3-e29d7ca18ffd",
   "metadata": {},
   "outputs": [],
   "source": [
    "# Scale full set of predictors\n",
    "X_scaled = StandardScaler().fit_transform(X)"
   ]
  },
  {
   "cell_type": "code",
   "execution_count": 206,
   "id": "51a00eee-f3cb-44ad-acf2-6b28d1636f76",
   "metadata": {},
   "outputs": [],
   "source": [
    "# Create train and test sets\n",
    "X_train, X_test, y_train, y_test = train_test_split(X_scaled, y, test_size=0.25, random_state=1)"
   ]
  },
  {
   "cell_type": "code",
   "execution_count": 207,
   "id": "7b4c04a0-78d0-4e7d-91b7-a611b8cd243b",
   "metadata": {},
   "outputs": [
    {
     "data": {
      "text/plain": [
       "((257396, 21), (85799, 21), (257396,), (85799,))"
      ]
     },
     "execution_count": 207,
     "metadata": {},
     "output_type": "execute_result"
    }
   ],
   "source": [
    "X_train.shape, X_test.shape, y_train.shape, y_test.shape "
   ]
  },
  {
   "cell_type": "code",
   "execution_count": 208,
   "id": "87e966ba-d528-4db2-ab09-227b3ae0a6ea",
   "metadata": {},
   "outputs": [],
   "source": [
    "# Scale train/ test predictors based on training data\n",
    "scaler = StandardScaler().fit(X_train)\n",
    "X_train_scaled = scaler.transform(X_train)\n",
    "X_test_scaled = scaler.transform(X_test)"
   ]
  },
  {
   "cell_type": "code",
   "execution_count": 209,
   "id": "f9742696-f42d-44ce-bb4c-f9c68a31ac02",
   "metadata": {},
   "outputs": [],
   "source": [
    "# Reformat the training data into sequence samples\n",
    "# Source: https://machinelearningmastery.com/how-to-develop-convolutional-neural-network-models-for-time-series-forecasting/\n",
    "\n",
    "def split_sequences(sequences, n_steps):\n",
    "\tX, y = list(), list()\n",
    "\tfor i in range(len(sequences)):\n",
    "\t\t# find the end of this pattern\n",
    "\t\tend_ix = i + n_steps\n",
    "\t\t# check if we are beyond the dataset\n",
    "\t\tif end_ix > len(sequences):\n",
    "\t\t\tbreak\n",
    "\t\t# gather input and output parts of the pattern\n",
    "\t\tseq_x, seq_y = sequences[i:end_ix, :-1], sequences[end_ix-1, -1]\n",
    "\t\tX.append(seq_x)\n",
    "\t\ty.append(seq_y)\n",
    "\treturn array(X), array(y)"
   ]
  },
  {
   "cell_type": "code",
   "execution_count": 210,
   "id": "94bbd688-9be4-498c-a0f1-e527cd16fac3",
   "metadata": {},
   "outputs": [],
   "source": [
    "# Merge train and test X/y data to apply sequence transformation function\n",
    "y_train_array = np.array(y_train)\n",
    "train_set = np.c_[X_train_scaled, y_train_array]\n",
    "\n",
    "y_test_array = np.array(y_test)\n",
    "test_set = np.c_[X_test_scaled, y_test_array]"
   ]
  },
  {
   "cell_type": "code",
   "execution_count": 211,
   "id": "4e7a7f43-e383-4fa3-b77e-53185bf7583d",
   "metadata": {},
   "outputs": [
    {
     "name": "stdout",
     "output_type": "stream",
     "text": [
      "(257372, 25, 21) (257372,)\n",
      "(85775, 25, 21) (85775,)\n"
     ]
    }
   ],
   "source": [
    "# Apply sequence transformation using time step of 25 for both train and test data\n",
    "# All sensing modalities are recorded at a sampling rate of 50 Hz, which is considered sufficient for capturing human activity. \n",
    "\n",
    "X_train_seq, y_train_seq = split_sequences(train_set, 25)\n",
    "print(X_train_seq.shape, y_train_seq.shape)\n",
    "\n",
    "X_test_seq, y_test_seq = split_sequences(test_set, 25)\n",
    "print(X_test_seq.shape, y_test_seq.shape)"
   ]
  },
  {
   "cell_type": "code",
   "execution_count": 212,
   "id": "5b2582b0-54a3-4b4f-8c1e-b81d4d9e753e",
   "metadata": {},
   "outputs": [
    {
     "name": "stdout",
     "output_type": "stream",
     "text": [
      "(257372, 12)\n",
      "(85775, 12)\n"
     ]
    }
   ],
   "source": [
    "# Convert output variables to categorical for CNN\n",
    "y_train_seq = to_categorical(y_train_seq)\n",
    "print(y_train_seq.shape)\n",
    "\n",
    "y_test_seq = to_categorical(y_test_seq)\n",
    "print(y_test_seq.shape)"
   ]
  },
  {
   "cell_type": "code",
   "execution_count": 213,
   "id": "75b6d1fb-c1e5-4bb6-91b3-9db965565d99",
   "metadata": {},
   "outputs": [
    {
     "name": "stdout",
     "output_type": "stream",
     "text": [
      "25 21 12\n"
     ]
    }
   ],
   "source": [
    "# Produce variables for CNN input/output shape\n",
    "n_timesteps, n_features, n_outputs = X_train_seq.shape[1], X_train_seq.shape[2], y_train_seq.shape[1]\n",
    "print(n_timesteps, n_features, n_outputs)"
   ]
  },
  {
   "cell_type": "code",
   "execution_count": 214,
   "id": "bfefdf8f-e6b9-4756-ab5d-3b951ffbf41d",
   "metadata": {},
   "outputs": [
    {
     "name": "stderr",
     "output_type": "stream",
     "text": [
      "C:\\Users\\PC\\anaconda3\\Lib\\site-packages\\keras\\src\\layers\\rnn\\rnn.py:204: UserWarning: Do not pass an `input_shape`/`input_dim` argument to a layer. When using Sequential models, prefer using an `Input(shape)` object as the first layer in the model instead.\n",
      "  super().__init__(**kwargs)\n"
     ]
    }
   ],
   "source": [
    "# Build CNN model using keras. For model building suggestions, referenced:\n",
    "# https://machinelearningmastery.com/deep-learning-models-for-human-activity-recognition/\n",
    "# https://machinelearningmastery.com/how-to-choose-loss-functions-when-training-deep-learning-neural-networks/\n",
    "# https://machinelearningmastery.com/how-to-develop-convolutional-neural-network-models-for-time-series-forecasting/\n",
    "\n",
    "# Sequential model type\n",
    "model = Sequential()\n",
    "model.add(LSTM(units=128, input_shape = (n_timesteps,n_features)))\n",
    "model.add(Dropout(0.5))\n",
    "model.add(Dense(128, activation='relu'))\n",
    "model.add(Dense(n_outputs, activation='softmax'))\n",
    "model.compile(optimizer='adam', metrics=['accuracy'], loss='categorical_crossentropy')"
   ]
  },
  {
   "cell_type": "code",
   "execution_count": 215,
   "id": "4b8e0821-6c98-4f9f-9eda-43bb977ca696",
   "metadata": {},
   "outputs": [
    {
     "data": {
      "text/html": [
       "<pre style=\"white-space:pre;overflow-x:auto;line-height:normal;font-family:Menlo,'DejaVu Sans Mono',consolas,'Courier New',monospace\"><span style=\"font-weight: bold\">Model: \"sequential_4\"</span>\n",
       "</pre>\n"
      ],
      "text/plain": [
       "\u001b[1mModel: \"sequential_4\"\u001b[0m\n"
      ]
     },
     "metadata": {},
     "output_type": "display_data"
    },
    {
     "data": {
      "text/html": [
       "<pre style=\"white-space:pre;overflow-x:auto;line-height:normal;font-family:Menlo,'DejaVu Sans Mono',consolas,'Courier New',monospace\">┏━━━━━━━━━━━━━━━━━━━━━━━━━━━━━━━━━━━━━━┳━━━━━━━━━━━━━━━━━━━━━━━━━━━━━┳━━━━━━━━━━━━━━━━━┓\n",
       "┃<span style=\"font-weight: bold\"> Layer (type)                         </span>┃<span style=\"font-weight: bold\"> Output Shape                </span>┃<span style=\"font-weight: bold\">         Param # </span>┃\n",
       "┡━━━━━━━━━━━━━━━━━━━━━━━━━━━━━━━━━━━━━━╇━━━━━━━━━━━━━━━━━━━━━━━━━━━━━╇━━━━━━━━━━━━━━━━━┩\n",
       "│ lstm_4 (<span style=\"color: #0087ff; text-decoration-color: #0087ff\">LSTM</span>)                        │ (<span style=\"color: #00d7ff; text-decoration-color: #00d7ff\">None</span>, <span style=\"color: #00af00; text-decoration-color: #00af00\">128</span>)                 │          <span style=\"color: #00af00; text-decoration-color: #00af00\">76,800</span> │\n",
       "├──────────────────────────────────────┼─────────────────────────────┼─────────────────┤\n",
       "│ dropout_4 (<span style=\"color: #0087ff; text-decoration-color: #0087ff\">Dropout</span>)                  │ (<span style=\"color: #00d7ff; text-decoration-color: #00d7ff\">None</span>, <span style=\"color: #00af00; text-decoration-color: #00af00\">128</span>)                 │               <span style=\"color: #00af00; text-decoration-color: #00af00\">0</span> │\n",
       "├──────────────────────────────────────┼─────────────────────────────┼─────────────────┤\n",
       "│ dense_8 (<span style=\"color: #0087ff; text-decoration-color: #0087ff\">Dense</span>)                      │ (<span style=\"color: #00d7ff; text-decoration-color: #00d7ff\">None</span>, <span style=\"color: #00af00; text-decoration-color: #00af00\">128</span>)                 │          <span style=\"color: #00af00; text-decoration-color: #00af00\">16,512</span> │\n",
       "├──────────────────────────────────────┼─────────────────────────────┼─────────────────┤\n",
       "│ dense_9 (<span style=\"color: #0087ff; text-decoration-color: #0087ff\">Dense</span>)                      │ (<span style=\"color: #00d7ff; text-decoration-color: #00d7ff\">None</span>, <span style=\"color: #00af00; text-decoration-color: #00af00\">12</span>)                  │           <span style=\"color: #00af00; text-decoration-color: #00af00\">1,548</span> │\n",
       "└──────────────────────────────────────┴─────────────────────────────┴─────────────────┘\n",
       "</pre>\n"
      ],
      "text/plain": [
       "┏━━━━━━━━━━━━━━━━━━━━━━━━━━━━━━━━━━━━━━┳━━━━━━━━━━━━━━━━━━━━━━━━━━━━━┳━━━━━━━━━━━━━━━━━┓\n",
       "┃\u001b[1m \u001b[0m\u001b[1mLayer (type)                        \u001b[0m\u001b[1m \u001b[0m┃\u001b[1m \u001b[0m\u001b[1mOutput Shape               \u001b[0m\u001b[1m \u001b[0m┃\u001b[1m \u001b[0m\u001b[1m        Param #\u001b[0m\u001b[1m \u001b[0m┃\n",
       "┡━━━━━━━━━━━━━━━━━━━━━━━━━━━━━━━━━━━━━━╇━━━━━━━━━━━━━━━━━━━━━━━━━━━━━╇━━━━━━━━━━━━━━━━━┩\n",
       "│ lstm_4 (\u001b[38;5;33mLSTM\u001b[0m)                        │ (\u001b[38;5;45mNone\u001b[0m, \u001b[38;5;34m128\u001b[0m)                 │          \u001b[38;5;34m76,800\u001b[0m │\n",
       "├──────────────────────────────────────┼─────────────────────────────┼─────────────────┤\n",
       "│ dropout_4 (\u001b[38;5;33mDropout\u001b[0m)                  │ (\u001b[38;5;45mNone\u001b[0m, \u001b[38;5;34m128\u001b[0m)                 │               \u001b[38;5;34m0\u001b[0m │\n",
       "├──────────────────────────────────────┼─────────────────────────────┼─────────────────┤\n",
       "│ dense_8 (\u001b[38;5;33mDense\u001b[0m)                      │ (\u001b[38;5;45mNone\u001b[0m, \u001b[38;5;34m128\u001b[0m)                 │          \u001b[38;5;34m16,512\u001b[0m │\n",
       "├──────────────────────────────────────┼─────────────────────────────┼─────────────────┤\n",
       "│ dense_9 (\u001b[38;5;33mDense\u001b[0m)                      │ (\u001b[38;5;45mNone\u001b[0m, \u001b[38;5;34m12\u001b[0m)                  │           \u001b[38;5;34m1,548\u001b[0m │\n",
       "└──────────────────────────────────────┴─────────────────────────────┴─────────────────┘\n"
      ]
     },
     "metadata": {},
     "output_type": "display_data"
    },
    {
     "data": {
      "text/html": [
       "<pre style=\"white-space:pre;overflow-x:auto;line-height:normal;font-family:Menlo,'DejaVu Sans Mono',consolas,'Courier New',monospace\"><span style=\"font-weight: bold\"> Total params: </span><span style=\"color: #00af00; text-decoration-color: #00af00\">94,860</span> (370.55 KB)\n",
       "</pre>\n"
      ],
      "text/plain": [
       "\u001b[1m Total params: \u001b[0m\u001b[38;5;34m94,860\u001b[0m (370.55 KB)\n"
      ]
     },
     "metadata": {},
     "output_type": "display_data"
    },
    {
     "data": {
      "text/html": [
       "<pre style=\"white-space:pre;overflow-x:auto;line-height:normal;font-family:Menlo,'DejaVu Sans Mono',consolas,'Courier New',monospace\"><span style=\"font-weight: bold\"> Trainable params: </span><span style=\"color: #00af00; text-decoration-color: #00af00\">94,860</span> (370.55 KB)\n",
       "</pre>\n"
      ],
      "text/plain": [
       "\u001b[1m Trainable params: \u001b[0m\u001b[38;5;34m94,860\u001b[0m (370.55 KB)\n"
      ]
     },
     "metadata": {},
     "output_type": "display_data"
    },
    {
     "data": {
      "text/html": [
       "<pre style=\"white-space:pre;overflow-x:auto;line-height:normal;font-family:Menlo,'DejaVu Sans Mono',consolas,'Courier New',monospace\"><span style=\"font-weight: bold\"> Non-trainable params: </span><span style=\"color: #00af00; text-decoration-color: #00af00\">0</span> (0.00 B)\n",
       "</pre>\n"
      ],
      "text/plain": [
       "\u001b[1m Non-trainable params: \u001b[0m\u001b[38;5;34m0\u001b[0m (0.00 B)\n"
      ]
     },
     "metadata": {},
     "output_type": "display_data"
    }
   ],
   "source": [
    "\n",
    "model.summary()"
   ]
  },
  {
   "cell_type": "code",
   "execution_count": 216,
   "id": "1146269c-169f-4ff9-8689-931a59ef200e",
   "metadata": {},
   "outputs": [
    {
     "name": "stdout",
     "output_type": "stream",
     "text": [
      "Epoch 1/10\n",
      "\u001b[1m8043/8043\u001b[0m \u001b[32m━━━━━━━━━━━━━━━━━━━━\u001b[0m\u001b[37m\u001b[0m \u001b[1m51s\u001b[0m 6ms/step - accuracy: 0.7571 - loss: 0.7060\n",
      "Epoch 2/10\n",
      "\u001b[1m8043/8043\u001b[0m \u001b[32m━━━━━━━━━━━━━━━━━━━━\u001b[0m\u001b[37m\u001b[0m \u001b[1m48s\u001b[0m 6ms/step - accuracy: 0.9312 - loss: 0.1868\n",
      "Epoch 3/10\n",
      "\u001b[1m8043/8043\u001b[0m \u001b[32m━━━━━━━━━━━━━━━━━━━━\u001b[0m\u001b[37m\u001b[0m \u001b[1m48s\u001b[0m 6ms/step - accuracy: 0.9506 - loss: 0.1333\n",
      "Epoch 4/10\n",
      "\u001b[1m8043/8043\u001b[0m \u001b[32m━━━━━━━━━━━━━━━━━━━━\u001b[0m\u001b[37m\u001b[0m \u001b[1m49s\u001b[0m 6ms/step - accuracy: 0.9595 - loss: 0.1119\n",
      "Epoch 5/10\n",
      "\u001b[1m8043/8043\u001b[0m \u001b[32m━━━━━━━━━━━━━━━━━━━━\u001b[0m\u001b[37m\u001b[0m \u001b[1m49s\u001b[0m 6ms/step - accuracy: 0.9647 - loss: 0.0973\n",
      "Epoch 6/10\n",
      "\u001b[1m8043/8043\u001b[0m \u001b[32m━━━━━━━━━━━━━━━━━━━━\u001b[0m\u001b[37m\u001b[0m \u001b[1m49s\u001b[0m 6ms/step - accuracy: 0.9686 - loss: 0.0857\n",
      "Epoch 7/10\n",
      "\u001b[1m8043/8043\u001b[0m \u001b[32m━━━━━━━━━━━━━━━━━━━━\u001b[0m\u001b[37m\u001b[0m \u001b[1m49s\u001b[0m 6ms/step - accuracy: 0.9708 - loss: 0.0792\n",
      "Epoch 8/10\n",
      "\u001b[1m8043/8043\u001b[0m \u001b[32m━━━━━━━━━━━━━━━━━━━━\u001b[0m\u001b[37m\u001b[0m \u001b[1m50s\u001b[0m 6ms/step - accuracy: 0.9730 - loss: 0.0730\n",
      "Epoch 9/10\n",
      "\u001b[1m8043/8043\u001b[0m \u001b[32m━━━━━━━━━━━━━━━━━━━━\u001b[0m\u001b[37m\u001b[0m \u001b[1m49s\u001b[0m 6ms/step - accuracy: 0.9747 - loss: 0.0700\n",
      "Epoch 10/10\n",
      "\u001b[1m8043/8043\u001b[0m \u001b[32m━━━━━━━━━━━━━━━━━━━━\u001b[0m\u001b[37m\u001b[0m \u001b[1m48s\u001b[0m 6ms/step - accuracy: 0.9762 - loss: 0.0661\n"
     ]
    },
    {
     "data": {
      "text/plain": [
       "<keras.src.callbacks.history.History at 0x115299a1ad0>"
      ]
     },
     "execution_count": 216,
     "metadata": {},
     "output_type": "execute_result"
    }
   ],
   "source": [
    "# Fit model on training data with 10 epochs\n",
    "model.fit(X_train_seq, y_train_seq, epochs=10)"
   ]
  },
  {
   "cell_type": "code",
   "execution_count": 234,
   "id": "095ff827-7fba-4097-9c26-e96083a8439d",
   "metadata": {},
   "outputs": [
    {
     "name": "stdout",
     "output_type": "stream",
     "text": [
      "\u001b[1m2681/2681\u001b[0m \u001b[32m━━━━━━━━━━━━━━━━━━━━\u001b[0m\u001b[37m\u001b[0m \u001b[1m9s\u001b[0m 3ms/step - accuracy: 0.9893 - loss: 0.0321\n",
      "0.9888195991516113\n"
     ]
    }
   ],
   "source": [
    "# Evaluate model against test data\n",
    "_, accuracy = model.evaluate(X_test_seq, y_test_seq)\n",
    "print(accuracy)"
   ]
  },
  {
   "cell_type": "code",
   "execution_count": 235,
   "id": "503c93ec-4738-4f88-8a53-bf19d4bf7b39",
   "metadata": {},
   "outputs": [],
   "source": [
    "# Results summarizer function (scores, confusion matrix) for classification results\n",
    "def results_summarizer(y_true, y_pred):\n",
    "    cm = confusion_matrix(y_true, y_pred)\n",
    "    acc = accuracy_score(y_true, y_pred)\n",
    "    prec = precision_score(y_true, y_pred, average='macro')\n",
    "    rec = recall_score(y_true, y_pred, average='macro')\n",
    "    f1 = f1_score(y_true, y_pred, average='macro')\n",
    "\n",
    "    activity_map = {        \n",
    "        0: 'Standing still',\n",
    "        1: 'Sitting and relaxing',\n",
    "        2: 'Lying down',\n",
    "        3: 'Walking',\n",
    "        4: 'Climbing stairs',\n",
    "        5: 'Waist bends forward',\n",
    "        6: 'Frontal elevation of arms',\n",
    "        7: 'Knees bending (crouching)',\n",
    "        8: 'Cycling',\n",
    "        9: 'Jogging',\n",
    "        10: 'Running',\n",
    "        11: 'Jump front & back'\n",
    "    }\n",
    "    plt.figure(figsize=(14, 12))\n",
    "\n",
    "    sns.heatmap(cm,\n",
    "                annot=True,\n",
    "                cmap='Blues',\n",
    "                xticklabels=activity_map.values(),\n",
    "                yticklabels=activity_map.values()\n",
    "               )\n",
    "\n",
    "    plt.title('Confusion Matrix')\n",
    "    plt.xlabel('Predicted Activity')\n",
    "    plt.ylabel('Actual Activity')\n",
    "    plt.show()\n",
    "\n",
    "    print(f'Accuracy Score: ' + '{:.4%}'.format(acc))\n",
    "    print(f'Precision Score: ' + '{:.4%}'.format(prec))\n",
    "    print(f'Recall Score: ' + '{:.4%}'.format(rec))\n",
    "    print(f'F_1 Score: ' + '{:.4%}'.format(f1))"
   ]
  },
  {
   "cell_type": "code",
   "execution_count": 236,
   "id": "f694efa4-fd13-4319-aeba-1a8e0a0a3fe7",
   "metadata": {},
   "outputs": [
    {
     "ename": "ValueError",
     "evalue": "Expected array-like (array or non-string sequence), got None",
     "output_type": "error",
     "traceback": [
      "\u001b[1;31m---------------------------------------------------------------------------\u001b[0m",
      "\u001b[1;31mValueError\u001b[0m                                Traceback (most recent call last)",
      "Cell \u001b[1;32mIn[236], line 4\u001b[0m\n\u001b[0;32m      1\u001b[0m \u001b[38;5;66;03m# Show results\u001b[39;00m\n\u001b[0;32m      2\u001b[0m \u001b[38;5;66;03m# Note: Needed slice test data to 25 and onwards to match predictions due to time step in model\u001b[39;00m\n\u001b[1;32m----> 4\u001b[0m results_summarizer(y_test[\u001b[38;5;241m24\u001b[39m:], y_pred)\n",
      "Cell \u001b[1;32mIn[235], line 3\u001b[0m, in \u001b[0;36mresults_summarizer\u001b[1;34m(y_true, y_pred)\u001b[0m\n\u001b[0;32m      2\u001b[0m \u001b[38;5;28;01mdef\u001b[39;00m \u001b[38;5;21mresults_summarizer\u001b[39m(y_true, y_pred):\n\u001b[1;32m----> 3\u001b[0m     cm \u001b[38;5;241m=\u001b[39m confusion_matrix(y_true, y_pred)\n\u001b[0;32m      4\u001b[0m     acc \u001b[38;5;241m=\u001b[39m accuracy_score(y_true, y_pred)\n\u001b[0;32m      5\u001b[0m     prec \u001b[38;5;241m=\u001b[39m precision_score(y_true, y_pred, average\u001b[38;5;241m=\u001b[39m\u001b[38;5;124m'\u001b[39m\u001b[38;5;124mmacro\u001b[39m\u001b[38;5;124m'\u001b[39m)\n",
      "File \u001b[1;32m~\\anaconda3\\Lib\\site-packages\\sklearn\\metrics\\_classification.py:317\u001b[0m, in \u001b[0;36mconfusion_matrix\u001b[1;34m(y_true, y_pred, labels, sample_weight, normalize)\u001b[0m\n\u001b[0;32m    232\u001b[0m \u001b[38;5;28;01mdef\u001b[39;00m \u001b[38;5;21mconfusion_matrix\u001b[39m(\n\u001b[0;32m    233\u001b[0m     y_true, y_pred, \u001b[38;5;241m*\u001b[39m, labels\u001b[38;5;241m=\u001b[39m\u001b[38;5;28;01mNone\u001b[39;00m, sample_weight\u001b[38;5;241m=\u001b[39m\u001b[38;5;28;01mNone\u001b[39;00m, normalize\u001b[38;5;241m=\u001b[39m\u001b[38;5;28;01mNone\u001b[39;00m\n\u001b[0;32m    234\u001b[0m ):\n\u001b[0;32m    235\u001b[0m \u001b[38;5;250m    \u001b[39m\u001b[38;5;124;03m\"\"\"Compute confusion matrix to evaluate the accuracy of a classification.\u001b[39;00m\n\u001b[0;32m    236\u001b[0m \n\u001b[0;32m    237\u001b[0m \u001b[38;5;124;03m    By definition a confusion matrix :math:`C` is such that :math:`C_{i, j}`\u001b[39;00m\n\u001b[1;32m   (...)\u001b[0m\n\u001b[0;32m    315\u001b[0m \u001b[38;5;124;03m    (0, 2, 1, 1)\u001b[39;00m\n\u001b[0;32m    316\u001b[0m \u001b[38;5;124;03m    \"\"\"\u001b[39;00m\n\u001b[1;32m--> 317\u001b[0m     y_type, y_true, y_pred \u001b[38;5;241m=\u001b[39m _check_targets(y_true, y_pred)\n\u001b[0;32m    318\u001b[0m     \u001b[38;5;28;01mif\u001b[39;00m y_type \u001b[38;5;129;01mnot\u001b[39;00m \u001b[38;5;129;01min\u001b[39;00m (\u001b[38;5;124m\"\u001b[39m\u001b[38;5;124mbinary\u001b[39m\u001b[38;5;124m\"\u001b[39m, \u001b[38;5;124m\"\u001b[39m\u001b[38;5;124mmulticlass\u001b[39m\u001b[38;5;124m\"\u001b[39m):\n\u001b[0;32m    319\u001b[0m         \u001b[38;5;28;01mraise\u001b[39;00m \u001b[38;5;167;01mValueError\u001b[39;00m(\u001b[38;5;124m\"\u001b[39m\u001b[38;5;132;01m%s\u001b[39;00m\u001b[38;5;124m is not supported\u001b[39m\u001b[38;5;124m\"\u001b[39m \u001b[38;5;241m%\u001b[39m y_type)\n",
      "File \u001b[1;32m~\\anaconda3\\Lib\\site-packages\\sklearn\\metrics\\_classification.py:88\u001b[0m, in \u001b[0;36m_check_targets\u001b[1;34m(y_true, y_pred)\u001b[0m\n\u001b[0;32m     86\u001b[0m check_consistent_length(y_true, y_pred)\n\u001b[0;32m     87\u001b[0m type_true \u001b[38;5;241m=\u001b[39m type_of_target(y_true, input_name\u001b[38;5;241m=\u001b[39m\u001b[38;5;124m\"\u001b[39m\u001b[38;5;124my_true\u001b[39m\u001b[38;5;124m\"\u001b[39m)\n\u001b[1;32m---> 88\u001b[0m type_pred \u001b[38;5;241m=\u001b[39m type_of_target(y_pred, input_name\u001b[38;5;241m=\u001b[39m\u001b[38;5;124m\"\u001b[39m\u001b[38;5;124my_pred\u001b[39m\u001b[38;5;124m\"\u001b[39m)\n\u001b[0;32m     90\u001b[0m y_type \u001b[38;5;241m=\u001b[39m {type_true, type_pred}\n\u001b[0;32m     91\u001b[0m \u001b[38;5;28;01mif\u001b[39;00m y_type \u001b[38;5;241m==\u001b[39m {\u001b[38;5;124m\"\u001b[39m\u001b[38;5;124mbinary\u001b[39m\u001b[38;5;124m\"\u001b[39m, \u001b[38;5;124m\"\u001b[39m\u001b[38;5;124mmulticlass\u001b[39m\u001b[38;5;124m\"\u001b[39m}:\n",
      "File \u001b[1;32m~\\anaconda3\\Lib\\site-packages\\sklearn\\utils\\multiclass.py:301\u001b[0m, in \u001b[0;36mtype_of_target\u001b[1;34m(y, input_name)\u001b[0m\n\u001b[0;32m    294\u001b[0m valid \u001b[38;5;241m=\u001b[39m (\n\u001b[0;32m    295\u001b[0m     (\u001b[38;5;28misinstance\u001b[39m(y, Sequence) \u001b[38;5;129;01mor\u001b[39;00m issparse(y) \u001b[38;5;129;01mor\u001b[39;00m \u001b[38;5;28mhasattr\u001b[39m(y, \u001b[38;5;124m\"\u001b[39m\u001b[38;5;124m__array__\u001b[39m\u001b[38;5;124m\"\u001b[39m))\n\u001b[0;32m    296\u001b[0m     \u001b[38;5;129;01mand\u001b[39;00m \u001b[38;5;129;01mnot\u001b[39;00m \u001b[38;5;28misinstance\u001b[39m(y, \u001b[38;5;28mstr\u001b[39m)\n\u001b[0;32m    297\u001b[0m     \u001b[38;5;129;01mor\u001b[39;00m is_array_api\n\u001b[0;32m    298\u001b[0m )\n\u001b[0;32m    300\u001b[0m \u001b[38;5;28;01mif\u001b[39;00m \u001b[38;5;129;01mnot\u001b[39;00m valid:\n\u001b[1;32m--> 301\u001b[0m     \u001b[38;5;28;01mraise\u001b[39;00m \u001b[38;5;167;01mValueError\u001b[39;00m(\n\u001b[0;32m    302\u001b[0m         \u001b[38;5;124m\"\u001b[39m\u001b[38;5;124mExpected array-like (array or non-string sequence), got \u001b[39m\u001b[38;5;132;01m%r\u001b[39;00m\u001b[38;5;124m\"\u001b[39m \u001b[38;5;241m%\u001b[39m y\n\u001b[0;32m    303\u001b[0m     )\n\u001b[0;32m    305\u001b[0m sparse_pandas \u001b[38;5;241m=\u001b[39m y\u001b[38;5;241m.\u001b[39m\u001b[38;5;18m__class__\u001b[39m\u001b[38;5;241m.\u001b[39m\u001b[38;5;18m__name__\u001b[39m \u001b[38;5;129;01min\u001b[39;00m [\u001b[38;5;124m\"\u001b[39m\u001b[38;5;124mSparseSeries\u001b[39m\u001b[38;5;124m\"\u001b[39m, \u001b[38;5;124m\"\u001b[39m\u001b[38;5;124mSparseArray\u001b[39m\u001b[38;5;124m\"\u001b[39m]\n\u001b[0;32m    306\u001b[0m \u001b[38;5;28;01mif\u001b[39;00m sparse_pandas:\n",
      "\u001b[1;31mValueError\u001b[0m: Expected array-like (array or non-string sequence), got None"
     ]
    }
   ],
   "source": [
    "# Show results\n",
    "# Note: Needed slice test data to 25 and onwards to match predictions due to time step in model\n",
    "\n",
    "results_summarizer(y_test[24:], y_pred)"
   ]
  },
  {
   "cell_type": "code",
   "execution_count": null,
   "id": "4d858334-609d-4f9d-b10b-335e9b2eed61",
   "metadata": {},
   "outputs": [],
   "source": [
    "from sklearn.metrics import confusion_matrix, classification_report\n",
    " \n",
    "print(classification_report(y_test[24:], true))\n",
    "print('*'*50)\n",
    "print(confusion_matrix(y_test[24:], y_true))"
   ]
  },
  {
   "cell_type": "code",
   "execution_count": null,
   "id": "0b7c83df-73bf-4484-b5e8-3e79ecd28a5d",
   "metadata": {},
   "outputs": [],
   "source": []
  }
 ],
 "metadata": {
  "kernelspec": {
   "display_name": "Python 3 (ipykernel)",
   "language": "python",
   "name": "python3"
  },
  "language_info": {
   "codemirror_mode": {
    "name": "ipython",
    "version": 3
   },
   "file_extension": ".py",
   "mimetype": "text/x-python",
   "name": "python",
   "nbconvert_exporter": "python",
   "pygments_lexer": "ipython3",
   "version": "3.11.7"
  }
 },
 "nbformat": 4,
 "nbformat_minor": 5
}
